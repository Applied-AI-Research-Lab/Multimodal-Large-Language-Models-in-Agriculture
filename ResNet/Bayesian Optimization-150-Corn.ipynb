{
 "nbformat": 4,
 "nbformat_minor": 0,
 "metadata": {
  "colab": {
   "provenance": [],
   "gpuType": "A100",
   "authorship_tag": "ABX9TyPTekKeEbz2VhGvK0ig0aKm"
  },
  "kernelspec": {
   "name": "python3",
   "display_name": "Python 3"
  },
  "language_info": {
   "name": "python"
  },
  "accelerator": "GPU"
 },
 "cells": [
  {
   "cell_type": "code",
   "execution_count": 1,
   "metadata": {
    "colab": {
     "base_uri": "https://localhost:8080/"
    },
    "id": "m5-Chg9X2SkH",
    "executionInfo": {
     "status": "ok",
     "timestamp": 1742455832583,
     "user_tz": -120,
     "elapsed": 3158455,
     "user": {
      "displayName": "Konstantinos Roumeliotis",
      "userId": "17264923090131634662"
     }
    },
    "outputId": "2688f63d-f6fa-4204-c1fa-a99307d89f7b"
   },
   "outputs": [
    {
     "output_type": "stream",
     "name": "stdout",
     "text": [
      "Requirement already satisfied: torch in /usr/local/lib/python3.11/dist-packages (2.6.0+cu124)\n",
      "Requirement already satisfied: torchvision in /usr/local/lib/python3.11/dist-packages (0.21.0+cu124)\n",
      "Requirement already satisfied: pandas in /usr/local/lib/python3.11/dist-packages (2.2.2)\n",
      "Requirement already satisfied: pillow in /usr/local/lib/python3.11/dist-packages (11.1.0)\n",
      "Requirement already satisfied: scikit-learn in /usr/local/lib/python3.11/dist-packages (1.6.1)\n",
      "Collecting optuna\n",
      "  Downloading optuna-4.2.1-py3-none-any.whl.metadata (17 kB)\n",
      "Requirement already satisfied: tqdm in /usr/local/lib/python3.11/dist-packages (4.67.1)\n",
      "Requirement already satisfied: filelock in /usr/local/lib/python3.11/dist-packages (from torch) (3.17.0)\n",
      "Requirement already satisfied: typing-extensions>=4.10.0 in /usr/local/lib/python3.11/dist-packages (from torch) (4.12.2)\n",
      "Requirement already satisfied: networkx in /usr/local/lib/python3.11/dist-packages (from torch) (3.4.2)\n",
      "Requirement already satisfied: jinja2 in /usr/local/lib/python3.11/dist-packages (from torch) (3.1.6)\n",
      "Requirement already satisfied: fsspec in /usr/local/lib/python3.11/dist-packages (from torch) (2024.10.0)\n",
      "Collecting nvidia-cuda-nvrtc-cu12==12.4.127 (from torch)\n",
      "  Downloading nvidia_cuda_nvrtc_cu12-12.4.127-py3-none-manylinux2014_x86_64.whl.metadata (1.5 kB)\n",
      "Collecting nvidia-cuda-runtime-cu12==12.4.127 (from torch)\n",
      "  Downloading nvidia_cuda_runtime_cu12-12.4.127-py3-none-manylinux2014_x86_64.whl.metadata (1.5 kB)\n",
      "Collecting nvidia-cuda-cupti-cu12==12.4.127 (from torch)\n",
      "  Downloading nvidia_cuda_cupti_cu12-12.4.127-py3-none-manylinux2014_x86_64.whl.metadata (1.6 kB)\n",
      "Collecting nvidia-cudnn-cu12==9.1.0.70 (from torch)\n",
      "  Downloading nvidia_cudnn_cu12-9.1.0.70-py3-none-manylinux2014_x86_64.whl.metadata (1.6 kB)\n",
      "Collecting nvidia-cublas-cu12==12.4.5.8 (from torch)\n",
      "  Downloading nvidia_cublas_cu12-12.4.5.8-py3-none-manylinux2014_x86_64.whl.metadata (1.5 kB)\n",
      "Collecting nvidia-cufft-cu12==11.2.1.3 (from torch)\n",
      "  Downloading nvidia_cufft_cu12-11.2.1.3-py3-none-manylinux2014_x86_64.whl.metadata (1.5 kB)\n",
      "Collecting nvidia-curand-cu12==10.3.5.147 (from torch)\n",
      "  Downloading nvidia_curand_cu12-10.3.5.147-py3-none-manylinux2014_x86_64.whl.metadata (1.5 kB)\n",
      "Collecting nvidia-cusolver-cu12==11.6.1.9 (from torch)\n",
      "  Downloading nvidia_cusolver_cu12-11.6.1.9-py3-none-manylinux2014_x86_64.whl.metadata (1.6 kB)\n",
      "Collecting nvidia-cusparse-cu12==12.3.1.170 (from torch)\n",
      "  Downloading nvidia_cusparse_cu12-12.3.1.170-py3-none-manylinux2014_x86_64.whl.metadata (1.6 kB)\n",
      "Requirement already satisfied: nvidia-cusparselt-cu12==0.6.2 in /usr/local/lib/python3.11/dist-packages (from torch) (0.6.2)\n",
      "Requirement already satisfied: nvidia-nccl-cu12==2.21.5 in /usr/local/lib/python3.11/dist-packages (from torch) (2.21.5)\n",
      "Requirement already satisfied: nvidia-nvtx-cu12==12.4.127 in /usr/local/lib/python3.11/dist-packages (from torch) (12.4.127)\n",
      "Collecting nvidia-nvjitlink-cu12==12.4.127 (from torch)\n",
      "  Downloading nvidia_nvjitlink_cu12-12.4.127-py3-none-manylinux2014_x86_64.whl.metadata (1.5 kB)\n",
      "Requirement already satisfied: triton==3.2.0 in /usr/local/lib/python3.11/dist-packages (from torch) (3.2.0)\n",
      "Requirement already satisfied: sympy==1.13.1 in /usr/local/lib/python3.11/dist-packages (from torch) (1.13.1)\n",
      "Requirement already satisfied: mpmath<1.4,>=1.1.0 in /usr/local/lib/python3.11/dist-packages (from sympy==1.13.1->torch) (1.3.0)\n",
      "Requirement already satisfied: numpy in /usr/local/lib/python3.11/dist-packages (from torchvision) (2.0.2)\n",
      "Requirement already satisfied: python-dateutil>=2.8.2 in /usr/local/lib/python3.11/dist-packages (from pandas) (2.8.2)\n",
      "Requirement already satisfied: pytz>=2020.1 in /usr/local/lib/python3.11/dist-packages (from pandas) (2025.1)\n",
      "Requirement already satisfied: tzdata>=2022.7 in /usr/local/lib/python3.11/dist-packages (from pandas) (2025.1)\n",
      "Requirement already satisfied: scipy>=1.6.0 in /usr/local/lib/python3.11/dist-packages (from scikit-learn) (1.14.1)\n",
      "Requirement already satisfied: joblib>=1.2.0 in /usr/local/lib/python3.11/dist-packages (from scikit-learn) (1.4.2)\n",
      "Requirement already satisfied: threadpoolctl>=3.1.0 in /usr/local/lib/python3.11/dist-packages (from scikit-learn) (3.6.0)\n",
      "Collecting alembic>=1.5.0 (from optuna)\n",
      "  Downloading alembic-1.15.1-py3-none-any.whl.metadata (7.2 kB)\n",
      "Collecting colorlog (from optuna)\n",
      "  Downloading colorlog-6.9.0-py3-none-any.whl.metadata (10 kB)\n",
      "Requirement already satisfied: packaging>=20.0 in /usr/local/lib/python3.11/dist-packages (from optuna) (24.2)\n",
      "Requirement already satisfied: sqlalchemy>=1.4.2 in /usr/local/lib/python3.11/dist-packages (from optuna) (2.0.39)\n",
      "Requirement already satisfied: PyYAML in /usr/local/lib/python3.11/dist-packages (from optuna) (6.0.2)\n",
      "Collecting Mako (from alembic>=1.5.0->optuna)\n",
      "  Downloading Mako-1.3.9-py3-none-any.whl.metadata (2.9 kB)\n",
      "Requirement already satisfied: six>=1.5 in /usr/local/lib/python3.11/dist-packages (from python-dateutil>=2.8.2->pandas) (1.17.0)\n",
      "Requirement already satisfied: greenlet!=0.4.17 in /usr/local/lib/python3.11/dist-packages (from sqlalchemy>=1.4.2->optuna) (3.1.1)\n",
      "Requirement already satisfied: MarkupSafe>=2.0 in /usr/local/lib/python3.11/dist-packages (from jinja2->torch) (3.0.2)\n",
      "Downloading nvidia_cublas_cu12-12.4.5.8-py3-none-manylinux2014_x86_64.whl (363.4 MB)\n",
      "\u001B[2K   \u001B[90m━━━━━━━━━━━━━━━━━━━━━━━━━━━━━━━━━━━━━━━━\u001B[0m \u001B[32m363.4/363.4 MB\u001B[0m \u001B[31m3.6 MB/s\u001B[0m eta \u001B[36m0:00:00\u001B[0m\n",
      "\u001B[?25hDownloading nvidia_cuda_cupti_cu12-12.4.127-py3-none-manylinux2014_x86_64.whl (13.8 MB)\n",
      "\u001B[2K   \u001B[90m━━━━━━━━━━━━━━━━━━━━━━━━━━━━━━━━━━━━━━━━\u001B[0m \u001B[32m13.8/13.8 MB\u001B[0m \u001B[31m120.1 MB/s\u001B[0m eta \u001B[36m0:00:00\u001B[0m\n",
      "\u001B[?25hDownloading nvidia_cuda_nvrtc_cu12-12.4.127-py3-none-manylinux2014_x86_64.whl (24.6 MB)\n",
      "\u001B[2K   \u001B[90m━━━━━━━━━━━━━━━━━━━━━━━━━━━━━━━━━━━━━━━━\u001B[0m \u001B[32m24.6/24.6 MB\u001B[0m \u001B[31m88.9 MB/s\u001B[0m eta \u001B[36m0:00:00\u001B[0m\n",
      "\u001B[?25hDownloading nvidia_cuda_runtime_cu12-12.4.127-py3-none-manylinux2014_x86_64.whl (883 kB)\n",
      "\u001B[2K   \u001B[90m━━━━━━━━━━━━━━━━━━━━━━━━━━━━━━━━━━━━━━━━\u001B[0m \u001B[32m883.7/883.7 kB\u001B[0m \u001B[31m57.1 MB/s\u001B[0m eta \u001B[36m0:00:00\u001B[0m\n",
      "\u001B[?25hDownloading nvidia_cudnn_cu12-9.1.0.70-py3-none-manylinux2014_x86_64.whl (664.8 MB)\n",
      "\u001B[2K   \u001B[90m━━━━━━━━━━━━━━━━━━━━━━━━━━━━━━━━━━━━━━━━\u001B[0m \u001B[32m664.8/664.8 MB\u001B[0m \u001B[31m1.3 MB/s\u001B[0m eta \u001B[36m0:00:00\u001B[0m\n",
      "\u001B[?25hDownloading nvidia_cufft_cu12-11.2.1.3-py3-none-manylinux2014_x86_64.whl (211.5 MB)\n",
      "\u001B[2K   \u001B[90m━━━━━━━━━━━━━━━━━━━━━━━━━━━━━━━━━━━━━━━━\u001B[0m \u001B[32m211.5/211.5 MB\u001B[0m \u001B[31m9.4 MB/s\u001B[0m eta \u001B[36m0:00:00\u001B[0m\n",
      "\u001B[?25hDownloading nvidia_curand_cu12-10.3.5.147-py3-none-manylinux2014_x86_64.whl (56.3 MB)\n",
      "\u001B[2K   \u001B[90m━━━━━━━━━━━━━━━━━━━━━━━━━━━━━━━━━━━━━━━━\u001B[0m \u001B[32m56.3/56.3 MB\u001B[0m \u001B[31m37.1 MB/s\u001B[0m eta \u001B[36m0:00:00\u001B[0m\n",
      "\u001B[?25hDownloading nvidia_cusolver_cu12-11.6.1.9-py3-none-manylinux2014_x86_64.whl (127.9 MB)\n",
      "\u001B[2K   \u001B[90m━━━━━━━━━━━━━━━━━━━━━━━━━━━━━━━━━━━━━━━━\u001B[0m \u001B[32m127.9/127.9 MB\u001B[0m \u001B[31m16.4 MB/s\u001B[0m eta \u001B[36m0:00:00\u001B[0m\n",
      "\u001B[?25hDownloading nvidia_cusparse_cu12-12.3.1.170-py3-none-manylinux2014_x86_64.whl (207.5 MB)\n",
      "\u001B[2K   \u001B[90m━━━━━━━━━━━━━━━━━━━━━━━━━━━━━━━━━━━━━━━━\u001B[0m \u001B[32m207.5/207.5 MB\u001B[0m \u001B[31m3.0 MB/s\u001B[0m eta \u001B[36m0:00:00\u001B[0m\n",
      "\u001B[?25hDownloading nvidia_nvjitlink_cu12-12.4.127-py3-none-manylinux2014_x86_64.whl (21.1 MB)\n",
      "\u001B[2K   \u001B[90m━━━━━━━━━━━━━━━━━━━━━━━━━━━━━━━━━━━━━━━━\u001B[0m \u001B[32m21.1/21.1 MB\u001B[0m \u001B[31m98.9 MB/s\u001B[0m eta \u001B[36m0:00:00\u001B[0m\n",
      "\u001B[?25hDownloading optuna-4.2.1-py3-none-any.whl (383 kB)\n",
      "\u001B[2K   \u001B[90m━━━━━━━━━━━━━━━━━━━━━━━━━━━━━━━━━━━━━━━━\u001B[0m \u001B[32m383.6/383.6 kB\u001B[0m \u001B[31m30.4 MB/s\u001B[0m eta \u001B[36m0:00:00\u001B[0m\n",
      "\u001B[?25hDownloading alembic-1.15.1-py3-none-any.whl (231 kB)\n",
      "\u001B[2K   \u001B[90m━━━━━━━━━━━━━━━━━━━━━━━━━━━━━━━━━━━━━━━━\u001B[0m \u001B[32m231.8/231.8 kB\u001B[0m \u001B[31m19.4 MB/s\u001B[0m eta \u001B[36m0:00:00\u001B[0m\n",
      "\u001B[?25hDownloading colorlog-6.9.0-py3-none-any.whl (11 kB)\n",
      "Downloading Mako-1.3.9-py3-none-any.whl (78 kB)\n",
      "\u001B[2K   \u001B[90m━━━━━━━━━━━━━━━━━━━━━━━━━━━━━━━━━━━━━━━━\u001B[0m \u001B[32m78.5/78.5 kB\u001B[0m \u001B[31m7.2 MB/s\u001B[0m eta \u001B[36m0:00:00\u001B[0m\n",
      "\u001B[?25hInstalling collected packages: nvidia-nvjitlink-cu12, nvidia-curand-cu12, nvidia-cufft-cu12, nvidia-cuda-runtime-cu12, nvidia-cuda-nvrtc-cu12, nvidia-cuda-cupti-cu12, nvidia-cublas-cu12, Mako, colorlog, nvidia-cusparse-cu12, nvidia-cudnn-cu12, alembic, optuna, nvidia-cusolver-cu12\n",
      "  Attempting uninstall: nvidia-nvjitlink-cu12\n",
      "    Found existing installation: nvidia-nvjitlink-cu12 12.5.82\n",
      "    Uninstalling nvidia-nvjitlink-cu12-12.5.82:\n",
      "      Successfully uninstalled nvidia-nvjitlink-cu12-12.5.82\n",
      "  Attempting uninstall: nvidia-curand-cu12\n",
      "    Found existing installation: nvidia-curand-cu12 10.3.6.82\n",
      "    Uninstalling nvidia-curand-cu12-10.3.6.82:\n",
      "      Successfully uninstalled nvidia-curand-cu12-10.3.6.82\n",
      "  Attempting uninstall: nvidia-cufft-cu12\n",
      "    Found existing installation: nvidia-cufft-cu12 11.2.3.61\n",
      "    Uninstalling nvidia-cufft-cu12-11.2.3.61:\n",
      "      Successfully uninstalled nvidia-cufft-cu12-11.2.3.61\n",
      "  Attempting uninstall: nvidia-cuda-runtime-cu12\n",
      "    Found existing installation: nvidia-cuda-runtime-cu12 12.5.82\n",
      "    Uninstalling nvidia-cuda-runtime-cu12-12.5.82:\n",
      "      Successfully uninstalled nvidia-cuda-runtime-cu12-12.5.82\n",
      "  Attempting uninstall: nvidia-cuda-nvrtc-cu12\n",
      "    Found existing installation: nvidia-cuda-nvrtc-cu12 12.5.82\n",
      "    Uninstalling nvidia-cuda-nvrtc-cu12-12.5.82:\n",
      "      Successfully uninstalled nvidia-cuda-nvrtc-cu12-12.5.82\n",
      "  Attempting uninstall: nvidia-cuda-cupti-cu12\n",
      "    Found existing installation: nvidia-cuda-cupti-cu12 12.5.82\n",
      "    Uninstalling nvidia-cuda-cupti-cu12-12.5.82:\n",
      "      Successfully uninstalled nvidia-cuda-cupti-cu12-12.5.82\n",
      "  Attempting uninstall: nvidia-cublas-cu12\n",
      "    Found existing installation: nvidia-cublas-cu12 12.5.3.2\n",
      "    Uninstalling nvidia-cublas-cu12-12.5.3.2:\n",
      "      Successfully uninstalled nvidia-cublas-cu12-12.5.3.2\n",
      "  Attempting uninstall: nvidia-cusparse-cu12\n",
      "    Found existing installation: nvidia-cusparse-cu12 12.5.1.3\n",
      "    Uninstalling nvidia-cusparse-cu12-12.5.1.3:\n",
      "      Successfully uninstalled nvidia-cusparse-cu12-12.5.1.3\n",
      "  Attempting uninstall: nvidia-cudnn-cu12\n",
      "    Found existing installation: nvidia-cudnn-cu12 9.3.0.75\n",
      "    Uninstalling nvidia-cudnn-cu12-9.3.0.75:\n",
      "      Successfully uninstalled nvidia-cudnn-cu12-9.3.0.75\n",
      "  Attempting uninstall: nvidia-cusolver-cu12\n",
      "    Found existing installation: nvidia-cusolver-cu12 11.6.3.83\n",
      "    Uninstalling nvidia-cusolver-cu12-11.6.3.83:\n",
      "      Successfully uninstalled nvidia-cusolver-cu12-11.6.3.83\n",
      "Successfully installed Mako-1.3.9 alembic-1.15.1 colorlog-6.9.0 nvidia-cublas-cu12-12.4.5.8 nvidia-cuda-cupti-cu12-12.4.127 nvidia-cuda-nvrtc-cu12-12.4.127 nvidia-cuda-runtime-cu12-12.4.127 nvidia-cudnn-cu12-9.1.0.70 nvidia-cufft-cu12-11.2.1.3 nvidia-curand-cu12-10.3.5.147 nvidia-cusolver-cu12-11.6.1.9 nvidia-cusparse-cu12-12.3.1.170 nvidia-nvjitlink-cu12-12.4.127 optuna-4.2.1\n",
      "Mounted at /content/gdrive\n",
      "Using device: cuda\n",
      "GPU: NVIDIA A100-SXM4-40GB\n",
      "Memory Allocated: 0.00 GB\n",
      "Memory Reserved: 0.00 GB\n",
      "Total Memory: 42.47 GB\n"
     ]
    },
    {
     "output_type": "stream",
     "name": "stderr",
     "text": [
      "[I 2025-03-20 06:39:38,717] A new study created in memory with name: no-name-9a9a7c50-e128-4f58-9cf4-4f09d91a9484\n"
     ]
    },
    {
     "output_type": "stream",
     "name": "stdout",
     "text": [
      "Label encoding saved to /content/gdrive/My Drive/Projects/Multimodal/Datasets/corn-label_to_idx-150.json\n",
      "Number of classes: 4\n",
      "Running 30 trials with larger batch sizes to maximize GPU usage\n"
     ]
    },
    {
     "output_type": "stream",
     "name": "stderr",
     "text": [
      "Downloading: \"https://download.pytorch.org/models/resnet50-0676ba61.pth\" to /root/.cache/torch/hub/checkpoints/resnet50-0676ba61.pth\n",
      "100%|██████████| 97.8M/97.8M [00:00<00:00, 202MB/s]\n",
      "<ipython-input-1-21fc38e4e397>:313: FutureWarning: `torch.cuda.amp.GradScaler(args...)` is deprecated. Please use `torch.amp.GradScaler('cuda', args...)` instead.\n",
      "  scaler = amp.GradScaler()\n",
      "Training:   0%|          | 0/4 [00:00<?, ?it/s]<ipython-input-1-21fc38e4e397>:230: FutureWarning: `torch.cuda.amp.autocast(args...)` is deprecated. Please use `torch.amp.autocast('cuda', args...)` instead.\n",
      "  with amp.autocast():\n",
      "Training: 100%|██████████| 4/4 [00:48<00:00, 12.01s/it]\n",
      "<ipython-input-1-21fc38e4e397>:256: FutureWarning: `torch.cuda.amp.autocast(args...)` is deprecated. Please use `torch.amp.autocast('cuda', args...)` instead.\n",
      "  with torch.no_grad(), amp.autocast():\n",
      "Validating: 100%|██████████| 1/1 [00:45<00:00, 45.84s/it]\n"
     ]
    },
    {
     "output_type": "stream",
     "name": "stdout",
     "text": [
      "Epoch 1, Train Loss: 1.4710, Train Acc: 0.2754, Val Loss: 1.4176, Val Acc: 0.2188\n",
      "GPU Memory: 0.11GB / 42.47GB\n"
     ]
    },
    {
     "output_type": "stream",
     "name": "stderr",
     "text": [
      "Training: 100%|██████████| 4/4 [00:36<00:00,  9.03s/it]\n",
      "Validating: 100%|██████████| 1/1 [00:00<00:00,  2.71it/s]\n"
     ]
    },
    {
     "output_type": "stream",
     "name": "stdout",
     "text": [
      "Epoch 2, Train Loss: 1.4596, Train Acc: 0.2520, Val Loss: 1.4166, Val Acc: 0.2500\n",
      "GPU Memory: 0.11GB / 42.47GB\n"
     ]
    },
    {
     "output_type": "stream",
     "name": "stderr",
     "text": [
      "Training: 100%|██████████| 4/4 [00:28<00:00,  7.06s/it]\n",
      "Validating: 100%|██████████| 1/1 [00:00<00:00,  2.93it/s]\n"
     ]
    },
    {
     "output_type": "stream",
     "name": "stdout",
     "text": [
      "Epoch 3, Train Loss: 1.4331, Train Acc: 0.2520, Val Loss: 1.3991, Val Acc: 0.2656\n",
      "GPU Memory: 0.11GB / 42.47GB\n"
     ]
    },
    {
     "output_type": "stream",
     "name": "stderr",
     "text": [
      "Training: 100%|██████████| 4/4 [00:21<00:00,  5.31s/it]\n",
      "Validating: 100%|██████████| 1/1 [00:00<00:00,  2.88it/s]\n"
     ]
    },
    {
     "output_type": "stream",
     "name": "stdout",
     "text": [
      "Epoch 4, Train Loss: 1.4144, Train Acc: 0.2793, Val Loss: 1.3827, Val Acc: 0.2969\n",
      "GPU Memory: 0.11GB / 42.47GB\n"
     ]
    },
    {
     "output_type": "stream",
     "name": "stderr",
     "text": [
      "Training: 100%|██████████| 4/4 [00:15<00:00,  3.76s/it]\n",
      "Validating: 100%|██████████| 1/1 [00:00<00:00,  2.88it/s]\n"
     ]
    },
    {
     "output_type": "stream",
     "name": "stdout",
     "text": [
      "Epoch 5, Train Loss: 1.4012, Train Acc: 0.2949, Val Loss: 1.3710, Val Acc: 0.3359\n",
      "GPU Memory: 0.11GB / 42.47GB\n"
     ]
    },
    {
     "output_type": "stream",
     "name": "stderr",
     "text": [
      "Training: 100%|██████████| 4/4 [00:13<00:00,  3.42s/it]\n",
      "Validating: 100%|██████████| 1/1 [00:00<00:00,  2.91it/s]\n"
     ]
    },
    {
     "output_type": "stream",
     "name": "stdout",
     "text": [
      "Epoch 6, Train Loss: 1.4261, Train Acc: 0.2734, Val Loss: 1.3619, Val Acc: 0.3359\n",
      "GPU Memory: 0.11GB / 42.47GB\n"
     ]
    },
    {
     "output_type": "stream",
     "name": "stderr",
     "text": [
      "Training: 100%|██████████| 4/4 [00:10<00:00,  2.60s/it]\n",
      "Validating: 100%|██████████| 1/1 [00:00<00:00,  2.94it/s]\n"
     ]
    },
    {
     "output_type": "stream",
     "name": "stdout",
     "text": [
      "Epoch 7, Train Loss: 1.3925, Train Acc: 0.2832, Val Loss: 1.3561, Val Acc: 0.3516\n",
      "GPU Memory: 0.11GB / 42.47GB\n"
     ]
    },
    {
     "output_type": "stream",
     "name": "stderr",
     "text": [
      "Training: 100%|██████████| 4/4 [00:08<00:00,  2.09s/it]\n",
      "Validating: 100%|██████████| 1/1 [00:00<00:00,  2.91it/s]\n"
     ]
    },
    {
     "output_type": "stream",
     "name": "stdout",
     "text": [
      "Epoch 8, Train Loss: 1.4080, Train Acc: 0.2793, Val Loss: 1.3506, Val Acc: 0.3828\n",
      "GPU Memory: 0.11GB / 42.47GB\n"
     ]
    },
    {
     "output_type": "stream",
     "name": "stderr",
     "text": [
      "Training: 100%|██████████| 4/4 [00:06<00:00,  1.56s/it]\n",
      "Validating: 100%|██████████| 1/1 [00:00<00:00,  2.94it/s]\n"
     ]
    },
    {
     "output_type": "stream",
     "name": "stdout",
     "text": [
      "Epoch 9, Train Loss: 1.3960, Train Acc: 0.2852, Val Loss: 1.3451, Val Acc: 0.3672\n",
      "GPU Memory: 0.11GB / 42.47GB\n"
     ]
    },
    {
     "output_type": "stream",
     "name": "stderr",
     "text": [
      "Training: 100%|██████████| 4/4 [00:04<00:00,  1.12s/it]\n",
      "Validating: 100%|██████████| 1/1 [00:00<00:00,  2.89it/s]\n",
      "[I 2025-03-20 06:43:42,546] Trial 0 finished with value: 0.3828125 and parameters: {'batch_size': 128, 'learning_rate': 2.1010882623540563e-05, 'dropout_rate': 0.4987190691474953, 'weight_decay': 0.00014158168241863974}. Best is trial 0 with value: 0.3828125.\n"
     ]
    },
    {
     "output_type": "stream",
     "name": "stdout",
     "text": [
      "Epoch 10, Train Loss: 1.3596, Train Acc: 0.3105, Val Loss: 1.3397, Val Acc: 0.3594\n",
      "GPU Memory: 0.11GB / 42.47GB\n"
     ]
    },
    {
     "output_type": "stream",
     "name": "stderr",
     "text": [
      "<ipython-input-1-21fc38e4e397>:313: FutureWarning: `torch.cuda.amp.GradScaler(args...)` is deprecated. Please use `torch.amp.GradScaler('cuda', args...)` instead.\n",
      "  scaler = amp.GradScaler()\n",
      "Training:   0%|          | 0/8 [00:00<?, ?it/s]<ipython-input-1-21fc38e4e397>:230: FutureWarning: `torch.cuda.amp.autocast(args...)` is deprecated. Please use `torch.amp.autocast('cuda', args...)` instead.\n",
      "  with amp.autocast():\n",
      "Training: 100%|██████████| 8/8 [00:23<00:00,  2.92s/it]\n",
      "<ipython-input-1-21fc38e4e397>:256: FutureWarning: `torch.cuda.amp.autocast(args...)` is deprecated. Please use `torch.amp.autocast('cuda', args...)` instead.\n",
      "  with torch.no_grad(), amp.autocast():\n",
      "Validating: 100%|██████████| 2/2 [00:24<00:00, 12.05s/it]\n"
     ]
    },
    {
     "output_type": "stream",
     "name": "stdout",
     "text": [
      "Epoch 1, Train Loss: 1.3286, Train Acc: 0.3555, Val Loss: 1.1342, Val Acc: 0.6250\n",
      "GPU Memory: 0.11GB / 42.47GB\n"
     ]
    },
    {
     "output_type": "stream",
     "name": "stderr",
     "text": [
      "Training: 100%|██████████| 8/8 [00:21<00:00,  2.71s/it]\n",
      "Validating: 100%|██████████| 2/2 [00:00<00:00,  9.27it/s]\n"
     ]
    },
    {
     "output_type": "stream",
     "name": "stdout",
     "text": [
      "Epoch 2, Train Loss: 1.1352, Train Acc: 0.5293, Val Loss: 0.9778, Val Acc: 0.6797\n",
      "GPU Memory: 0.11GB / 42.47GB\n"
     ]
    },
    {
     "output_type": "stream",
     "name": "stderr",
     "text": [
      "Training: 100%|██████████| 8/8 [00:20<00:00,  2.50s/it]\n",
      "Validating: 100%|██████████| 2/2 [00:00<00:00, 10.53it/s]\n"
     ]
    },
    {
     "output_type": "stream",
     "name": "stdout",
     "text": [
      "Epoch 3, Train Loss: 0.9937, Train Acc: 0.6406, Val Loss: 0.8502, Val Acc: 0.7891\n",
      "GPU Memory: 0.11GB / 42.47GB\n"
     ]
    },
    {
     "output_type": "stream",
     "name": "stderr",
     "text": [
      "Training: 100%|██████████| 8/8 [00:16<00:00,  2.05s/it]\n",
      "Validating: 100%|██████████| 2/2 [00:00<00:00, 10.26it/s]\n"
     ]
    },
    {
     "output_type": "stream",
     "name": "stdout",
     "text": [
      "Epoch 4, Train Loss: 0.9087, Train Acc: 0.6797, Val Loss: 0.8029, Val Acc: 0.7266\n",
      "GPU Memory: 0.11GB / 42.47GB\n"
     ]
    },
    {
     "output_type": "stream",
     "name": "stderr",
     "text": [
      "Training: 100%|██████████| 8/8 [00:15<00:00,  1.88s/it]\n",
      "Validating: 100%|██████████| 2/2 [00:00<00:00, 10.17it/s]\n"
     ]
    },
    {
     "output_type": "stream",
     "name": "stdout",
     "text": [
      "Epoch 5, Train Loss: 0.8345, Train Acc: 0.7070, Val Loss: 0.7083, Val Acc: 0.7812\n",
      "GPU Memory: 0.11GB / 42.47GB\n"
     ]
    },
    {
     "output_type": "stream",
     "name": "stderr",
     "text": [
      "Training: 100%|██████████| 8/8 [00:12<00:00,  1.58s/it]\n",
      "Validating: 100%|██████████| 2/2 [00:00<00:00, 10.16it/s]\n"
     ]
    },
    {
     "output_type": "stream",
     "name": "stdout",
     "text": [
      "Epoch 6, Train Loss: 0.7581, Train Acc: 0.7363, Val Loss: 0.6558, Val Acc: 0.8125\n",
      "GPU Memory: 0.11GB / 42.47GB\n"
     ]
    },
    {
     "output_type": "stream",
     "name": "stderr",
     "text": [
      "Training: 100%|██████████| 8/8 [00:12<00:00,  1.54s/it]\n",
      "Validating: 100%|██████████| 2/2 [00:00<00:00,  9.48it/s]\n"
     ]
    },
    {
     "output_type": "stream",
     "name": "stdout",
     "text": [
      "Epoch 7, Train Loss: 0.7007, Train Acc: 0.7598, Val Loss: 0.6348, Val Acc: 0.7891\n",
      "GPU Memory: 0.11GB / 42.47GB\n"
     ]
    },
    {
     "output_type": "stream",
     "name": "stderr",
     "text": [
      "Training: 100%|██████████| 8/8 [00:13<00:00,  1.68s/it]\n",
      "Validating: 100%|██████████| 2/2 [00:00<00:00, 10.35it/s]\n"
     ]
    },
    {
     "output_type": "stream",
     "name": "stdout",
     "text": [
      "Epoch 8, Train Loss: 0.6573, Train Acc: 0.7910, Val Loss: 0.5759, Val Acc: 0.8281\n",
      "GPU Memory: 0.11GB / 42.47GB\n"
     ]
    },
    {
     "output_type": "stream",
     "name": "stderr",
     "text": [
      "Training: 100%|██████████| 8/8 [00:10<00:00,  1.33s/it]\n",
      "Validating: 100%|██████████| 2/2 [00:00<00:00, 10.24it/s]\n"
     ]
    },
    {
     "output_type": "stream",
     "name": "stdout",
     "text": [
      "Epoch 9, Train Loss: 0.6253, Train Acc: 0.8008, Val Loss: 0.5841, Val Acc: 0.7969\n",
      "GPU Memory: 0.11GB / 42.47GB\n"
     ]
    },
    {
     "output_type": "stream",
     "name": "stderr",
     "text": [
      "Training: 100%|██████████| 8/8 [00:07<00:00,  1.02it/s]\n",
      "Validating: 100%|██████████| 2/2 [00:00<00:00,  9.43it/s]\n"
     ]
    },
    {
     "output_type": "stream",
     "name": "stdout",
     "text": [
      "Epoch 10, Train Loss: 0.6462, Train Acc: 0.7559, Val Loss: 0.5255, Val Acc: 0.8594\n",
      "GPU Memory: 0.11GB / 42.47GB\n"
     ]
    },
    {
     "output_type": "stream",
     "name": "stderr",
     "text": [
      "[I 2025-03-20 06:46:43,899] Trial 1 finished with value: 0.859375 and parameters: {'batch_size': 64, 'learning_rate': 0.0005896994014605296, 'dropout_rate': 0.5680905482762781, 'weight_decay': 0.00023219198676951189}. Best is trial 1 with value: 0.859375.\n",
      "<ipython-input-1-21fc38e4e397>:313: FutureWarning: `torch.cuda.amp.GradScaler(args...)` is deprecated. Please use `torch.amp.GradScaler('cuda', args...)` instead.\n",
      "  scaler = amp.GradScaler()\n",
      "Training:   0%|          | 0/2 [00:00<?, ?it/s]<ipython-input-1-21fc38e4e397>:230: FutureWarning: `torch.cuda.amp.autocast(args...)` is deprecated. Please use `torch.amp.autocast('cuda', args...)` instead.\n",
      "  with amp.autocast():\n",
      "Training: 100%|██████████| 2/2 [01:32<00:00, 46.08s/it]\n",
      "<ipython-input-1-21fc38e4e397>:256: FutureWarning: `torch.cuda.amp.autocast(args...)` is deprecated. Please use `torch.amp.autocast('cuda', args...)` instead.\n",
      "  with torch.no_grad(), amp.autocast():\n",
      "Validating: 100%|██████████| 1/1 [00:45<00:00, 45.80s/it]\n"
     ]
    },
    {
     "output_type": "stream",
     "name": "stdout",
     "text": [
      "Epoch 1, Train Loss: 1.5250, Train Acc: 0.2129, Val Loss: 1.3701, Val Acc: 0.2969\n",
      "GPU Memory: 0.21GB / 42.47GB\n"
     ]
    },
    {
     "output_type": "stream",
     "name": "stderr",
     "text": [
      "Training: 100%|██████████| 2/2 [00:45<00:00, 22.96s/it]\n",
      "Validating: 100%|██████████| 1/1 [00:00<00:00,  2.63it/s]\n"
     ]
    },
    {
     "output_type": "stream",
     "name": "stdout",
     "text": [
      "Epoch 2, Train Loss: 1.4783, Train Acc: 0.2500, Val Loss: 1.3570, Val Acc: 0.2656\n",
      "GPU Memory: 0.21GB / 42.47GB\n"
     ]
    },
    {
     "output_type": "stream",
     "name": "stderr",
     "text": [
      "Training: 100%|██████████| 2/2 [00:23<00:00, 11.84s/it]\n",
      "Validating: 100%|██████████| 1/1 [00:00<00:00,  2.92it/s]\n"
     ]
    },
    {
     "output_type": "stream",
     "name": "stdout",
     "text": [
      "Epoch 3, Train Loss: 1.4263, Train Acc: 0.2871, Val Loss: 1.3431, Val Acc: 0.2969\n",
      "GPU Memory: 0.21GB / 42.47GB\n"
     ]
    },
    {
     "output_type": "stream",
     "name": "stderr",
     "text": [
      "Training: 100%|██████████| 2/2 [00:13<00:00,  6.97s/it]\n",
      "Validating: 100%|██████████| 1/1 [00:00<00:00,  2.91it/s]\n"
     ]
    },
    {
     "output_type": "stream",
     "name": "stdout",
     "text": [
      "Epoch 4, Train Loss: 1.4167, Train Acc: 0.2949, Val Loss: 1.3264, Val Acc: 0.3594\n",
      "GPU Memory: 0.21GB / 42.47GB\n"
     ]
    },
    {
     "output_type": "stream",
     "name": "stderr",
     "text": [
      "Training: 100%|██████████| 2/2 [00:06<00:00,  3.45s/it]\n",
      "Validating: 100%|██████████| 1/1 [00:00<00:00,  2.87it/s]\n"
     ]
    },
    {
     "output_type": "stream",
     "name": "stdout",
     "text": [
      "Epoch 5, Train Loss: 1.4238, Train Acc: 0.2773, Val Loss: 1.3069, Val Acc: 0.4141\n",
      "GPU Memory: 0.21GB / 42.47GB\n"
     ]
    },
    {
     "output_type": "stream",
     "name": "stderr",
     "text": [
      "Training: 100%|██████████| 2/2 [00:04<00:00,  2.39s/it]\n",
      "Validating: 100%|██████████| 1/1 [00:00<00:00,  2.92it/s]\n"
     ]
    },
    {
     "output_type": "stream",
     "name": "stdout",
     "text": [
      "Epoch 6, Train Loss: 1.4324, Train Acc: 0.2559, Val Loss: 1.2872, Val Acc: 0.5156\n",
      "GPU Memory: 0.21GB / 42.47GB\n"
     ]
    },
    {
     "output_type": "stream",
     "name": "stderr",
     "text": [
      "Training: 100%|██████████| 2/2 [00:03<00:00,  1.52s/it]\n",
      "Validating: 100%|██████████| 1/1 [00:00<00:00,  2.90it/s]\n"
     ]
    },
    {
     "output_type": "stream",
     "name": "stdout",
     "text": [
      "Epoch 7, Train Loss: 1.4121, Train Acc: 0.2910, Val Loss: 1.2680, Val Acc: 0.5469\n",
      "GPU Memory: 0.21GB / 42.47GB\n"
     ]
    },
    {
     "output_type": "stream",
     "name": "stderr",
     "text": [
      "Training: 100%|██████████| 2/2 [00:02<00:00,  1.22s/it]\n",
      "Validating: 100%|██████████| 1/1 [00:00<00:00,  2.91it/s]\n"
     ]
    },
    {
     "output_type": "stream",
     "name": "stdout",
     "text": [
      "Epoch 8, Train Loss: 1.4148, Train Acc: 0.3125, Val Loss: 1.2519, Val Acc: 0.5547\n",
      "GPU Memory: 0.21GB / 42.47GB\n"
     ]
    },
    {
     "output_type": "stream",
     "name": "stderr",
     "text": [
      "Training: 100%|██████████| 2/2 [00:01<00:00,  1.24it/s]\n",
      "Validating: 100%|██████████| 1/1 [00:00<00:00,  2.92it/s]\n"
     ]
    },
    {
     "output_type": "stream",
     "name": "stdout",
     "text": [
      "Epoch 9, Train Loss: 1.3456, Train Acc: 0.3418, Val Loss: 1.2375, Val Acc: 0.5703\n",
      "GPU Memory: 0.21GB / 42.47GB\n"
     ]
    },
    {
     "output_type": "stream",
     "name": "stderr",
     "text": [
      "Training: 100%|██████████| 2/2 [00:01<00:00,  1.05it/s]\n",
      "Validating: 100%|██████████| 1/1 [00:00<00:00,  2.82it/s]\n"
     ]
    },
    {
     "output_type": "stream",
     "name": "stdout",
     "text": [
      "Epoch 10, Train Loss: 1.3603, Train Acc: 0.3301, Val Loss: 1.2231, Val Acc: 0.6094\n",
      "GPU Memory: 0.21GB / 42.47GB\n"
     ]
    },
    {
     "output_type": "stream",
     "name": "stderr",
     "text": [
      "[I 2025-03-20 06:50:51,697] Trial 2 finished with value: 0.609375 and parameters: {'batch_size': 256, 'learning_rate': 0.00011498985635186809, 'dropout_rate': 0.6838310502116627, 'weight_decay': 0.0007792233860803548}. Best is trial 1 with value: 0.859375.\n",
      "<ipython-input-1-21fc38e4e397>:313: FutureWarning: `torch.cuda.amp.GradScaler(args...)` is deprecated. Please use `torch.amp.GradScaler('cuda', args...)` instead.\n",
      "  scaler = amp.GradScaler()\n",
      "Training:   0%|          | 0/4 [00:00<?, ?it/s]<ipython-input-1-21fc38e4e397>:230: FutureWarning: `torch.cuda.amp.autocast(args...)` is deprecated. Please use `torch.amp.autocast('cuda', args...)` instead.\n",
      "  with amp.autocast():\n",
      "Training: 100%|██████████| 4/4 [00:46<00:00, 11.59s/it]\n",
      "<ipython-input-1-21fc38e4e397>:256: FutureWarning: `torch.cuda.amp.autocast(args...)` is deprecated. Please use `torch.amp.autocast('cuda', args...)` instead.\n",
      "  with torch.no_grad(), amp.autocast():\n",
      "Validating: 100%|██████████| 1/1 [00:46<00:00, 46.19s/it]\n"
     ]
    },
    {
     "output_type": "stream",
     "name": "stdout",
     "text": [
      "Epoch 1, Train Loss: 1.4227, Train Acc: 0.2578, Val Loss: 1.4156, Val Acc: 0.2422\n",
      "GPU Memory: 0.21GB / 42.47GB\n"
     ]
    },
    {
     "output_type": "stream",
     "name": "stderr",
     "text": [
      "Training: 100%|██████████| 4/4 [00:35<00:00,  8.95s/it]\n",
      "Validating: 100%|██████████| 1/1 [00:00<00:00,  2.61it/s]\n"
     ]
    },
    {
     "output_type": "stream",
     "name": "stdout",
     "text": [
      "Epoch 2, Train Loss: 1.4211, Train Acc: 0.2246, Val Loss: 1.4016, Val Acc: 0.2422\n",
      "GPU Memory: 0.21GB / 42.47GB\n"
     ]
    },
    {
     "output_type": "stream",
     "name": "stderr",
     "text": [
      "Training: 100%|██████████| 4/4 [00:29<00:00,  7.26s/it]\n",
      "Validating: 100%|██████████| 1/1 [00:00<00:00,  2.71it/s]\n"
     ]
    },
    {
     "output_type": "stream",
     "name": "stdout",
     "text": [
      "Epoch 3, Train Loss: 1.3946, Train Acc: 0.2637, Val Loss: 1.3928, Val Acc: 0.2188\n",
      "GPU Memory: 0.21GB / 42.47GB\n"
     ]
    },
    {
     "output_type": "stream",
     "name": "stderr",
     "text": [
      "Training: 100%|██████████| 4/4 [00:19<00:00,  4.92s/it]\n",
      "Validating: 100%|██████████| 1/1 [00:00<00:00,  2.94it/s]\n",
      "[I 2025-03-20 06:53:50,700] Trial 3 finished with value: 0.2421875 and parameters: {'batch_size': 128, 'learning_rate': 4.640357322499083e-05, 'dropout_rate': 0.23917129916489321, 'weight_decay': 5.883775621066863e-05}. Best is trial 1 with value: 0.859375.\n"
     ]
    },
    {
     "output_type": "stream",
     "name": "stdout",
     "text": [
      "Epoch 4, Train Loss: 1.3758, Train Acc: 0.3125, Val Loss: 1.3818, Val Acc: 0.2344\n",
      "GPU Memory: 0.21GB / 42.47GB\n",
      "Early stopping at epoch 4\n"
     ]
    },
    {
     "output_type": "stream",
     "name": "stderr",
     "text": [
      "<ipython-input-1-21fc38e4e397>:313: FutureWarning: `torch.cuda.amp.GradScaler(args...)` is deprecated. Please use `torch.amp.GradScaler('cuda', args...)` instead.\n",
      "  scaler = amp.GradScaler()\n",
      "Training:   0%|          | 0/32 [00:00<?, ?it/s]<ipython-input-1-21fc38e4e397>:230: FutureWarning: `torch.cuda.amp.autocast(args...)` is deprecated. Please use `torch.amp.autocast('cuda', args...)` instead.\n",
      "  with amp.autocast():\n",
      "Training: 100%|██████████| 32/32 [00:23<00:00,  1.38it/s]\n",
      "<ipython-input-1-21fc38e4e397>:256: FutureWarning: `torch.cuda.amp.autocast(args...)` is deprecated. Please use `torch.amp.autocast('cuda', args...)` instead.\n",
      "  with torch.no_grad(), amp.autocast():\n",
      "Validating: 100%|██████████| 8/8 [00:06<00:00,  1.29it/s]\n"
     ]
    },
    {
     "output_type": "stream",
     "name": "stdout",
     "text": [
      "Epoch 1, Train Loss: 1.3701, Train Acc: 0.3105, Val Loss: 1.2457, Val Acc: 0.4844\n",
      "GPU Memory: 0.21GB / 42.47GB\n"
     ]
    },
    {
     "output_type": "stream",
     "name": "stderr",
     "text": [
      "Training: 100%|██████████| 32/32 [00:20<00:00,  1.54it/s]\n",
      "Validating: 100%|██████████| 8/8 [00:00<00:00, 53.03it/s]\n"
     ]
    },
    {
     "output_type": "stream",
     "name": "stdout",
     "text": [
      "Epoch 2, Train Loss: 1.2467, Train Acc: 0.4512, Val Loss: 1.1241, Val Acc: 0.6484\n",
      "GPU Memory: 0.21GB / 42.47GB\n"
     ]
    },
    {
     "output_type": "stream",
     "name": "stderr",
     "text": [
      "Training: 100%|██████████| 32/32 [00:19<00:00,  1.63it/s]\n",
      "Validating: 100%|██████████| 8/8 [00:00<00:00, 60.14it/s]\n"
     ]
    },
    {
     "output_type": "stream",
     "name": "stdout",
     "text": [
      "Epoch 3, Train Loss: 1.1447, Train Acc: 0.5195, Val Loss: 1.0439, Val Acc: 0.5625\n",
      "GPU Memory: 0.21GB / 42.47GB\n"
     ]
    },
    {
     "output_type": "stream",
     "name": "stderr",
     "text": [
      "Training: 100%|██████████| 32/32 [00:16<00:00,  1.89it/s]\n",
      "Validating: 100%|██████████| 8/8 [00:00<00:00, 56.94it/s]\n"
     ]
    },
    {
     "output_type": "stream",
     "name": "stdout",
     "text": [
      "Epoch 4, Train Loss: 1.0690, Train Acc: 0.6035, Val Loss: 0.9768, Val Acc: 0.7266\n",
      "GPU Memory: 0.21GB / 42.47GB\n"
     ]
    },
    {
     "output_type": "stream",
     "name": "stderr",
     "text": [
      "Training: 100%|██████████| 32/32 [00:14<00:00,  2.24it/s]\n",
      "Validating: 100%|██████████| 8/8 [00:00<00:00, 52.75it/s]\n"
     ]
    },
    {
     "output_type": "stream",
     "name": "stdout",
     "text": [
      "Epoch 5, Train Loss: 1.0071, Train Acc: 0.6309, Val Loss: 0.9282, Val Acc: 0.5703\n",
      "GPU Memory: 0.21GB / 42.47GB\n"
     ]
    },
    {
     "output_type": "stream",
     "name": "stderr",
     "text": [
      "Training: 100%|██████████| 32/32 [00:13<00:00,  2.40it/s]\n",
      "Validating: 100%|██████████| 8/8 [00:00<00:00, 50.74it/s]\n"
     ]
    },
    {
     "output_type": "stream",
     "name": "stdout",
     "text": [
      "Epoch 6, Train Loss: 0.9376, Train Acc: 0.6699, Val Loss: 0.8346, Val Acc: 0.8281\n",
      "GPU Memory: 0.21GB / 42.47GB\n"
     ]
    },
    {
     "output_type": "stream",
     "name": "stderr",
     "text": [
      "Training: 100%|██████████| 32/32 [00:13<00:00,  2.34it/s]\n",
      "Validating: 100%|██████████| 8/8 [00:00<00:00, 57.22it/s]\n"
     ]
    },
    {
     "output_type": "stream",
     "name": "stdout",
     "text": [
      "Epoch 7, Train Loss: 0.9016, Train Acc: 0.6816, Val Loss: 0.7945, Val Acc: 0.7500\n",
      "GPU Memory: 0.21GB / 42.47GB\n"
     ]
    },
    {
     "output_type": "stream",
     "name": "stderr",
     "text": [
      "Training: 100%|██████████| 32/32 [00:10<00:00,  2.93it/s]\n",
      "Validating: 100%|██████████| 8/8 [00:00<00:00, 57.33it/s]\n"
     ]
    },
    {
     "output_type": "stream",
     "name": "stdout",
     "text": [
      "Epoch 8, Train Loss: 0.8397, Train Acc: 0.7559, Val Loss: 0.7668, Val Acc: 0.7031\n",
      "GPU Memory: 0.21GB / 42.47GB\n"
     ]
    },
    {
     "output_type": "stream",
     "name": "stderr",
     "text": [
      "Training: 100%|██████████| 32/32 [00:10<00:00,  3.13it/s]\n",
      "Validating: 100%|██████████| 8/8 [00:00<00:00, 51.53it/s]\n",
      "[I 2025-03-20 06:56:22,545] Trial 4 finished with value: 0.828125 and parameters: {'batch_size': 16, 'learning_rate': 0.0001459255384359482, 'dropout_rate': 0.3515179968796186, 'weight_decay': 1.4980183258900475e-05}. Best is trial 1 with value: 0.859375.\n"
     ]
    },
    {
     "output_type": "stream",
     "name": "stdout",
     "text": [
      "Epoch 9, Train Loss: 0.8188, Train Acc: 0.7598, Val Loss: 0.7120, Val Acc: 0.7734\n",
      "GPU Memory: 0.21GB / 42.47GB\n",
      "Early stopping at epoch 9\n"
     ]
    },
    {
     "output_type": "stream",
     "name": "stderr",
     "text": [
      "<ipython-input-1-21fc38e4e397>:313: FutureWarning: `torch.cuda.amp.GradScaler(args...)` is deprecated. Please use `torch.amp.GradScaler('cuda', args...)` instead.\n",
      "  scaler = amp.GradScaler()\n",
      "Training:   0%|          | 0/4 [00:00<?, ?it/s]<ipython-input-1-21fc38e4e397>:230: FutureWarning: `torch.cuda.amp.autocast(args...)` is deprecated. Please use `torch.amp.autocast('cuda', args...)` instead.\n",
      "  with amp.autocast():\n",
      "Training: 100%|██████████| 4/4 [00:46<00:00, 11.53s/it]\n",
      "<ipython-input-1-21fc38e4e397>:256: FutureWarning: `torch.cuda.amp.autocast(args...)` is deprecated. Please use `torch.amp.autocast('cuda', args...)` instead.\n",
      "  with torch.no_grad(), amp.autocast():\n",
      "Validating: 100%|██████████| 1/1 [00:46<00:00, 46.10s/it]\n",
      "[I 2025-03-20 06:57:55,285] Trial 5 pruned. \n"
     ]
    },
    {
     "output_type": "stream",
     "name": "stdout",
     "text": [
      "Epoch 1, Train Loss: 1.4872, Train Acc: 0.2754, Val Loss: 1.3733, Val Acc: 0.2500\n",
      "GPU Memory: 0.21GB / 42.47GB\n"
     ]
    },
    {
     "output_type": "stream",
     "name": "stderr",
     "text": [
      "<ipython-input-1-21fc38e4e397>:313: FutureWarning: `torch.cuda.amp.GradScaler(args...)` is deprecated. Please use `torch.amp.GradScaler('cuda', args...)` instead.\n",
      "  scaler = amp.GradScaler()\n",
      "Training:   0%|          | 0/4 [00:00<?, ?it/s]<ipython-input-1-21fc38e4e397>:230: FutureWarning: `torch.cuda.amp.autocast(args...)` is deprecated. Please use `torch.amp.autocast('cuda', args...)` instead.\n",
      "  with amp.autocast():\n",
      "Training: 100%|██████████| 4/4 [00:46<00:00, 11.54s/it]\n",
      "<ipython-input-1-21fc38e4e397>:256: FutureWarning: `torch.cuda.amp.autocast(args...)` is deprecated. Please use `torch.amp.autocast('cuda', args...)` instead.\n",
      "  with torch.no_grad(), amp.autocast():\n",
      "Validating: 100%|██████████| 1/1 [00:46<00:00, 46.04s/it]\n",
      "[I 2025-03-20 06:59:28,120] Trial 6 pruned. \n"
     ]
    },
    {
     "output_type": "stream",
     "name": "stdout",
     "text": [
      "Epoch 1, Train Loss: 1.4475, Train Acc: 0.2383, Val Loss: 1.4318, Val Acc: 0.2188\n",
      "GPU Memory: 0.21GB / 42.47GB\n"
     ]
    },
    {
     "output_type": "stream",
     "name": "stderr",
     "text": [
      "<ipython-input-1-21fc38e4e397>:313: FutureWarning: `torch.cuda.amp.GradScaler(args...)` is deprecated. Please use `torch.amp.GradScaler('cuda', args...)` instead.\n",
      "  scaler = amp.GradScaler()\n",
      "Training:   0%|          | 0/32 [00:00<?, ?it/s]<ipython-input-1-21fc38e4e397>:230: FutureWarning: `torch.cuda.amp.autocast(args...)` is deprecated. Please use `torch.amp.autocast('cuda', args...)` instead.\n",
      "  with amp.autocast():\n",
      "Training: 100%|██████████| 32/32 [00:23<00:00,  1.37it/s]\n",
      "<ipython-input-1-21fc38e4e397>:256: FutureWarning: `torch.cuda.amp.autocast(args...)` is deprecated. Please use `torch.amp.autocast('cuda', args...)` instead.\n",
      "  with torch.no_grad(), amp.autocast():\n",
      "Validating: 100%|██████████| 8/8 [00:05<00:00,  1.33it/s]\n"
     ]
    },
    {
     "output_type": "stream",
     "name": "stdout",
     "text": [
      "Epoch 1, Train Loss: 1.2719, Train Acc: 0.4219, Val Loss: 1.0910, Val Acc: 0.6094\n",
      "GPU Memory: 0.21GB / 42.47GB\n"
     ]
    },
    {
     "output_type": "stream",
     "name": "stderr",
     "text": [
      "Training: 100%|██████████| 32/32 [00:21<00:00,  1.47it/s]\n",
      "Validating: 100%|██████████| 8/8 [00:00<00:00, 61.39it/s]\n"
     ]
    },
    {
     "output_type": "stream",
     "name": "stdout",
     "text": [
      "Epoch 2, Train Loss: 1.0150, Train Acc: 0.6602, Val Loss: 0.8658, Val Acc: 0.8516\n",
      "GPU Memory: 0.21GB / 42.47GB\n"
     ]
    },
    {
     "output_type": "stream",
     "name": "stderr",
     "text": [
      "Training: 100%|██████████| 32/32 [00:18<00:00,  1.72it/s]\n",
      "Validating: 100%|██████████| 8/8 [00:00<00:00, 56.96it/s]\n"
     ]
    },
    {
     "output_type": "stream",
     "name": "stdout",
     "text": [
      "Epoch 3, Train Loss: 0.8987, Train Acc: 0.6895, Val Loss: 0.7614, Val Acc: 0.7422\n",
      "GPU Memory: 0.21GB / 42.47GB\n"
     ]
    },
    {
     "output_type": "stream",
     "name": "stderr",
     "text": [
      "Training: 100%|██████████| 32/32 [00:17<00:00,  1.83it/s]\n",
      "Validating: 100%|██████████| 8/8 [00:00<00:00, 53.92it/s]\n"
     ]
    },
    {
     "output_type": "stream",
     "name": "stdout",
     "text": [
      "Epoch 4, Train Loss: 0.7815, Train Acc: 0.7656, Val Loss: 0.6642, Val Acc: 0.8359\n",
      "GPU Memory: 0.21GB / 42.47GB\n"
     ]
    },
    {
     "output_type": "stream",
     "name": "stderr",
     "text": [
      "Training: 100%|██████████| 32/32 [00:15<00:00,  2.12it/s]\n",
      "Validating: 100%|██████████| 8/8 [00:00<00:00, 55.00it/s]\n"
     ]
    },
    {
     "output_type": "stream",
     "name": "stdout",
     "text": [
      "Epoch 5, Train Loss: 0.7472, Train Acc: 0.7734, Val Loss: 0.5890, Val Acc: 0.8828\n",
      "GPU Memory: 0.21GB / 42.47GB\n"
     ]
    },
    {
     "output_type": "stream",
     "name": "stderr",
     "text": [
      "Training: 100%|██████████| 32/32 [00:14<00:00,  2.18it/s]\n",
      "Validating: 100%|██████████| 8/8 [00:00<00:00, 55.68it/s]\n"
     ]
    },
    {
     "output_type": "stream",
     "name": "stdout",
     "text": [
      "Epoch 6, Train Loss: 0.6891, Train Acc: 0.7930, Val Loss: 0.6261, Val Acc: 0.7812\n",
      "GPU Memory: 0.21GB / 42.47GB\n"
     ]
    },
    {
     "output_type": "stream",
     "name": "stderr",
     "text": [
      "Training: 100%|██████████| 32/32 [00:11<00:00,  2.77it/s]\n",
      "Validating: 100%|██████████| 8/8 [00:00<00:00, 57.59it/s]\n"
     ]
    },
    {
     "output_type": "stream",
     "name": "stdout",
     "text": [
      "Epoch 7, Train Loss: 0.6808, Train Acc: 0.7656, Val Loss: 0.5920, Val Acc: 0.7656\n",
      "GPU Memory: 0.21GB / 42.47GB\n"
     ]
    },
    {
     "output_type": "stream",
     "name": "stderr",
     "text": [
      "Training: 100%|██████████| 32/32 [00:11<00:00,  2.77it/s]\n",
      "Validating: 100%|██████████| 8/8 [00:00<00:00, 58.69it/s]\n",
      "[I 2025-03-20 07:01:50,689] Trial 7 finished with value: 0.8828125 and parameters: {'batch_size': 16, 'learning_rate': 0.00033694443483078525, 'dropout_rate': 0.22675172571920388, 'weight_decay': 0.00010880650775211902}. Best is trial 7 with value: 0.8828125.\n"
     ]
    },
    {
     "output_type": "stream",
     "name": "stdout",
     "text": [
      "Epoch 8, Train Loss: 0.6150, Train Acc: 0.8145, Val Loss: 0.5232, Val Acc: 0.8203\n",
      "GPU Memory: 0.21GB / 42.47GB\n",
      "Early stopping at epoch 8\n"
     ]
    },
    {
     "output_type": "stream",
     "name": "stderr",
     "text": [
      "<ipython-input-1-21fc38e4e397>:313: FutureWarning: `torch.cuda.amp.GradScaler(args...)` is deprecated. Please use `torch.amp.GradScaler('cuda', args...)` instead.\n",
      "  scaler = amp.GradScaler()\n",
      "Training:   0%|          | 0/2 [00:00<?, ?it/s]<ipython-input-1-21fc38e4e397>:230: FutureWarning: `torch.cuda.amp.autocast(args...)` is deprecated. Please use `torch.amp.autocast('cuda', args...)` instead.\n",
      "  with amp.autocast():\n",
      "Training: 100%|██████████| 2/2 [01:32<00:00, 46.00s/it]\n",
      "<ipython-input-1-21fc38e4e397>:256: FutureWarning: `torch.cuda.amp.autocast(args...)` is deprecated. Please use `torch.amp.autocast('cuda', args...)` instead.\n",
      "  with torch.no_grad(), amp.autocast():\n",
      "Validating: 100%|██████████| 1/1 [00:45<00:00, 45.85s/it]\n",
      "[I 2025-03-20 07:04:09,054] Trial 8 pruned. \n"
     ]
    },
    {
     "output_type": "stream",
     "name": "stdout",
     "text": [
      "Epoch 1, Train Loss: 1.4402, Train Acc: 0.2227, Val Loss: 1.4119, Val Acc: 0.2422\n",
      "GPU Memory: 0.21GB / 42.47GB\n"
     ]
    },
    {
     "output_type": "stream",
     "name": "stderr",
     "text": [
      "<ipython-input-1-21fc38e4e397>:313: FutureWarning: `torch.cuda.amp.GradScaler(args...)` is deprecated. Please use `torch.amp.GradScaler('cuda', args...)` instead.\n",
      "  scaler = amp.GradScaler()\n",
      "Training:   0%|          | 0/16 [00:00<?, ?it/s]<ipython-input-1-21fc38e4e397>:230: FutureWarning: `torch.cuda.amp.autocast(args...)` is deprecated. Please use `torch.amp.autocast('cuda', args...)` instead.\n",
      "  with amp.autocast():\n",
      "Training: 100%|██████████| 16/16 [00:23<00:00,  1.46s/it]\n",
      "<ipython-input-1-21fc38e4e397>:256: FutureWarning: `torch.cuda.amp.autocast(args...)` is deprecated. Please use `torch.amp.autocast('cuda', args...)` instead.\n",
      "  with torch.no_grad(), amp.autocast():\n",
      "Validating: 100%|██████████| 4/4 [00:11<00:00,  2.90s/it]\n"
     ]
    },
    {
     "output_type": "stream",
     "name": "stdout",
     "text": [
      "Epoch 1, Train Loss: 1.2257, Train Acc: 0.4531, Val Loss: 0.9717, Val Acc: 0.6719\n",
      "GPU Memory: 0.21GB / 42.47GB\n"
     ]
    },
    {
     "output_type": "stream",
     "name": "stderr",
     "text": [
      "Training: 100%|██████████| 16/16 [00:21<00:00,  1.32s/it]\n",
      "Validating: 100%|██████████| 4/4 [00:00<00:00, 27.42it/s]\n"
     ]
    },
    {
     "output_type": "stream",
     "name": "stdout",
     "text": [
      "Epoch 2, Train Loss: 0.9467, Train Acc: 0.6562, Val Loss: 0.7335, Val Acc: 0.8047\n",
      "GPU Memory: 0.21GB / 42.47GB\n"
     ]
    },
    {
     "output_type": "stream",
     "name": "stderr",
     "text": [
      "Training: 100%|██████████| 16/16 [00:19<00:00,  1.21s/it]\n",
      "Validating: 100%|██████████| 4/4 [00:00<00:00, 25.41it/s]\n"
     ]
    },
    {
     "output_type": "stream",
     "name": "stdout",
     "text": [
      "Epoch 3, Train Loss: 0.7530, Train Acc: 0.7598, Val Loss: 0.6633, Val Acc: 0.8047\n",
      "GPU Memory: 0.21GB / 42.47GB\n"
     ]
    },
    {
     "output_type": "stream",
     "name": "stderr",
     "text": [
      "Training: 100%|██████████| 16/16 [00:16<00:00,  1.06s/it]\n",
      "Validating: 100%|██████████| 4/4 [00:00<00:00, 29.19it/s]\n"
     ]
    },
    {
     "output_type": "stream",
     "name": "stdout",
     "text": [
      "Epoch 4, Train Loss: 0.6702, Train Acc: 0.7891, Val Loss: 0.7418, Val Acc: 0.6641\n",
      "GPU Memory: 0.21GB / 42.47GB\n"
     ]
    },
    {
     "output_type": "stream",
     "name": "stderr",
     "text": [
      "Training: 100%|██████████| 16/16 [00:16<00:00,  1.01s/it]\n",
      "Validating: 100%|██████████| 4/4 [00:00<00:00, 29.68it/s]\n",
      "[I 2025-03-20 07:05:59,244] Trial 9 finished with value: 0.8046875 and parameters: {'batch_size': 32, 'learning_rate': 0.0008655172463522219, 'dropout_rate': 0.37967200319919814, 'weight_decay': 0.00019590430162788502}. Best is trial 7 with value: 0.8828125.\n"
     ]
    },
    {
     "output_type": "stream",
     "name": "stdout",
     "text": [
      "Epoch 5, Train Loss: 0.6083, Train Acc: 0.7891, Val Loss: 0.5901, Val Acc: 0.7734\n",
      "GPU Memory: 0.21GB / 42.47GB\n",
      "Early stopping at epoch 5\n"
     ]
    },
    {
     "output_type": "stream",
     "name": "stderr",
     "text": [
      "<ipython-input-1-21fc38e4e397>:313: FutureWarning: `torch.cuda.amp.GradScaler(args...)` is deprecated. Please use `torch.amp.GradScaler('cuda', args...)` instead.\n",
      "  scaler = amp.GradScaler()\n",
      "Training:   0%|          | 0/32 [00:00<?, ?it/s]<ipython-input-1-21fc38e4e397>:230: FutureWarning: `torch.cuda.amp.autocast(args...)` is deprecated. Please use `torch.amp.autocast('cuda', args...)` instead.\n",
      "  with amp.autocast():\n",
      "Training: 100%|██████████| 32/32 [00:23<00:00,  1.37it/s]\n",
      "<ipython-input-1-21fc38e4e397>:256: FutureWarning: `torch.cuda.amp.autocast(args...)` is deprecated. Please use `torch.amp.autocast('cuda', args...)` instead.\n",
      "  with torch.no_grad(), amp.autocast():\n",
      "Validating: 100%|██████████| 8/8 [00:05<00:00,  1.34it/s]\n"
     ]
    },
    {
     "output_type": "stream",
     "name": "stdout",
     "text": [
      "Epoch 1, Train Loss: 1.3448, Train Acc: 0.3242, Val Loss: 1.1620, Val Acc: 0.5703\n",
      "GPU Memory: 0.21GB / 42.47GB\n"
     ]
    },
    {
     "output_type": "stream",
     "name": "stderr",
     "text": [
      "Training: 100%|██████████| 32/32 [00:21<00:00,  1.50it/s]\n",
      "Validating: 100%|██████████| 8/8 [00:00<00:00, 55.34it/s]\n"
     ]
    },
    {
     "output_type": "stream",
     "name": "stdout",
     "text": [
      "Epoch 2, Train Loss: 1.1175, Train Acc: 0.5645, Val Loss: 0.9071, Val Acc: 0.7891\n",
      "GPU Memory: 0.21GB / 42.47GB\n"
     ]
    },
    {
     "output_type": "stream",
     "name": "stderr",
     "text": [
      "Training: 100%|██████████| 32/32 [00:19<00:00,  1.63it/s]\n",
      "Validating: 100%|██████████| 8/8 [00:00<00:00, 53.67it/s]\n"
     ]
    },
    {
     "output_type": "stream",
     "name": "stdout",
     "text": [
      "Epoch 3, Train Loss: 0.9246, Train Acc: 0.7207, Val Loss: 0.8187, Val Acc: 0.6406\n",
      "GPU Memory: 0.21GB / 42.47GB\n"
     ]
    },
    {
     "output_type": "stream",
     "name": "stderr",
     "text": [
      "Training: 100%|██████████| 32/32 [00:17<00:00,  1.78it/s]\n",
      "Validating: 100%|██████████| 8/8 [00:00<00:00, 59.13it/s]\n"
     ]
    },
    {
     "output_type": "stream",
     "name": "stdout",
     "text": [
      "Epoch 4, Train Loss: 0.8063, Train Acc: 0.7539, Val Loss: 0.6978, Val Acc: 0.8125\n",
      "GPU Memory: 0.21GB / 42.47GB\n"
     ]
    },
    {
     "output_type": "stream",
     "name": "stderr",
     "text": [
      "Training: 100%|██████████| 32/32 [00:16<00:00,  1.89it/s]\n",
      "Validating: 100%|██████████| 8/8 [00:00<00:00, 54.30it/s]\n"
     ]
    },
    {
     "output_type": "stream",
     "name": "stdout",
     "text": [
      "Epoch 5, Train Loss: 0.7237, Train Acc: 0.7949, Val Loss: 0.6412, Val Acc: 0.8125\n",
      "GPU Memory: 0.21GB / 42.47GB\n"
     ]
    },
    {
     "output_type": "stream",
     "name": "stderr",
     "text": [
      "Training: 100%|██████████| 32/32 [00:14<00:00,  2.17it/s]\n",
      "Validating: 100%|██████████| 8/8 [00:00<00:00, 50.85it/s]\n"
     ]
    },
    {
     "output_type": "stream",
     "name": "stdout",
     "text": [
      "Epoch 6, Train Loss: 0.7125, Train Acc: 0.7617, Val Loss: 0.5607, Val Acc: 0.8516\n",
      "GPU Memory: 0.21GB / 42.47GB\n"
     ]
    },
    {
     "output_type": "stream",
     "name": "stderr",
     "text": [
      "Training: 100%|██████████| 32/32 [00:12<00:00,  2.61it/s]\n",
      "Validating: 100%|██████████| 8/8 [00:00<00:00, 50.19it/s]\n"
     ]
    },
    {
     "output_type": "stream",
     "name": "stdout",
     "text": [
      "Epoch 7, Train Loss: 0.6743, Train Acc: 0.7891, Val Loss: 0.5364, Val Acc: 0.8203\n",
      "GPU Memory: 0.21GB / 42.47GB\n"
     ]
    },
    {
     "output_type": "stream",
     "name": "stderr",
     "text": [
      "Training: 100%|██████████| 32/32 [00:12<00:00,  2.61it/s]\n",
      "Validating: 100%|██████████| 8/8 [00:00<00:00, 54.45it/s]\n"
     ]
    },
    {
     "output_type": "stream",
     "name": "stdout",
     "text": [
      "Epoch 8, Train Loss: 0.6604, Train Acc: 0.7676, Val Loss: 0.5443, Val Acc: 0.7891\n",
      "GPU Memory: 0.21GB / 42.47GB\n"
     ]
    },
    {
     "output_type": "stream",
     "name": "stderr",
     "text": [
      "Training: 100%|██████████| 32/32 [00:11<00:00,  2.84it/s]\n",
      "Validating: 100%|██████████| 8/8 [00:00<00:00, 50.95it/s]\n",
      "[I 2025-03-20 07:08:37,836] Trial 10 finished with value: 0.8515625 and parameters: {'batch_size': 16, 'learning_rate': 0.0003587791515362431, 'dropout_rate': 0.20278811396465785, 'weight_decay': 2.9254261236871295e-05}. Best is trial 7 with value: 0.8828125.\n"
     ]
    },
    {
     "output_type": "stream",
     "name": "stdout",
     "text": [
      "Epoch 9, Train Loss: 0.6537, Train Acc: 0.7559, Val Loss: 0.4686, Val Acc: 0.8516\n",
      "GPU Memory: 0.21GB / 42.47GB\n",
      "Early stopping at epoch 9\n"
     ]
    },
    {
     "output_type": "stream",
     "name": "stderr",
     "text": [
      "<ipython-input-1-21fc38e4e397>:313: FutureWarning: `torch.cuda.amp.GradScaler(args...)` is deprecated. Please use `torch.amp.GradScaler('cuda', args...)` instead.\n",
      "  scaler = amp.GradScaler()\n",
      "Training:   0%|          | 0/8 [00:00<?, ?it/s]<ipython-input-1-21fc38e4e397>:230: FutureWarning: `torch.cuda.amp.autocast(args...)` is deprecated. Please use `torch.amp.autocast('cuda', args...)` instead.\n",
      "  with amp.autocast():\n",
      "Training: 100%|██████████| 8/8 [00:23<00:00,  2.92s/it]\n",
      "<ipython-input-1-21fc38e4e397>:256: FutureWarning: `torch.cuda.amp.autocast(args...)` is deprecated. Please use `torch.amp.autocast('cuda', args...)` instead.\n",
      "  with torch.no_grad(), amp.autocast():\n",
      "Validating: 100%|██████████| 2/2 [00:23<00:00, 11.57s/it]\n",
      "[I 2025-03-20 07:09:24,833] Trial 11 pruned. \n"
     ]
    },
    {
     "output_type": "stream",
     "name": "stdout",
     "text": [
      "Epoch 1, Train Loss: 1.3781, Train Acc: 0.3301, Val Loss: 1.1797, Val Acc: 0.4609\n",
      "GPU Memory: 0.21GB / 42.47GB\n"
     ]
    },
    {
     "output_type": "stream",
     "name": "stderr",
     "text": [
      "<ipython-input-1-21fc38e4e397>:313: FutureWarning: `torch.cuda.amp.GradScaler(args...)` is deprecated. Please use `torch.amp.GradScaler('cuda', args...)` instead.\n",
      "  scaler = amp.GradScaler()\n",
      "Training:   0%|          | 0/8 [00:00<?, ?it/s]<ipython-input-1-21fc38e4e397>:230: FutureWarning: `torch.cuda.amp.autocast(args...)` is deprecated. Please use `torch.amp.autocast('cuda', args...)` instead.\n",
      "  with amp.autocast():\n",
      "Training: 100%|██████████| 8/8 [00:23<00:00,  2.90s/it]\n",
      "<ipython-input-1-21fc38e4e397>:256: FutureWarning: `torch.cuda.amp.autocast(args...)` is deprecated. Please use `torch.amp.autocast('cuda', args...)` instead.\n",
      "  with torch.no_grad(), amp.autocast():\n",
      "Validating: 100%|██████████| 2/2 [00:23<00:00, 11.59s/it]\n"
     ]
    },
    {
     "output_type": "stream",
     "name": "stdout",
     "text": [
      "Epoch 1, Train Loss: 1.4354, Train Acc: 0.2910, Val Loss: 1.2395, Val Acc: 0.5312\n",
      "GPU Memory: 0.21GB / 42.47GB\n"
     ]
    },
    {
     "output_type": "stream",
     "name": "stderr",
     "text": [
      "Training: 100%|██████████| 8/8 [00:20<00:00,  2.59s/it]\n",
      "Validating: 100%|██████████| 2/2 [00:00<00:00,  8.74it/s]\n",
      "[I 2025-03-20 07:10:32,991] Trial 12 pruned. \n"
     ]
    },
    {
     "output_type": "stream",
     "name": "stdout",
     "text": [
      "Epoch 2, Train Loss: 1.2326, Train Acc: 0.4160, Val Loss: 1.1376, Val Acc: 0.5312\n",
      "GPU Memory: 0.21GB / 42.47GB\n"
     ]
    },
    {
     "output_type": "stream",
     "name": "stderr",
     "text": [
      "<ipython-input-1-21fc38e4e397>:313: FutureWarning: `torch.cuda.amp.GradScaler(args...)` is deprecated. Please use `torch.amp.GradScaler('cuda', args...)` instead.\n",
      "  scaler = amp.GradScaler()\n",
      "Training:   0%|          | 0/8 [00:00<?, ?it/s]<ipython-input-1-21fc38e4e397>:230: FutureWarning: `torch.cuda.amp.autocast(args...)` is deprecated. Please use `torch.amp.autocast('cuda', args...)` instead.\n",
      "  with amp.autocast():\n",
      "Training: 100%|██████████| 8/8 [00:23<00:00,  2.93s/it]\n",
      "<ipython-input-1-21fc38e4e397>:256: FutureWarning: `torch.cuda.amp.autocast(args...)` is deprecated. Please use `torch.amp.autocast('cuda', args...)` instead.\n",
      "  with torch.no_grad(), amp.autocast():\n",
      "Validating: 100%|██████████| 2/2 [00:22<00:00, 11.46s/it]\n",
      "[I 2025-03-20 07:11:19,991] Trial 13 pruned. \n"
     ]
    },
    {
     "output_type": "stream",
     "name": "stdout",
     "text": [
      "Epoch 1, Train Loss: 1.2860, Train Acc: 0.3867, Val Loss: 1.1577, Val Acc: 0.4609\n",
      "GPU Memory: 0.30GB / 42.47GB\n"
     ]
    },
    {
     "output_type": "stream",
     "name": "stderr",
     "text": [
      "Exception in thread QueueFeederThread:\n",
      "Traceback (most recent call last):\n",
      "  File \"/usr/lib/python3.11/multiprocessing/queues.py\", line 239, in _feed\n",
      "Exception in thread QueueFeederThread:\n",
      "Traceback (most recent call last):\n",
      "  File \"/usr/lib/python3.11/multiprocessing/queues.py\", line 239, in _feed\n",
      "Exception in thread QueueFeederThread:\n",
      "Traceback (most recent call last):\n",
      "  File \"/usr/lib/python3.11/multiprocessing/queues.py\", line 239, in _feed\n",
      "Exception in thread QueueFeederThread:\n",
      "Traceback (most recent call last):\n",
      "  File \"/usr/lib/python3.11/multiprocessing/queues.py\", line 239, in _feed\n",
      "Exception in thread QueueFeederThread:\n",
      "Traceback (most recent call last):\n",
      "  File \"/usr/lib/python3.11/multiprocessing/queues.py\", line 239, in _feed\n",
      "Exception in thread QueueFeederThread:\n",
      "Traceback (most recent call last):\n",
      "  File \"/usr/lib/python3.11/multiprocessing/queues.py\", line 239, in _feed\n",
      "    reader_close()\n",
      "  File \"/usr/lib/python3.11/multiprocessing/connection.py\", line 178, in close\n",
      "    self._close()\n",
      "  File \"/usr/lib/python3.11/multiprocessing/connection.py\", line 377, in _close\n",
      "    _close(self._handle)\n",
      "OSError: [Errno 9] Bad file descriptor\n",
      "\n",
      "During handling of the above exception, another exception occurred:\n",
      "\n",
      "Traceback (most recent call last):\n",
      "  File \"/usr/lib/python3.11/threading.py\", line 1045, in _bootstrap_inner\n",
      "    reader_close()\n",
      "  File \"/usr/lib/python3.11/multiprocessing/connection.py\", line 178, in close\n",
      "    self._close()\n",
      "  File \"/usr/lib/python3.11/multiprocessing/connection.py\", line 377, in _close\n",
      "    reader_close()\n",
      "  File \"/usr/lib/python3.11/multiprocessing/connection.py\", line 178, in close\n",
      "    reader_close()\n",
      "  File \"/usr/lib/python3.11/multiprocessing/connection.py\", line 178, in close\n",
      "    reader_close()\n",
      "  File \"/usr/lib/python3.11/multiprocessing/connection.py\", line 178, in close\n",
      "    _close(self._handle)\n",
      "OSError: [Errno 9] Bad file descriptor\n",
      "\n",
      "During handling of the above exception, another exception occurred:\n",
      "\n",
      "Traceback (most recent call last):\n",
      "  File \"/usr/lib/python3.11/threading.py\", line 1045, in _bootstrap_inner\n",
      "    self._close()\n",
      "  File \"/usr/lib/python3.11/multiprocessing/connection.py\", line 377, in _close\n",
      "    self._close()\n",
      "  File \"/usr/lib/python3.11/multiprocessing/connection.py\", line 377, in _close\n",
      "    _close(self._handle)\n",
      "OSError: [Errno 9] Bad file descriptor\n",
      "\n",
      "During handling of the above exception, another exception occurred:\n",
      "\n",
      "Traceback (most recent call last):\n",
      "  File \"/usr/lib/python3.11/threading.py\", line 1045, in _bootstrap_inner\n",
      "    _close(self._handle)\n",
      "OSError: [Errno 9] Bad file descriptor\n",
      "\n",
      "During handling of the above exception, another exception occurred:\n",
      "\n",
      "Traceback (most recent call last):\n",
      "  File \"/usr/lib/python3.11/threading.py\", line 1045, in _bootstrap_inner\n",
      "    self.run()\n",
      "  File \"/usr/lib/python3.11/threading.py\", line 982, in run\n",
      "    self.run()\n",
      "  File \"/usr/lib/python3.11/threading.py\", line 982, in run\n",
      "    self.run()\n",
      "  File \"/usr/lib/python3.11/threading.py\", line 982, in run\n",
      "    self.run()\n",
      "  File \"/usr/lib/python3.11/threading.py\", line 982, in run\n",
      "    self._target(*self._args, **self._kwargs)\n",
      "  File \"/usr/lib/python3.11/multiprocessing/queues.py\", line 271, in _feed\n",
      "    reader_close()\n",
      "  File \"/usr/lib/python3.11/multiprocessing/connection.py\", line 178, in close\n",
      "    self._close()\n",
      "  File \"/usr/lib/python3.11/multiprocessing/connection.py\", line 377, in _close\n",
      "    self._target(*self._args, **self._kwargs)\n",
      "  File \"/usr/lib/python3.11/multiprocessing/queues.py\", line 271, in _feed\n",
      "    self._target(*self._args, **self._kwargs)\n",
      "  File \"/usr/lib/python3.11/multiprocessing/queues.py\", line 271, in _feed\n",
      "    self._target(*self._args, **self._kwargs)\n",
      "  File \"/usr/lib/python3.11/multiprocessing/queues.py\", line 271, in _feed\n",
      "    _close(self._handle)\n",
      "OSError: [Errno 9] Bad file descriptor\n",
      "\n",
      "During handling of the above exception, another exception occurred:\n",
      "\n",
      "Traceback (most recent call last):\n",
      "  File \"/usr/lib/python3.11/threading.py\", line 1045, in _bootstrap_inner\n",
      "    queue_sem.release()\n",
      "ValueError: semaphore or lock released too many times\n",
      "    self._close()\n",
      "  File \"/usr/lib/python3.11/multiprocessing/connection.py\", line 377, in _close\n",
      "    _close(self._handle)\n",
      "OSError: [Errno 9] Bad file descriptor\n",
      "\n",
      "During handling of the above exception, another exception occurred:\n",
      "\n",
      "Traceback (most recent call last):\n",
      "  File \"/usr/lib/python3.11/threading.py\", line 1045, in _bootstrap_inner\n",
      "    queue_sem.release()\n",
      "ValueError: semaphore or lock released too many times\n",
      "    self.run()\n",
      "  File \"/usr/lib/python3.11/threading.py\", line 982, in run\n",
      "    queue_sem.release()\n",
      "ValueError: semaphore or lock released too many times\n",
      "    queue_sem.release()\n",
      "ValueError: semaphore or lock released too many times\n",
      "    self.run()\n",
      "  File \"/usr/lib/python3.11/threading.py\", line 982, in run\n",
      "    self._target(*self._args, **self._kwargs)\n",
      "  File \"/usr/lib/python3.11/multiprocessing/queues.py\", line 271, in _feed\n",
      "    self._target(*self._args, **self._kwargs)\n",
      "  File \"/usr/lib/python3.11/multiprocessing/queues.py\", line 271, in _feed\n",
      "    queue_sem.release()\n",
      "ValueError: semaphore or lock released too many times\n",
      "    queue_sem.release()\n",
      "ValueError: semaphore or lock released too many times\n",
      "<ipython-input-1-21fc38e4e397>:313: FutureWarning: `torch.cuda.amp.GradScaler(args...)` is deprecated. Please use `torch.amp.GradScaler('cuda', args...)` instead.\n",
      "  scaler = amp.GradScaler()\n",
      "Training:   0%|          | 0/32 [00:00<?, ?it/s]<ipython-input-1-21fc38e4e397>:230: FutureWarning: `torch.cuda.amp.autocast(args...)` is deprecated. Please use `torch.amp.autocast('cuda', args...)` instead.\n",
      "  with amp.autocast():\n",
      "Training: 100%|██████████| 32/32 [00:23<00:00,  1.37it/s]\n",
      "<ipython-input-1-21fc38e4e397>:256: FutureWarning: `torch.cuda.amp.autocast(args...)` is deprecated. Please use `torch.amp.autocast('cuda', args...)` instead.\n",
      "  with torch.no_grad(), amp.autocast():\n",
      "Validating: 100%|██████████| 8/8 [00:05<00:00,  1.33it/s]\n"
     ]
    },
    {
     "output_type": "stream",
     "name": "stdout",
     "text": [
      "Epoch 1, Train Loss: 1.3483, Train Acc: 0.3672, Val Loss: 1.2143, Val Acc: 0.6094\n",
      "GPU Memory: 0.21GB / 42.47GB\n"
     ]
    },
    {
     "output_type": "stream",
     "name": "stderr",
     "text": [
      "Training: 100%|██████████| 32/32 [00:21<00:00,  1.52it/s]\n",
      "Validating: 100%|██████████| 8/8 [00:00<00:00, 50.28it/s]\n"
     ]
    },
    {
     "output_type": "stream",
     "name": "stdout",
     "text": [
      "Epoch 2, Train Loss: 1.1656, Train Acc: 0.5312, Val Loss: 1.0390, Val Acc: 0.7344\n",
      "GPU Memory: 0.21GB / 42.47GB\n"
     ]
    },
    {
     "output_type": "stream",
     "name": "stderr",
     "text": [
      "Training: 100%|██████████| 32/32 [00:20<00:00,  1.56it/s]\n",
      "Validating: 100%|██████████| 8/8 [00:00<00:00, 57.64it/s]\n"
     ]
    },
    {
     "output_type": "stream",
     "name": "stdout",
     "text": [
      "Epoch 3, Train Loss: 1.0488, Train Acc: 0.5801, Val Loss: 0.9830, Val Acc: 0.5391\n",
      "GPU Memory: 0.21GB / 42.47GB\n"
     ]
    },
    {
     "output_type": "stream",
     "name": "stderr",
     "text": [
      "Training: 100%|██████████| 32/32 [00:16<00:00,  1.90it/s]\n",
      "Validating: 100%|██████████| 8/8 [00:00<00:00, 57.34it/s]\n"
     ]
    },
    {
     "output_type": "stream",
     "name": "stdout",
     "text": [
      "Epoch 4, Train Loss: 0.9835, Train Acc: 0.6152, Val Loss: 0.8541, Val Acc: 0.6641\n",
      "GPU Memory: 0.21GB / 42.47GB\n"
     ]
    },
    {
     "output_type": "stream",
     "name": "stderr",
     "text": [
      "Training: 100%|██████████| 32/32 [00:14<00:00,  2.17it/s]\n",
      "Validating: 100%|██████████| 8/8 [00:00<00:00, 51.32it/s]\n",
      "[I 2025-03-20 07:13:54,091] Trial 14 pruned. \n"
     ]
    },
    {
     "output_type": "stream",
     "name": "stdout",
     "text": [
      "Epoch 5, Train Loss: 0.8756, Train Acc: 0.6875, Val Loss: 0.8330, Val Acc: 0.5938\n",
      "GPU Memory: 0.21GB / 42.47GB\n"
     ]
    },
    {
     "output_type": "stream",
     "name": "stderr",
     "text": [
      "<ipython-input-1-21fc38e4e397>:313: FutureWarning: `torch.cuda.amp.GradScaler(args...)` is deprecated. Please use `torch.amp.GradScaler('cuda', args...)` instead.\n",
      "  scaler = amp.GradScaler()\n",
      "Training:   0%|          | 0/16 [00:00<?, ?it/s]<ipython-input-1-21fc38e4e397>:230: FutureWarning: `torch.cuda.amp.autocast(args...)` is deprecated. Please use `torch.amp.autocast('cuda', args...)` instead.\n",
      "  with amp.autocast():\n",
      "Training: 100%|██████████| 16/16 [00:23<00:00,  1.45s/it]\n",
      "<ipython-input-1-21fc38e4e397>:256: FutureWarning: `torch.cuda.amp.autocast(args...)` is deprecated. Please use `torch.amp.autocast('cuda', args...)` instead.\n",
      "  with torch.no_grad(), amp.autocast():\n",
      "Validating: 100%|██████████| 4/4 [00:11<00:00,  2.89s/it]\n"
     ]
    },
    {
     "output_type": "stream",
     "name": "stdout",
     "text": [
      "Epoch 1, Train Loss: 1.3681, Train Acc: 0.3516, Val Loss: 1.0845, Val Acc: 0.7031\n",
      "GPU Memory: 0.21GB / 42.47GB\n"
     ]
    },
    {
     "output_type": "stream",
     "name": "stderr",
     "text": [
      "Training: 100%|██████████| 16/16 [00:20<00:00,  1.29s/it]\n",
      "Validating: 100%|██████████| 4/4 [00:00<00:00, 27.80it/s]\n"
     ]
    },
    {
     "output_type": "stream",
     "name": "stdout",
     "text": [
      "Epoch 2, Train Loss: 1.1337, Train Acc: 0.5254, Val Loss: 0.8896, Val Acc: 0.7656\n",
      "GPU Memory: 0.21GB / 42.47GB\n"
     ]
    },
    {
     "output_type": "stream",
     "name": "stderr",
     "text": [
      "Training: 100%|██████████| 16/16 [00:20<00:00,  1.28s/it]\n",
      "Validating: 100%|██████████| 4/4 [00:00<00:00, 27.74it/s]\n"
     ]
    },
    {
     "output_type": "stream",
     "name": "stdout",
     "text": [
      "Epoch 3, Train Loss: 0.9528, Train Acc: 0.6133, Val Loss: 0.7633, Val Acc: 0.7344\n",
      "GPU Memory: 0.21GB / 42.47GB\n"
     ]
    },
    {
     "output_type": "stream",
     "name": "stderr",
     "text": [
      "Training: 100%|██████████| 16/16 [00:15<00:00,  1.01it/s]\n",
      "Validating: 100%|██████████| 4/4 [00:00<00:00, 31.90it/s]\n"
     ]
    },
    {
     "output_type": "stream",
     "name": "stdout",
     "text": [
      "Epoch 4, Train Loss: 0.8244, Train Acc: 0.6855, Val Loss: 0.7010, Val Acc: 0.7422\n",
      "GPU Memory: 0.21GB / 42.47GB\n"
     ]
    },
    {
     "output_type": "stream",
     "name": "stderr",
     "text": [
      "Training: 100%|██████████| 16/16 [00:16<00:00,  1.03s/it]\n",
      "Validating: 100%|██████████| 4/4 [00:00<00:00, 31.62it/s]\n",
      "[I 2025-03-20 07:15:43,827] Trial 15 pruned. \n"
     ]
    },
    {
     "output_type": "stream",
     "name": "stdout",
     "text": [
      "Epoch 5, Train Loss: 0.7785, Train Acc: 0.7031, Val Loss: 0.6668, Val Acc: 0.7422\n",
      "GPU Memory: 0.21GB / 42.47GB\n"
     ]
    },
    {
     "output_type": "stream",
     "name": "stderr",
     "text": [
      "<ipython-input-1-21fc38e4e397>:313: FutureWarning: `torch.cuda.amp.GradScaler(args...)` is deprecated. Please use `torch.amp.GradScaler('cuda', args...)` instead.\n",
      "  scaler = amp.GradScaler()\n",
      "Training:   0%|          | 0/8 [00:00<?, ?it/s]<ipython-input-1-21fc38e4e397>:230: FutureWarning: `torch.cuda.amp.autocast(args...)` is deprecated. Please use `torch.amp.autocast('cuda', args...)` instead.\n",
      "  with amp.autocast():\n",
      "Training: 100%|██████████| 8/8 [00:23<00:00,  2.93s/it]\n",
      "<ipython-input-1-21fc38e4e397>:256: FutureWarning: `torch.cuda.amp.autocast(args...)` is deprecated. Please use `torch.amp.autocast('cuda', args...)` instead.\n",
      "  with torch.no_grad(), amp.autocast():\n",
      "Validating: 100%|██████████| 2/2 [00:23<00:00, 11.52s/it]\n",
      "[I 2025-03-20 07:16:30,946] Trial 16 pruned. \n"
     ]
    },
    {
     "output_type": "stream",
     "name": "stdout",
     "text": [
      "Epoch 1, Train Loss: 1.4457, Train Acc: 0.2695, Val Loss: 1.3301, Val Acc: 0.2578\n",
      "GPU Memory: 0.21GB / 42.47GB\n"
     ]
    },
    {
     "output_type": "stream",
     "name": "stderr",
     "text": [
      "<ipython-input-1-21fc38e4e397>:313: FutureWarning: `torch.cuda.amp.GradScaler(args...)` is deprecated. Please use `torch.amp.GradScaler('cuda', args...)` instead.\n",
      "  scaler = amp.GradScaler()\n",
      "Training:   0%|          | 0/32 [00:00<?, ?it/s]<ipython-input-1-21fc38e4e397>:230: FutureWarning: `torch.cuda.amp.autocast(args...)` is deprecated. Please use `torch.amp.autocast('cuda', args...)` instead.\n",
      "  with amp.autocast():\n",
      "Training: 100%|██████████| 32/32 [00:23<00:00,  1.37it/s]\n",
      "<ipython-input-1-21fc38e4e397>:256: FutureWarning: `torch.cuda.amp.autocast(args...)` is deprecated. Please use `torch.amp.autocast('cuda', args...)` instead.\n",
      "  with torch.no_grad(), amp.autocast():\n",
      "Validating: 100%|██████████| 8/8 [00:05<00:00,  1.34it/s]\n",
      "[I 2025-03-20 07:17:00,903] Trial 17 pruned. \n"
     ]
    },
    {
     "output_type": "stream",
     "name": "stdout",
     "text": [
      "Epoch 1, Train Loss: 1.5213, Train Acc: 0.1934, Val Loss: 1.3770, Val Acc: 0.2500\n",
      "GPU Memory: 0.21GB / 42.47GB\n"
     ]
    },
    {
     "output_type": "stream",
     "name": "stderr",
     "text": [
      "<ipython-input-1-21fc38e4e397>:313: FutureWarning: `torch.cuda.amp.GradScaler(args...)` is deprecated. Please use `torch.amp.GradScaler('cuda', args...)` instead.\n",
      "  scaler = amp.GradScaler()\n",
      "Training:   0%|          | 0/8 [00:00<?, ?it/s]<ipython-input-1-21fc38e4e397>:230: FutureWarning: `torch.cuda.amp.autocast(args...)` is deprecated. Please use `torch.amp.autocast('cuda', args...)` instead.\n",
      "  with amp.autocast():\n",
      "Training: 100%|██████████| 8/8 [00:23<00:00,  2.93s/it]\n",
      "<ipython-input-1-21fc38e4e397>:256: FutureWarning: `torch.cuda.amp.autocast(args...)` is deprecated. Please use `torch.amp.autocast('cuda', args...)` instead.\n",
      "  with torch.no_grad(), amp.autocast():\n",
      "Validating: 100%|██████████| 2/2 [00:23<00:00, 11.59s/it]\n",
      "[I 2025-03-20 07:17:48,165] Trial 18 pruned. \n"
     ]
    },
    {
     "output_type": "stream",
     "name": "stdout",
     "text": [
      "Epoch 1, Train Loss: 1.4409, Train Acc: 0.2832, Val Loss: 1.2501, Val Acc: 0.4375\n",
      "GPU Memory: 0.21GB / 42.47GB\n"
     ]
    },
    {
     "output_type": "stream",
     "name": "stderr",
     "text": [
      "<ipython-input-1-21fc38e4e397>:313: FutureWarning: `torch.cuda.amp.GradScaler(args...)` is deprecated. Please use `torch.amp.GradScaler('cuda', args...)` instead.\n",
      "  scaler = amp.GradScaler()\n",
      "Training:   0%|          | 0/32 [00:00<?, ?it/s]<ipython-input-1-21fc38e4e397>:230: FutureWarning: `torch.cuda.amp.autocast(args...)` is deprecated. Please use `torch.amp.autocast('cuda', args...)` instead.\n",
      "  with amp.autocast():\n",
      "Training: 100%|██████████| 32/32 [00:23<00:00,  1.38it/s]\n",
      "<ipython-input-1-21fc38e4e397>:256: FutureWarning: `torch.cuda.amp.autocast(args...)` is deprecated. Please use `torch.amp.autocast('cuda', args...)` instead.\n",
      "  with torch.no_grad(), amp.autocast():\n",
      "Validating: 100%|██████████| 8/8 [00:06<00:00,  1.30it/s]\n"
     ]
    },
    {
     "output_type": "stream",
     "name": "stdout",
     "text": [
      "Epoch 1, Train Loss: 1.2692, Train Acc: 0.4141, Val Loss: 1.0684, Val Acc: 0.6094\n",
      "GPU Memory: 0.21GB / 42.47GB\n"
     ]
    },
    {
     "output_type": "stream",
     "name": "stderr",
     "text": [
      "Training: 100%|██████████| 32/32 [00:22<00:00,  1.45it/s]\n",
      "Validating: 100%|██████████| 8/8 [00:00<00:00, 53.21it/s]\n"
     ]
    },
    {
     "output_type": "stream",
     "name": "stdout",
     "text": [
      "Epoch 2, Train Loss: 1.0566, Train Acc: 0.6270, Val Loss: 0.8730, Val Acc: 0.7266\n",
      "GPU Memory: 0.21GB / 42.47GB\n"
     ]
    },
    {
     "output_type": "stream",
     "name": "stderr",
     "text": [
      "Training: 100%|██████████| 32/32 [00:18<00:00,  1.69it/s]\n",
      "Validating: 100%|██████████| 8/8 [00:00<00:00, 56.00it/s]\n"
     ]
    },
    {
     "output_type": "stream",
     "name": "stdout",
     "text": [
      "Epoch 3, Train Loss: 0.8908, Train Acc: 0.7012, Val Loss: 0.7436, Val Acc: 0.8281\n",
      "GPU Memory: 0.21GB / 42.47GB\n"
     ]
    },
    {
     "output_type": "stream",
     "name": "stderr",
     "text": [
      "Training: 100%|██████████| 32/32 [00:16<00:00,  1.99it/s]\n",
      "Validating: 100%|██████████| 8/8 [00:00<00:00, 56.95it/s]\n"
     ]
    },
    {
     "output_type": "stream",
     "name": "stdout",
     "text": [
      "Epoch 4, Train Loss: 0.7851, Train Acc: 0.7754, Val Loss: 0.6956, Val Acc: 0.7812\n",
      "GPU Memory: 0.21GB / 42.47GB\n"
     ]
    },
    {
     "output_type": "stream",
     "name": "stderr",
     "text": [
      "Training: 100%|██████████| 32/32 [00:15<00:00,  2.06it/s]\n",
      "Validating: 100%|██████████| 8/8 [00:00<00:00, 57.61it/s]\n"
     ]
    },
    {
     "output_type": "stream",
     "name": "stdout",
     "text": [
      "Epoch 5, Train Loss: 0.7589, Train Acc: 0.7617, Val Loss: 0.6785, Val Acc: 0.6953\n",
      "GPU Memory: 0.21GB / 42.47GB\n"
     ]
    },
    {
     "output_type": "stream",
     "name": "stderr",
     "text": [
      "Training: 100%|██████████| 32/32 [00:13<00:00,  2.34it/s]\n",
      "Validating: 100%|██████████| 8/8 [00:00<00:00, 53.79it/s]\n",
      "[I 2025-03-20 07:19:46,018] Trial 19 finished with value: 0.828125 and parameters: {'batch_size': 16, 'learning_rate': 0.00034371929039027165, 'dropout_rate': 0.3163182010896306, 'weight_decay': 0.00016288250146282186}. Best is trial 7 with value: 0.8828125.\n"
     ]
    },
    {
     "output_type": "stream",
     "name": "stdout",
     "text": [
      "Epoch 6, Train Loss: 0.7199, Train Acc: 0.7520, Val Loss: 0.6389, Val Acc: 0.7578\n",
      "GPU Memory: 0.21GB / 42.47GB\n",
      "Early stopping at epoch 6\n"
     ]
    },
    {
     "output_type": "stream",
     "name": "stderr",
     "text": [
      "<ipython-input-1-21fc38e4e397>:313: FutureWarning: `torch.cuda.amp.GradScaler(args...)` is deprecated. Please use `torch.amp.GradScaler('cuda', args...)` instead.\n",
      "  scaler = amp.GradScaler()\n",
      "Training:   0%|          | 0/16 [00:00<?, ?it/s]<ipython-input-1-21fc38e4e397>:230: FutureWarning: `torch.cuda.amp.autocast(args...)` is deprecated. Please use `torch.amp.autocast('cuda', args...)` instead.\n",
      "  with amp.autocast():\n",
      "Training: 100%|██████████| 16/16 [00:23<00:00,  1.46s/it]\n",
      "<ipython-input-1-21fc38e4e397>:256: FutureWarning: `torch.cuda.amp.autocast(args...)` is deprecated. Please use `torch.amp.autocast('cuda', args...)` instead.\n",
      "  with torch.no_grad(), amp.autocast():\n",
      "Validating: 100%|██████████| 4/4 [00:11<00:00,  2.95s/it]\n",
      "[I 2025-03-20 07:20:21,701] Trial 20 pruned. \n"
     ]
    },
    {
     "output_type": "stream",
     "name": "stdout",
     "text": [
      "Epoch 1, Train Loss: 1.4425, Train Acc: 0.2559, Val Loss: 1.3675, Val Acc: 0.3047\n",
      "GPU Memory: 0.21GB / 42.47GB\n"
     ]
    },
    {
     "output_type": "stream",
     "name": "stderr",
     "text": [
      "<ipython-input-1-21fc38e4e397>:313: FutureWarning: `torch.cuda.amp.GradScaler(args...)` is deprecated. Please use `torch.amp.GradScaler('cuda', args...)` instead.\n",
      "  scaler = amp.GradScaler()\n",
      "Training:   0%|          | 0/32 [00:00<?, ?it/s]<ipython-input-1-21fc38e4e397>:230: FutureWarning: `torch.cuda.amp.autocast(args...)` is deprecated. Please use `torch.amp.autocast('cuda', args...)` instead.\n",
      "  with amp.autocast():\n",
      "Training: 100%|██████████| 32/32 [00:23<00:00,  1.38it/s]\n",
      "<ipython-input-1-21fc38e4e397>:256: FutureWarning: `torch.cuda.amp.autocast(args...)` is deprecated. Please use `torch.amp.autocast('cuda', args...)` instead.\n",
      "  with torch.no_grad(), amp.autocast():\n",
      "Validating: 100%|██████████| 8/8 [00:06<00:00,  1.28it/s]\n"
     ]
    },
    {
     "output_type": "stream",
     "name": "stdout",
     "text": [
      "Epoch 1, Train Loss: 1.2462, Train Acc: 0.4980, Val Loss: 1.1022, Val Acc: 0.6016\n",
      "GPU Memory: 0.21GB / 42.47GB\n"
     ]
    },
    {
     "output_type": "stream",
     "name": "stderr",
     "text": [
      "Training: 100%|██████████| 32/32 [00:21<00:00,  1.52it/s]\n",
      "Validating: 100%|██████████| 8/8 [00:00<00:00, 49.85it/s]\n"
     ]
    },
    {
     "output_type": "stream",
     "name": "stdout",
     "text": [
      "Epoch 2, Train Loss: 1.0343, Train Acc: 0.6230, Val Loss: 0.9067, Val Acc: 0.7891\n",
      "GPU Memory: 0.21GB / 42.47GB\n"
     ]
    },
    {
     "output_type": "stream",
     "name": "stderr",
     "text": [
      "Training: 100%|██████████| 32/32 [00:20<00:00,  1.56it/s]\n",
      "Validating: 100%|██████████| 8/8 [00:00<00:00, 57.19it/s]\n"
     ]
    },
    {
     "output_type": "stream",
     "name": "stdout",
     "text": [
      "Epoch 3, Train Loss: 0.8823, Train Acc: 0.7324, Val Loss: 0.8000, Val Acc: 0.7344\n",
      "GPU Memory: 0.21GB / 42.47GB\n"
     ]
    },
    {
     "output_type": "stream",
     "name": "stderr",
     "text": [
      "Training: 100%|██████████| 32/32 [00:16<00:00,  1.98it/s]\n",
      "Validating: 100%|██████████| 8/8 [00:00<00:00, 61.19it/s]\n"
     ]
    },
    {
     "output_type": "stream",
     "name": "stdout",
     "text": [
      "Epoch 4, Train Loss: 0.8454, Train Acc: 0.7090, Val Loss: 0.7331, Val Acc: 0.7266\n",
      "GPU Memory: 0.21GB / 42.47GB\n"
     ]
    },
    {
     "output_type": "stream",
     "name": "stderr",
     "text": [
      "Training: 100%|██████████| 32/32 [00:15<00:00,  2.13it/s]\n",
      "Validating: 100%|██████████| 8/8 [00:00<00:00, 52.71it/s]\n",
      "[I 2025-03-20 07:22:05,722] Trial 21 finished with value: 0.7890625 and parameters: {'batch_size': 16, 'learning_rate': 0.00031492012101216145, 'dropout_rate': 0.20105310258414344, 'weight_decay': 3.15418545281269e-05}. Best is trial 7 with value: 0.8828125.\n"
     ]
    },
    {
     "output_type": "stream",
     "name": "stdout",
     "text": [
      "Epoch 5, Train Loss: 0.7585, Train Acc: 0.7461, Val Loss: 0.6597, Val Acc: 0.7578\n",
      "GPU Memory: 0.21GB / 42.47GB\n",
      "Early stopping at epoch 5\n"
     ]
    },
    {
     "output_type": "stream",
     "name": "stderr",
     "text": [
      "<ipython-input-1-21fc38e4e397>:313: FutureWarning: `torch.cuda.amp.GradScaler(args...)` is deprecated. Please use `torch.amp.GradScaler('cuda', args...)` instead.\n",
      "  scaler = amp.GradScaler()\n",
      "Training:   0%|          | 0/32 [00:00<?, ?it/s]<ipython-input-1-21fc38e4e397>:230: FutureWarning: `torch.cuda.amp.autocast(args...)` is deprecated. Please use `torch.amp.autocast('cuda', args...)` instead.\n",
      "  with amp.autocast():\n",
      "Training: 100%|██████████| 32/32 [00:23<00:00,  1.37it/s]\n",
      "<ipython-input-1-21fc38e4e397>:256: FutureWarning: `torch.cuda.amp.autocast(args...)` is deprecated. Please use `torch.amp.autocast('cuda', args...)` instead.\n",
      "  with torch.no_grad(), amp.autocast():\n",
      "Validating: 100%|██████████| 8/8 [00:05<00:00,  1.34it/s]\n"
     ]
    },
    {
     "output_type": "stream",
     "name": "stdout",
     "text": [
      "Epoch 1, Train Loss: 1.1672, Train Acc: 0.4824, Val Loss: 0.9810, Val Acc: 0.6094\n",
      "GPU Memory: 0.21GB / 42.47GB\n"
     ]
    },
    {
     "output_type": "stream",
     "name": "stderr",
     "text": [
      "Training: 100%|██████████| 32/32 [00:21<00:00,  1.47it/s]\n",
      "Validating: 100%|██████████| 8/8 [00:00<00:00, 52.71it/s]\n",
      "[I 2025-03-20 07:22:57,565] Trial 22 pruned. \n"
     ]
    },
    {
     "output_type": "stream",
     "name": "stdout",
     "text": [
      "Epoch 2, Train Loss: 0.8936, Train Acc: 0.6660, Val Loss: 0.7986, Val Acc: 0.6562\n",
      "GPU Memory: 0.21GB / 42.47GB\n"
     ]
    },
    {
     "output_type": "stream",
     "name": "stderr",
     "text": [
      "<ipython-input-1-21fc38e4e397>:313: FutureWarning: `torch.cuda.amp.GradScaler(args...)` is deprecated. Please use `torch.amp.GradScaler('cuda', args...)` instead.\n",
      "  scaler = amp.GradScaler()\n",
      "Training:   0%|          | 0/32 [00:00<?, ?it/s]<ipython-input-1-21fc38e4e397>:230: FutureWarning: `torch.cuda.amp.autocast(args...)` is deprecated. Please use `torch.amp.autocast('cuda', args...)` instead.\n",
      "  with amp.autocast():\n",
      "Training: 100%|██████████| 32/32 [00:23<00:00,  1.38it/s]\n",
      "<ipython-input-1-21fc38e4e397>:256: FutureWarning: `torch.cuda.amp.autocast(args...)` is deprecated. Please use `torch.amp.autocast('cuda', args...)` instead.\n",
      "  with torch.no_grad(), amp.autocast():\n",
      "Validating: 100%|██████████| 8/8 [00:06<00:00,  1.32it/s]\n"
     ]
    },
    {
     "output_type": "stream",
     "name": "stdout",
     "text": [
      "Epoch 1, Train Loss: 1.3098, Train Acc: 0.4102, Val Loss: 1.1254, Val Acc: 0.5859\n",
      "GPU Memory: 0.30GB / 42.47GB\n"
     ]
    },
    {
     "output_type": "stream",
     "name": "stderr",
     "text": [
      "Training: 100%|██████████| 32/32 [00:20<00:00,  1.55it/s]\n",
      "Validating: 100%|██████████| 8/8 [00:00<00:00, 54.17it/s]\n",
      "[I 2025-03-20 07:23:48,453] Trial 23 pruned. \n"
     ]
    },
    {
     "output_type": "stream",
     "name": "stdout",
     "text": [
      "Epoch 2, Train Loss: 1.0396, Train Acc: 0.6543, Val Loss: 0.9533, Val Acc: 0.6406\n",
      "GPU Memory: 0.21GB / 42.47GB\n"
     ]
    },
    {
     "output_type": "stream",
     "name": "stderr",
     "text": [
      "<ipython-input-1-21fc38e4e397>:313: FutureWarning: `torch.cuda.amp.GradScaler(args...)` is deprecated. Please use `torch.amp.GradScaler('cuda', args...)` instead.\n",
      "  scaler = amp.GradScaler()\n",
      "Training:   0%|          | 0/32 [00:00<?, ?it/s]<ipython-input-1-21fc38e4e397>:230: FutureWarning: `torch.cuda.amp.autocast(args...)` is deprecated. Please use `torch.amp.autocast('cuda', args...)` instead.\n",
      "  with amp.autocast():\n",
      "Training: 100%|██████████| 32/32 [00:23<00:00,  1.37it/s]\n",
      "<ipython-input-1-21fc38e4e397>:256: FutureWarning: `torch.cuda.amp.autocast(args...)` is deprecated. Please use `torch.amp.autocast('cuda', args...)` instead.\n",
      "  with torch.no_grad(), amp.autocast():\n",
      "Validating: 100%|██████████| 8/8 [00:05<00:00,  1.34it/s]\n",
      "[I 2025-03-20 07:24:18,381] Trial 24 pruned. \n"
     ]
    },
    {
     "output_type": "stream",
     "name": "stdout",
     "text": [
      "Epoch 1, Train Loss: 1.2572, Train Acc: 0.4121, Val Loss: 1.0844, Val Acc: 0.4375\n",
      "GPU Memory: 0.30GB / 42.47GB\n"
     ]
    },
    {
     "output_type": "stream",
     "name": "stderr",
     "text": [
      "<ipython-input-1-21fc38e4e397>:313: FutureWarning: `torch.cuda.amp.GradScaler(args...)` is deprecated. Please use `torch.amp.GradScaler('cuda', args...)` instead.\n",
      "  scaler = amp.GradScaler()\n",
      "Training:   0%|          | 0/2 [00:00<?, ?it/s]<ipython-input-1-21fc38e4e397>:230: FutureWarning: `torch.cuda.amp.autocast(args...)` is deprecated. Please use `torch.amp.autocast('cuda', args...)` instead.\n",
      "  with amp.autocast():\n",
      "Training: 100%|██████████| 2/2 [01:32<00:00, 46.16s/it]\n",
      "<ipython-input-1-21fc38e4e397>:256: FutureWarning: `torch.cuda.amp.autocast(args...)` is deprecated. Please use `torch.amp.autocast('cuda', args...)` instead.\n",
      "  with torch.no_grad(), amp.autocast():\n",
      "Validating: 100%|██████████| 1/1 [00:45<00:00, 45.71s/it]\n",
      "[I 2025-03-20 07:26:37,063] Trial 25 pruned. \n"
     ]
    },
    {
     "output_type": "stream",
     "name": "stdout",
     "text": [
      "Epoch 1, Train Loss: 1.4248, Train Acc: 0.2461, Val Loss: 1.4056, Val Acc: 0.2500\n",
      "GPU Memory: 0.21GB / 42.47GB\n"
     ]
    },
    {
     "output_type": "stream",
     "name": "stderr",
     "text": [
      "<ipython-input-1-21fc38e4e397>:313: FutureWarning: `torch.cuda.amp.GradScaler(args...)` is deprecated. Please use `torch.amp.GradScaler('cuda', args...)` instead.\n",
      "  scaler = amp.GradScaler()\n",
      "Training:   0%|          | 0/8 [00:00<?, ?it/s]<ipython-input-1-21fc38e4e397>:230: FutureWarning: `torch.cuda.amp.autocast(args...)` is deprecated. Please use `torch.amp.autocast('cuda', args...)` instead.\n",
      "  with amp.autocast():\n",
      "Training: 100%|██████████| 8/8 [00:23<00:00,  2.99s/it]\n",
      "<ipython-input-1-21fc38e4e397>:256: FutureWarning: `torch.cuda.amp.autocast(args...)` is deprecated. Please use `torch.amp.autocast('cuda', args...)` instead.\n",
      "  with torch.no_grad(), amp.autocast():\n",
      "Validating: 100%|██████████| 2/2 [00:22<00:00, 11.48s/it]\n",
      "[I 2025-03-20 07:27:24,559] Trial 26 pruned. \n"
     ]
    },
    {
     "output_type": "stream",
     "name": "stdout",
     "text": [
      "Epoch 1, Train Loss: 1.3002, Train Acc: 0.4082, Val Loss: 1.1488, Val Acc: 0.4062\n",
      "GPU Memory: 0.11GB / 42.47GB\n"
     ]
    },
    {
     "output_type": "stream",
     "name": "stderr",
     "text": [
      "<ipython-input-1-21fc38e4e397>:313: FutureWarning: `torch.cuda.amp.GradScaler(args...)` is deprecated. Please use `torch.amp.GradScaler('cuda', args...)` instead.\n",
      "  scaler = amp.GradScaler()\n",
      "Training:   0%|          | 0/32 [00:00<?, ?it/s]<ipython-input-1-21fc38e4e397>:230: FutureWarning: `torch.cuda.amp.autocast(args...)` is deprecated. Please use `torch.amp.autocast('cuda', args...)` instead.\n",
      "  with amp.autocast():\n",
      "Training: 100%|██████████| 32/32 [00:23<00:00,  1.37it/s]\n",
      "<ipython-input-1-21fc38e4e397>:256: FutureWarning: `torch.cuda.amp.autocast(args...)` is deprecated. Please use `torch.amp.autocast('cuda', args...)` instead.\n",
      "  with torch.no_grad(), amp.autocast():\n",
      "Validating: 100%|██████████| 8/8 [00:05<00:00,  1.34it/s]\n",
      "[I 2025-03-20 07:27:54,499] Trial 27 pruned. \n"
     ]
    },
    {
     "output_type": "stream",
     "name": "stdout",
     "text": [
      "Epoch 1, Train Loss: 1.3457, Train Acc: 0.3340, Val Loss: 1.1938, Val Acc: 0.5625\n",
      "GPU Memory: 0.11GB / 42.47GB\n"
     ]
    },
    {
     "output_type": "stream",
     "name": "stderr",
     "text": [
      "<ipython-input-1-21fc38e4e397>:313: FutureWarning: `torch.cuda.amp.GradScaler(args...)` is deprecated. Please use `torch.amp.GradScaler('cuda', args...)` instead.\n",
      "  scaler = amp.GradScaler()\n",
      "Training:   0%|          | 0/32 [00:00<?, ?it/s]<ipython-input-1-21fc38e4e397>:230: FutureWarning: `torch.cuda.amp.autocast(args...)` is deprecated. Please use `torch.amp.autocast('cuda', args...)` instead.\n",
      "  with amp.autocast():\n",
      "Training: 100%|██████████| 32/32 [00:23<00:00,  1.37it/s]\n",
      "<ipython-input-1-21fc38e4e397>:256: FutureWarning: `torch.cuda.amp.autocast(args...)` is deprecated. Please use `torch.amp.autocast('cuda', args...)` instead.\n",
      "  with torch.no_grad(), amp.autocast():\n",
      "Validating: 100%|██████████| 8/8 [00:05<00:00,  1.34it/s]\n",
      "[I 2025-03-20 07:29:44,463] Trial 28 pruned. \n"
     ]
    },
    {
     "output_type": "stream",
     "name": "stdout",
     "text": [
      "Epoch 1, Train Loss: 1.3334, Train Acc: 0.3418, Val Loss: 1.1732, Val Acc: 0.4688\n",
      "GPU Memory: 0.11GB / 42.47GB\n"
     ]
    },
    {
     "output_type": "stream",
     "name": "stderr",
     "text": [
      "<ipython-input-1-21fc38e4e397>:313: FutureWarning: `torch.cuda.amp.GradScaler(args...)` is deprecated. Please use `torch.amp.GradScaler('cuda', args...)` instead.\n",
      "  scaler = amp.GradScaler()\n",
      "Training:   0%|          | 0/8 [00:00<?, ?it/s]<ipython-input-1-21fc38e4e397>:230: FutureWarning: `torch.cuda.amp.autocast(args...)` is deprecated. Please use `torch.amp.autocast('cuda', args...)` instead.\n",
      "  with amp.autocast():\n",
      "Training: 100%|██████████| 8/8 [00:23<00:00,  2.91s/it]\n",
      "<ipython-input-1-21fc38e4e397>:256: FutureWarning: `torch.cuda.amp.autocast(args...)` is deprecated. Please use `torch.amp.autocast('cuda', args...)` instead.\n",
      "  with torch.no_grad(), amp.autocast():\n",
      "Validating: 100%|██████████| 2/2 [00:23<00:00, 11.51s/it]\n",
      "[I 2025-03-20 07:30:31,380] Trial 29 pruned. \n"
     ]
    },
    {
     "output_type": "stream",
     "name": "stdout",
     "text": [
      "Epoch 1, Train Loss: 1.4784, Train Acc: 0.2383, Val Loss: 1.3840, Val Acc: 0.3203\n",
      "GPU Memory: 0.11GB / 42.47GB\n",
      "Best trial: 7\n",
      "Best validation accuracy: 0.8828\n",
      "Best hyperparameters: {'batch_size': 16, 'learning_rate': 0.00033694443483078525, 'dropout_rate': 0.22675172571920388, 'weight_decay': 0.00010880650775211902}\n",
      "Best model saved to /content/gdrive/My Drive/Projects/Multimodal/Datasets/corn-best_resnet50_model-150.pth\n"
     ]
    }
   ],
   "source": [
    "\"\"\"\n",
    "### Overview:\n",
    "This script is designed for training an image classification model using a fine-tuned ResNet-50, incorporating data preprocessing,\n",
    "augmentation, and hyperparameter optimization via Bayesian methods.\n",
    "\n",
    "### Key Steps:\n",
    "\n",
    "1. Label Encoding:\n",
    "   - Converts categorical labels from the dataset into numerical values.\n",
    "   - Saves the mapping dictionary (`label_to_idx.json`) to ensure consistency across datasets.\n",
    "\n",
    "2. Custom Dataset Class (`CornDataset`):\n",
    "   - Loads image paths and their corresponding labels from CSV files.\n",
    "   - Facilitates easy integration with PyTorch’s `DataLoader`.\n",
    "\n",
    "3. Data Augmentation:\n",
    "   - Applies random transformations (cropping, flipping, rotation, color jittering) to the training images.\n",
    "   - Aims to enhance model robustness and reduce overfitting.\n",
    "\n",
    "4. Model Setup (ResNet-50 Fine-tuning):\n",
    "   - Uses a pre-trained ResNet-50 as the feature extractor.\n",
    "   - Unfreezes the last few layers to allow fine-tuning.\n",
    "   - Replaces the final classification layer with a custom fully connected layer, including dropout for regularization.\n",
    "\n",
    "5. Bayesian Optimization (Optuna for Hyperparameter Tuning):\n",
    "   - Searches for the best hyperparameters to maximize validation accuracy.\n",
    "   - Tunable parameters include:\n",
    "     - **Batch size:** {16, 32, 64}\n",
    "     - **Learning rate:** Continuous range from 1e-5 to 1e-3\n",
    "     - **Dropout rate:** Continuous range from 0.2 to 0.7\n",
    "     - **Weight decay:** Continuous range from 1e-5 to 1e-3\n",
    "\n",
    "6. Training Process:\n",
    "   - Each trial runs for a maximum of **10 epochs**.\n",
    "   - Implements **early stopping** to halt training if validation accuracy plateaus.\n",
    "\n",
    "7. Model Selection & Saving:\n",
    "   - The best-performing model from all trials is saved as `best_resnet50_model.pth`.\n",
    "   - Ensures optimal performance on unseen data.\n",
    "\n",
    "This pipeline efficiently optimizes and fine-tunes the ResNet-50 model while leveraging Bayesian optimization for better hyperparameter selection.\n",
    "\"\"\"\n",
    "\n",
    "!pip install torch torchvision pandas pillow scikit-learn optuna tqdm\n",
    "import os\n",
    "import json\n",
    "import torch\n",
    "import torch.nn as nn\n",
    "import torch.optim as optim\n",
    "from torch.utils.data import Dataset, DataLoader\n",
    "from torchvision import models, transforms\n",
    "import pandas as pd\n",
    "from PIL import Image\n",
    "import numpy as np\n",
    "from sklearn.preprocessing import LabelEncoder\n",
    "import optuna\n",
    "from optuna.samplers import TPESampler\n",
    "from tqdm import tqdm\n",
    "import requests\n",
    "from io import BytesIO\n",
    "import torch.cuda.amp as amp  # Import for mixed precision training\n",
    "\n",
    "from google.colab import drive\n",
    "drive.mount('/content/gdrive')\n",
    "\n",
    "# Define paths\n",
    "absolute_path = \"/content/gdrive/My Drive/Projects/Multimodal/\"\n",
    "TRAIN_CSV = absolute_path + \"Datasets/Corn_train_set_150.csv\"\n",
    "VAL_CSV = absolute_path + \"Datasets/Corn_validation_set_150.csv\"\n",
    "LABEL_JSON = absolute_path + \"Datasets/corn-label_to_idx-150.json\"\n",
    "BEST_MODEL_PATH = absolute_path + \"Datasets/corn-best_resnet50_model-150.pth\"\n",
    "\n",
    "# Device configuration\n",
    "device = torch.device('cuda' if torch.cuda.is_available() else 'cpu')\n",
    "print(f\"Using device: {device}\")\n",
    "\n",
    "# Print GPU info\n",
    "if torch.cuda.is_available():\n",
    "    print(f\"GPU: {torch.cuda.get_device_name(0)}\")\n",
    "    print(f\"Memory Allocated: {torch.cuda.memory_allocated(0)/1e9:.2f} GB\")\n",
    "    print(f\"Memory Reserved: {torch.cuda.memory_reserved(0)/1e9:.2f} GB\")\n",
    "    print(f\"Total Memory: {torch.cuda.get_device_properties(0).total_memory/1e9:.2f} GB\")\n",
    "\n",
    "BATCH_SIZES = [16, 32, 64, 128, 256]\n",
    "NUM_WORKERS = 8\n",
    "PREFETCH_FACTOR = 2\n",
    "\n",
    "# Set up data prefetching and pinning\n",
    "torch.multiprocessing.set_sharing_strategy('file_system')\n",
    "torch.set_float32_matmul_precision('high')  # Use TF32 precision on A100\n",
    "\n",
    "# Prepare data downloading and caching\n",
    "class ImageCache:\n",
    "    def __init__(self, capacity=1000):\n",
    "        self.capacity = capacity\n",
    "        self.cache = {}\n",
    "\n",
    "    def get(self, url):\n",
    "        if url in self.cache:\n",
    "            return self.cache[url]\n",
    "\n",
    "        try:\n",
    "            response = requests.get(url)\n",
    "            image = Image.open(BytesIO(response.content)).convert('RGB')\n",
    "\n",
    "            # Keep cache size in check\n",
    "            if len(self.cache) >= self.capacity:\n",
    "                # Remove a random item\n",
    "                self.cache.pop(next(iter(self.cache)))\n",
    "\n",
    "            self.cache[url] = image\n",
    "            return image\n",
    "        except Exception as e:\n",
    "            print(f\"Error loading image from {url}: {e}\")\n",
    "            return Image.new('RGB', (224, 224), color='black')\n",
    "\n",
    "# Global image cache\n",
    "image_cache = ImageCache()\n",
    "\n",
    "# Custom Dataset with optimized loading\n",
    "class CornDataset(Dataset):\n",
    "    def __init__(self, csv_file, transform=None):\n",
    "        self.data = pd.read_csv(csv_file)\n",
    "        self.transform = transform\n",
    "\n",
    "        # Load the label encoding\n",
    "        with open(LABEL_JSON, 'r') as f:\n",
    "            self.label_to_idx = json.load(f)\n",
    "\n",
    "    def __len__(self):\n",
    "        return len(self.data)\n",
    "\n",
    "    def __getitem__(self, idx):\n",
    "        img_url = self.data.iloc[idx]['Image']\n",
    "        category = self.data.iloc[idx]['Category']\n",
    "\n",
    "        # Convert category to encoded label\n",
    "        label = self.label_to_idx[category]\n",
    "\n",
    "        # Load image from URL with caching\n",
    "        image = image_cache.get(img_url)\n",
    "\n",
    "        if self.transform:\n",
    "            image = self.transform(image)\n",
    "\n",
    "        return image, label\n",
    "\n",
    "# Function to create the dataset and dataloaders\n",
    "def create_data_loaders(batch_size):\n",
    "    # Define transformations\n",
    "    train_transform = transforms.Compose([\n",
    "        transforms.RandomResizedCrop(224),\n",
    "        transforms.RandomHorizontalFlip(),\n",
    "        transforms.RandomRotation(15),\n",
    "        transforms.ColorJitter(brightness=0.1, contrast=0.1, saturation=0.1),\n",
    "        transforms.ToTensor(),\n",
    "        transforms.Normalize([0.485, 0.456, 0.406], [0.229, 0.224, 0.225])\n",
    "    ])\n",
    "\n",
    "    val_transform = transforms.Compose([\n",
    "        transforms.Resize(256),\n",
    "        transforms.CenterCrop(224),\n",
    "        transforms.ToTensor(),\n",
    "        transforms.Normalize([0.485, 0.456, 0.406], [0.229, 0.224, 0.225])\n",
    "    ])\n",
    "\n",
    "    # Create datasets\n",
    "    train_dataset = CornDataset(TRAIN_CSV, transform=train_transform)\n",
    "    val_dataset = CornDataset(VAL_CSV, transform=val_transform)\n",
    "\n",
    "    # Create dataloaders with optimized settings\n",
    "    train_loader = DataLoader(\n",
    "        train_dataset,\n",
    "        batch_size=batch_size,\n",
    "        shuffle=True,\n",
    "        num_workers=NUM_WORKERS,\n",
    "        pin_memory=True,\n",
    "        prefetch_factor=PREFETCH_FACTOR,\n",
    "        persistent_workers=True\n",
    "    )\n",
    "\n",
    "    val_loader = DataLoader(\n",
    "        val_dataset,\n",
    "        batch_size=batch_size,\n",
    "        shuffle=False,\n",
    "        num_workers=NUM_WORKERS,\n",
    "        pin_memory=True,\n",
    "        prefetch_factor=PREFETCH_FACTOR,\n",
    "        persistent_workers=True\n",
    "    )\n",
    "\n",
    "    return train_loader, val_loader\n",
    "\n",
    "# Function to perform label encoding\n",
    "def perform_label_encoding():\n",
    "    train_data = pd.read_csv(TRAIN_CSV)\n",
    "    val_data = pd.read_csv(VAL_CSV)\n",
    "\n",
    "    # Combine all categories\n",
    "    all_categories = pd.concat([train_data['Category'], val_data['Category']]).unique()\n",
    "\n",
    "    # Create encoding\n",
    "    label_encoder = LabelEncoder()\n",
    "    label_encoder.fit(all_categories)\n",
    "\n",
    "    # Create label_to_idx dictionary\n",
    "    label_to_idx = {category: int(idx) for category, idx in zip(all_categories, label_encoder.transform(all_categories))}\n",
    "\n",
    "    # Save to json\n",
    "    with open(LABEL_JSON, 'w') as f:\n",
    "        json.dump(label_to_idx, f)\n",
    "\n",
    "    print(f\"Label encoding saved to {LABEL_JSON}\")\n",
    "    return len(label_to_idx)\n",
    "\n",
    "# Function to train for one epoch with mixed precision\n",
    "def train_epoch(model, loader, criterion, optimizer, device, scaler):\n",
    "    model.train()\n",
    "    running_loss = 0.0\n",
    "    correct = 0\n",
    "    total = 0\n",
    "\n",
    "    for inputs, labels in tqdm(loader, desc=\"Training\"):\n",
    "        inputs, labels = inputs.to(device, non_blocking=True), labels.to(device, non_blocking=True)\n",
    "\n",
    "        # Zero the parameter gradients\n",
    "        optimizer.zero_grad(set_to_none=True)  # More efficient than zero_grad()\n",
    "\n",
    "        # Forward pass with mixed precision\n",
    "        with amp.autocast():\n",
    "            outputs = model(inputs)\n",
    "            loss = criterion(outputs, labels)\n",
    "\n",
    "        # Backward and optimize with scaled gradients\n",
    "        scaler.scale(loss).backward()\n",
    "        scaler.step(optimizer)\n",
    "        scaler.update()\n",
    "\n",
    "        # Statistics\n",
    "        running_loss += loss.item() * inputs.size(0)\n",
    "        _, predicted = torch.max(outputs, 1)\n",
    "        total += labels.size(0)\n",
    "        correct += (predicted == labels).sum().item()\n",
    "\n",
    "    epoch_loss = running_loss / total\n",
    "    epoch_acc = correct / total\n",
    "    return epoch_loss, epoch_acc\n",
    "\n",
    "# Function to validate with mixed precision\n",
    "def validate(model, loader, criterion, device):\n",
    "    model.eval()\n",
    "    running_loss = 0.0\n",
    "    correct = 0\n",
    "    total = 0\n",
    "\n",
    "    with torch.no_grad(), amp.autocast():\n",
    "        for inputs, labels in tqdm(loader, desc=\"Validating\"):\n",
    "            inputs, labels = inputs.to(device, non_blocking=True), labels.to(device, non_blocking=True)\n",
    "\n",
    "            outputs = model(inputs)\n",
    "            loss = criterion(outputs, labels)\n",
    "\n",
    "            # Statistics\n",
    "            running_loss += loss.item() * inputs.size(0)\n",
    "            _, predicted = torch.max(outputs, 1)\n",
    "            total += labels.size(0)\n",
    "            correct += (predicted == labels).sum().item()\n",
    "\n",
    "    val_loss = running_loss / total\n",
    "    val_acc = correct / total\n",
    "    return val_loss, val_acc\n",
    "\n",
    "# Function to initialize the model\n",
    "def create_model(num_classes, dropout_rate=0.5):\n",
    "    # Load with higher performance settings\n",
    "    try:\n",
    "        model = models.resnet50(weights=models.ResNet50_Weights.IMAGENET1K_V1)\n",
    "    except:\n",
    "        model = models.resnet50(pretrained=True)\n",
    "\n",
    "    # Freeze early layers\n",
    "    for param in list(model.parameters())[:-4]:  # Freeze fewer layers\n",
    "        param.requires_grad = False\n",
    "\n",
    "    # Replace the final fully connected layer\n",
    "    num_ftrs = model.fc.in_features\n",
    "    model.fc = nn.Sequential(\n",
    "        nn.Dropout(dropout_rate),\n",
    "        nn.Linear(num_ftrs, num_classes)\n",
    "    )\n",
    "\n",
    "    # Use channels_last memory format for better performance on A100\n",
    "    model = model.to(device, memory_format=torch.channels_last)\n",
    "    return model\n",
    "\n",
    "# Objective function for Optuna\n",
    "def objective(trial, num_classes):\n",
    "    # Define hyperparameters to optimize\n",
    "    batch_size = trial.suggest_categorical('batch_size', BATCH_SIZES)\n",
    "    learning_rate = trial.suggest_float('learning_rate', 1e-5, 1e-3, log=True)\n",
    "    dropout_rate = trial.suggest_float('dropout_rate', 0.2, 0.7)\n",
    "    weight_decay = trial.suggest_float('weight_decay', 1e-5, 1e-3, log=True)\n",
    "\n",
    "    # Create model and dataloaders\n",
    "    model = create_model(num_classes, dropout_rate)\n",
    "    train_loader, val_loader = create_data_loaders(batch_size)\n",
    "\n",
    "    # Define loss function and optimizer\n",
    "    criterion = nn.CrossEntropyLoss()\n",
    "    optimizer = optim.AdamW(model.parameters(), lr=learning_rate, weight_decay=weight_decay)\n",
    "\n",
    "    # Create gradient scaler for mixed precision training\n",
    "    scaler = amp.GradScaler()\n",
    "\n",
    "    # Train for a few epochs\n",
    "    best_val_acc = 0\n",
    "    patience = 0\n",
    "    max_patience = 3\n",
    "\n",
    "    for epoch in range(10):  # Maximum 10 epochs per trial\n",
    "        train_loss, train_acc = train_epoch(model, train_loader, criterion, optimizer, device, scaler)\n",
    "        val_loss, val_acc = validate(model, val_loader, criterion, device)\n",
    "\n",
    "        print(f\"Epoch {epoch+1}, Train Loss: {train_loss:.4f}, Train Acc: {train_acc:.4f}, \"\n",
    "              f\"Val Loss: {val_loss:.4f}, Val Acc: {val_acc:.4f}\")\n",
    "\n",
    "        # Print GPU memory usage\n",
    "        if torch.cuda.is_available():\n",
    "            print(f\"GPU Memory: {torch.cuda.memory_allocated(0)/1e9:.2f}GB / {torch.cuda.get_device_properties(0).total_memory/1e9:.2f}GB\")\n",
    "\n",
    "        trial.report(val_acc, epoch)\n",
    "\n",
    "        # Handle pruning\n",
    "        if trial.should_prune():\n",
    "            raise optuna.exceptions.TrialPruned()\n",
    "\n",
    "        # Early stopping\n",
    "        if val_acc > best_val_acc:\n",
    "            best_val_acc = val_acc\n",
    "            patience = 0\n",
    "\n",
    "            # Save the current model as a checkpoint for this trial\n",
    "            trial_model_path = f\"trial_{trial.number}_model.pth\"\n",
    "            torch.save(model.state_dict(), trial_model_path)\n",
    "        else:\n",
    "            patience += 1\n",
    "            if patience >= max_patience:\n",
    "                print(f\"Early stopping at epoch {epoch+1}\")\n",
    "                break\n",
    "\n",
    "    return best_val_acc\n",
    "\n",
    "# Main function\n",
    "def main():\n",
    "    # Perform label encoding first\n",
    "    num_classes = perform_label_encoding()\n",
    "    print(f\"Number of classes: {num_classes}\")\n",
    "\n",
    "    # Create the optuna study with A100-optimized settings\n",
    "    study = optuna.create_study(direction='maximize', sampler=TPESampler())\n",
    "\n",
    "    # Run fewer trials but with more GPU utilization\n",
    "    n_trials = 30 # 10\n",
    "    print(f\"Running {n_trials} trials with larger batch sizes to maximize GPU usage\")\n",
    "\n",
    "    # Pass num_classes to objective function using a lambda function\n",
    "    study.optimize(lambda trial: objective(trial, num_classes), n_trials=n_trials)\n",
    "\n",
    "    # Get the best parameters\n",
    "    best_params = study.best_params\n",
    "    best_value = study.best_value\n",
    "    print(f\"Best trial: {study.best_trial.number}\")\n",
    "    print(f\"Best validation accuracy: {best_value:.4f}\")\n",
    "    print(f\"Best hyperparameters: {best_params}\")\n",
    "\n",
    "    # Load the best model from the best trial\n",
    "    best_model = create_model(num_classes, best_params['dropout_rate'])\n",
    "    best_model.load_state_dict(torch.load(f\"trial_{study.best_trial.number}_model.pth\"))\n",
    "\n",
    "    # Save the best model\n",
    "    torch.save(best_model.state_dict(), BEST_MODEL_PATH)\n",
    "    print(f\"Best model saved to {BEST_MODEL_PATH}\")\n",
    "\n",
    "    # Clean up trial model files\n",
    "    for trial in study.trials:\n",
    "        trial_model_path = f\"trial_{trial.number}_model.pth\"\n",
    "        if os.path.exists(trial_model_path):\n",
    "            os.remove(trial_model_path)\n",
    "\n",
    "if __name__ == \"__main__\":\n",
    "    main()"
   ]
  },
  {
   "cell_type": "markdown",
   "source": [],
   "metadata": {
    "id": "Oj-X2wLcGI7e"
   }
  },
  {
   "cell_type": "markdown",
   "source": [],
   "metadata": {
    "id": "Dm9NFjX_S2ix"
   }
  },
  {
   "cell_type": "markdown",
   "source": [
    "## Predictions Phase"
   ],
   "metadata": {
    "id": "E2TnucJDxCsy"
   }
  },
  {
   "cell_type": "code",
   "source": [
    "import torch\n",
    "import torch.nn as nn\n",
    "import torchvision.models as models\n",
    "import torchvision.transforms as transforms\n",
    "from torch.utils.data import Dataset, DataLoader\n",
    "from PIL import Image\n",
    "import pandas as pd\n",
    "import requests\n",
    "from io import BytesIO\n",
    "import json\n",
    "import logging\n",
    "import os\n",
    "import time\n",
    "from google.colab import drive\n",
    "drive.mount('/content/gdrive')\n",
    "\n",
    "# Setup logging\n",
    "logging.basicConfig(\n",
    "    level=logging.INFO,\n",
    "    format='%(asctime)s - %(levelname)s - %(message)s',\n",
    "    handlers=[\n",
    "        logging.FileHandler('prediction.log'),\n",
    "        logging.StreamHandler()\n",
    "    ]\n",
    ")\n",
    "logger = logging.getLogger(__name__)\n",
    "\n",
    "class TestImageDataset(Dataset):\n",
    "    \"\"\"Custom Dataset for loading test images\"\"\"\n",
    "    def __init__(self, csv_file, feature_col, transform=None):\n",
    "        self.data = pd.read_csv(csv_file)\n",
    "        self.feature_col = feature_col\n",
    "        self.transform = transform\n",
    "\n",
    "    def __len__(self):\n",
    "        return len(self.data)\n",
    "\n",
    "    def __getitem__(self, idx):\n",
    "        try:\n",
    "            img_url = self.data.iloc[idx][self.feature_col]\n",
    "\n",
    "            # Download and open image\n",
    "            response = requests.get(img_url, timeout=10)\n",
    "            if response.status_code != 200:\n",
    "                raise ValueError(f\"Failed to fetch image: HTTP {response.status_code}\")\n",
    "\n",
    "            img = Image.open(BytesIO(response.content)).convert('RGB')\n",
    "\n",
    "            if self.transform:\n",
    "                img = self.transform(img)\n",
    "\n",
    "            return img, idx\n",
    "\n",
    "        except Exception as e:\n",
    "            logger.error(f\"Error loading image at index {idx}: {str(e)}\")\n",
    "            raise\n",
    "\n",
    "def load_model_and_labels(model_path, label_to_idx_path):\n",
    "    \"\"\"Load the trained model and label mapping\"\"\"\n",
    "    try:\n",
    "        # Load label mapping\n",
    "        with open(label_to_idx_path, 'r') as f:\n",
    "            label_to_idx = json.load(f)\n",
    "\n",
    "        # Create inverse mapping\n",
    "        idx_to_label = {v: k for k, v in label_to_idx.items()}\n",
    "\n",
    "        # Initialize model\n",
    "        model = models.resnet50(weights=None)\n",
    "        model.fc = nn.Sequential(\n",
    "            nn.Dropout(0.5),\n",
    "            nn.Linear(model.fc.in_features, len(label_to_idx))\n",
    "        )\n",
    "\n",
    "        # Load trained weights\n",
    "        model.load_state_dict(torch.load(model_path))\n",
    "\n",
    "        return model, idx_to_label\n",
    "\n",
    "    except Exception as e:\n",
    "        logger.error(f\"Error loading model and labels: {str(e)}\")\n",
    "        raise\n",
    "\n",
    "def predict_images(test_set_path, model_path, label_to_idx_path, batch_size,\n",
    "                  prediction_col_name, output_path, feature_col='Image'):\n",
    "    \"\"\"\n",
    "    Make predictions on test images and save results\n",
    "\n",
    "    Parameters:\n",
    "    - test_set_path: path to test CSV file\n",
    "    - model_path: path to trained model weights\n",
    "    - label_to_idx_path: path to label mapping JSON\n",
    "    - batch_size: batch size for predictions\n",
    "    - prediction_col_name: name for the new predictions column\n",
    "    - output_path: path to save predictions CSV\n",
    "    - feature_col: name of column containing image URLs\n",
    "\n",
    "    Returns:\n",
    "    - result_df: DataFrame with predictions\n",
    "    - execution_time: Time taken for predictions in seconds\n",
    "    - prediction_cost: Cost of predictions based on execution time\n",
    "    \"\"\"\n",
    "    try:\n",
    "        # Start timing\n",
    "        start_time = time.time()\n",
    "\n",
    "        device = torch.device(\"cuda\" if torch.cuda.is_available() else \"cpu\")\n",
    "        logger.info(f\"Using device: {device}\")\n",
    "\n",
    "        # Load test data\n",
    "        test_df = pd.read_csv(test_set_path)\n",
    "        logger.info(f\"Loaded test set with {len(test_df)} images\")\n",
    "\n",
    "        # Create transforms for test images\n",
    "        test_transform = transforms.Compose([\n",
    "            transforms.Resize((224, 224)),  # Standard ResNet input size\n",
    "            transforms.ToTensor(),\n",
    "            transforms.Normalize(mean=[0.485, 0.456, 0.406],\n",
    "                              std=[0.229, 0.224, 0.225])\n",
    "        ])\n",
    "\n",
    "        # Create dataset and dataloader\n",
    "        test_dataset = TestImageDataset(test_set_path, feature_col, test_transform)\n",
    "        test_loader = DataLoader(test_dataset,\n",
    "                               batch_size=batch_size,\n",
    "                               shuffle=False,\n",
    "                               num_workers=4)\n",
    "\n",
    "        # Load model and label mapping\n",
    "        model, idx_to_label = load_model_and_labels(model_path, label_to_idx_path)\n",
    "        model = model.to(device)\n",
    "        model.eval()\n",
    "\n",
    "        # Make predictions\n",
    "        predictions = []\n",
    "        with torch.no_grad():\n",
    "            for batch_images, batch_indices in test_loader:\n",
    "                batch_images = batch_images.to(device)\n",
    "                outputs = model(batch_images)\n",
    "                _, predicted = torch.max(outputs.data, 1)\n",
    "\n",
    "                # Convert indices to labels\n",
    "                batch_predictions = [idx_to_label[idx.item()]\n",
    "                                  for idx in predicted]\n",
    "\n",
    "                # Store predictions with their indices\n",
    "                for idx, pred in zip(batch_indices, batch_predictions):\n",
    "                    predictions.append((idx.item(), pred))\n",
    "\n",
    "        # Sort predictions by index to maintain original order\n",
    "        predictions.sort(key=lambda x: x[0])\n",
    "        predicted_labels = [pred[1] for pred in predictions]\n",
    "\n",
    "        # Add predictions to dataframe\n",
    "        test_df[prediction_col_name] = predicted_labels\n",
    "\n",
    "        # Save results\n",
    "        test_df.to_csv(output_path, index=False)\n",
    "\n",
    "        # Calculate execution time and cost\n",
    "        execution_time = time.time() - start_time\n",
    "        prediction_cost = 0.000281392488 * execution_time\n",
    "\n",
    "        logger.info(f\"Predictions saved to {output_path}\")\n",
    "        logger.info(f\"Prediction time: {execution_time:.2f} seconds\")\n",
    "        logger.info(f\"Prediction cost: ${prediction_cost:.6f}\")\n",
    "\n",
    "        return test_df, execution_time, prediction_cost\n",
    "\n",
    "    except Exception as e:\n",
    "        logger.error(f\"Error in prediction pipeline: {str(e)}\")\n",
    "        raise\n",
    "\n",
    "absolute_path = \"/content/gdrive/My Drive/Projects/Multimodal/\"\n",
    "\n",
    "if __name__ == \"__main__\":\n",
    "    test_params = {\n",
    "        'test_set_path': absolute_path + 'Datasets/Corn_test_set_150.csv',\n",
    "        'model_path': absolute_path + 'Datasets/corn-best_resnet50_model-150.pth',\n",
    "        'label_to_idx_path': absolute_path + 'Datasets/corn-label_to_idx-150.json',\n",
    "        'batch_size': 16,\n",
    "        'prediction_col_name': 'ResNet50-Predictions-Bayesian-Optimization',\n",
    "        'output_path': absolute_path + 'Datasets/Corn-test_set_150_with_predictions.csv'\n",
    "    }\n",
    "\n",
    "    # Run predictions\n",
    "    result_df, execution_time, prediction_cost = predict_images(**test_params)\n",
    "\n",
    "    print(\"\\nPrediction Results Summary:\")\n",
    "    print(f\"Total prediction time: {execution_time:.2f} seconds\")\n",
    "    print(f\"Total prediction cost: ${prediction_cost:.6f}\")"
   ],
   "metadata": {
    "colab": {
     "base_uri": "https://localhost:8080/"
    },
    "id": "8eHXQjyjxHEA",
    "executionInfo": {
     "status": "ok",
     "timestamp": 1742456433253,
     "user_tz": -120,
     "elapsed": 20405,
     "user": {
      "displayName": "Konstantinos Roumeliotis",
      "userId": "17264923090131634662"
     }
    },
    "outputId": "30ebb35d-ea43-4214-ccf1-5549ab0cba96"
   },
   "execution_count": 2,
   "outputs": [
    {
     "output_type": "stream",
     "name": "stdout",
     "text": [
      "Drive already mounted at /content/gdrive; to attempt to forcibly remount, call drive.mount(\"/content/gdrive\", force_remount=True).\n",
      "\n",
      "Prediction Results Summary:\n",
      "Total prediction time: 18.19 seconds\n",
      "Total prediction cost: $0.005120\n"
     ]
    }
   ]
  },
  {
   "cell_type": "markdown",
   "source": [],
   "metadata": {
    "id": "E6X06e8et-4G"
   }
  }
 ]
}
