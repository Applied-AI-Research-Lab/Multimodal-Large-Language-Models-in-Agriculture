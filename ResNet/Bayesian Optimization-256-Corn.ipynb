{
 "nbformat": 4,
 "nbformat_minor": 0,
 "metadata": {
  "colab": {
   "provenance": [],
   "gpuType": "A100",
   "authorship_tag": "ABX9TyNNtq5b622Az5CGksdfWTbU"
  },
  "kernelspec": {
   "name": "python3",
   "display_name": "Python 3"
  },
  "language_info": {
   "name": "python"
  },
  "accelerator": "GPU"
 },
 "cells": [
  {
   "cell_type": "code",
   "execution_count": 1,
   "metadata": {
    "colab": {
     "base_uri": "https://localhost:8080/"
    },
    "id": "m5-Chg9X2SkH",
    "executionInfo": {
     "status": "ok",
     "timestamp": 1742452017352,
     "user_tz": -120,
     "elapsed": 4436774,
     "user": {
      "displayName": "Konstantinos Roumeliotis",
      "userId": "17264923090131634662"
     }
    },
    "outputId": "1fd481bc-bb02-4671-e0e2-856b50dacf9a"
   },
   "outputs": [
    {
     "output_type": "stream",
     "name": "stdout",
     "text": [
      "Requirement already satisfied: torch in /usr/local/lib/python3.11/dist-packages (2.6.0+cu124)\n",
      "Requirement already satisfied: torchvision in /usr/local/lib/python3.11/dist-packages (0.21.0+cu124)\n",
      "Requirement already satisfied: pandas in /usr/local/lib/python3.11/dist-packages (2.2.2)\n",
      "Requirement already satisfied: pillow in /usr/local/lib/python3.11/dist-packages (11.1.0)\n",
      "Requirement already satisfied: scikit-learn in /usr/local/lib/python3.11/dist-packages (1.6.1)\n",
      "Collecting optuna\n",
      "  Downloading optuna-4.2.1-py3-none-any.whl.metadata (17 kB)\n",
      "Requirement already satisfied: tqdm in /usr/local/lib/python3.11/dist-packages (4.67.1)\n",
      "Requirement already satisfied: filelock in /usr/local/lib/python3.11/dist-packages (from torch) (3.17.0)\n",
      "Requirement already satisfied: typing-extensions>=4.10.0 in /usr/local/lib/python3.11/dist-packages (from torch) (4.12.2)\n",
      "Requirement already satisfied: networkx in /usr/local/lib/python3.11/dist-packages (from torch) (3.4.2)\n",
      "Requirement already satisfied: jinja2 in /usr/local/lib/python3.11/dist-packages (from torch) (3.1.6)\n",
      "Requirement already satisfied: fsspec in /usr/local/lib/python3.11/dist-packages (from torch) (2024.10.0)\n",
      "Collecting nvidia-cuda-nvrtc-cu12==12.4.127 (from torch)\n",
      "  Downloading nvidia_cuda_nvrtc_cu12-12.4.127-py3-none-manylinux2014_x86_64.whl.metadata (1.5 kB)\n",
      "Collecting nvidia-cuda-runtime-cu12==12.4.127 (from torch)\n",
      "  Downloading nvidia_cuda_runtime_cu12-12.4.127-py3-none-manylinux2014_x86_64.whl.metadata (1.5 kB)\n",
      "Collecting nvidia-cuda-cupti-cu12==12.4.127 (from torch)\n",
      "  Downloading nvidia_cuda_cupti_cu12-12.4.127-py3-none-manylinux2014_x86_64.whl.metadata (1.6 kB)\n",
      "Collecting nvidia-cudnn-cu12==9.1.0.70 (from torch)\n",
      "  Downloading nvidia_cudnn_cu12-9.1.0.70-py3-none-manylinux2014_x86_64.whl.metadata (1.6 kB)\n",
      "Collecting nvidia-cublas-cu12==12.4.5.8 (from torch)\n",
      "  Downloading nvidia_cublas_cu12-12.4.5.8-py3-none-manylinux2014_x86_64.whl.metadata (1.5 kB)\n",
      "Collecting nvidia-cufft-cu12==11.2.1.3 (from torch)\n",
      "  Downloading nvidia_cufft_cu12-11.2.1.3-py3-none-manylinux2014_x86_64.whl.metadata (1.5 kB)\n",
      "Collecting nvidia-curand-cu12==10.3.5.147 (from torch)\n",
      "  Downloading nvidia_curand_cu12-10.3.5.147-py3-none-manylinux2014_x86_64.whl.metadata (1.5 kB)\n",
      "Collecting nvidia-cusolver-cu12==11.6.1.9 (from torch)\n",
      "  Downloading nvidia_cusolver_cu12-11.6.1.9-py3-none-manylinux2014_x86_64.whl.metadata (1.6 kB)\n",
      "Collecting nvidia-cusparse-cu12==12.3.1.170 (from torch)\n",
      "  Downloading nvidia_cusparse_cu12-12.3.1.170-py3-none-manylinux2014_x86_64.whl.metadata (1.6 kB)\n",
      "Requirement already satisfied: nvidia-cusparselt-cu12==0.6.2 in /usr/local/lib/python3.11/dist-packages (from torch) (0.6.2)\n",
      "Requirement already satisfied: nvidia-nccl-cu12==2.21.5 in /usr/local/lib/python3.11/dist-packages (from torch) (2.21.5)\n",
      "Requirement already satisfied: nvidia-nvtx-cu12==12.4.127 in /usr/local/lib/python3.11/dist-packages (from torch) (12.4.127)\n",
      "Collecting nvidia-nvjitlink-cu12==12.4.127 (from torch)\n",
      "  Downloading nvidia_nvjitlink_cu12-12.4.127-py3-none-manylinux2014_x86_64.whl.metadata (1.5 kB)\n",
      "Requirement already satisfied: triton==3.2.0 in /usr/local/lib/python3.11/dist-packages (from torch) (3.2.0)\n",
      "Requirement already satisfied: sympy==1.13.1 in /usr/local/lib/python3.11/dist-packages (from torch) (1.13.1)\n",
      "Requirement already satisfied: mpmath<1.4,>=1.1.0 in /usr/local/lib/python3.11/dist-packages (from sympy==1.13.1->torch) (1.3.0)\n",
      "Requirement already satisfied: numpy in /usr/local/lib/python3.11/dist-packages (from torchvision) (2.0.2)\n",
      "Requirement already satisfied: python-dateutil>=2.8.2 in /usr/local/lib/python3.11/dist-packages (from pandas) (2.8.2)\n",
      "Requirement already satisfied: pytz>=2020.1 in /usr/local/lib/python3.11/dist-packages (from pandas) (2025.1)\n",
      "Requirement already satisfied: tzdata>=2022.7 in /usr/local/lib/python3.11/dist-packages (from pandas) (2025.1)\n",
      "Requirement already satisfied: scipy>=1.6.0 in /usr/local/lib/python3.11/dist-packages (from scikit-learn) (1.14.1)\n",
      "Requirement already satisfied: joblib>=1.2.0 in /usr/local/lib/python3.11/dist-packages (from scikit-learn) (1.4.2)\n",
      "Requirement already satisfied: threadpoolctl>=3.1.0 in /usr/local/lib/python3.11/dist-packages (from scikit-learn) (3.6.0)\n",
      "Collecting alembic>=1.5.0 (from optuna)\n",
      "  Downloading alembic-1.15.1-py3-none-any.whl.metadata (7.2 kB)\n",
      "Collecting colorlog (from optuna)\n",
      "  Downloading colorlog-6.9.0-py3-none-any.whl.metadata (10 kB)\n",
      "Requirement already satisfied: packaging>=20.0 in /usr/local/lib/python3.11/dist-packages (from optuna) (24.2)\n",
      "Requirement already satisfied: sqlalchemy>=1.4.2 in /usr/local/lib/python3.11/dist-packages (from optuna) (2.0.39)\n",
      "Requirement already satisfied: PyYAML in /usr/local/lib/python3.11/dist-packages (from optuna) (6.0.2)\n",
      "Collecting Mako (from alembic>=1.5.0->optuna)\n",
      "  Downloading Mako-1.3.9-py3-none-any.whl.metadata (2.9 kB)\n",
      "Requirement already satisfied: six>=1.5 in /usr/local/lib/python3.11/dist-packages (from python-dateutil>=2.8.2->pandas) (1.17.0)\n",
      "Requirement already satisfied: greenlet!=0.4.17 in /usr/local/lib/python3.11/dist-packages (from sqlalchemy>=1.4.2->optuna) (3.1.1)\n",
      "Requirement already satisfied: MarkupSafe>=2.0 in /usr/local/lib/python3.11/dist-packages (from jinja2->torch) (3.0.2)\n",
      "Downloading nvidia_cublas_cu12-12.4.5.8-py3-none-manylinux2014_x86_64.whl (363.4 MB)\n",
      "\u001B[2K   \u001B[90m━━━━━━━━━━━━━━━━━━━━━━━━━━━━━━━━━━━━━━━━\u001B[0m \u001B[32m363.4/363.4 MB\u001B[0m \u001B[31m2.3 MB/s\u001B[0m eta \u001B[36m0:00:00\u001B[0m\n",
      "\u001B[?25hDownloading nvidia_cuda_cupti_cu12-12.4.127-py3-none-manylinux2014_x86_64.whl (13.8 MB)\n",
      "\u001B[2K   \u001B[90m━━━━━━━━━━━━━━━━━━━━━━━━━━━━━━━━━━━━━━━━\u001B[0m \u001B[32m13.8/13.8 MB\u001B[0m \u001B[31m86.6 MB/s\u001B[0m eta \u001B[36m0:00:00\u001B[0m\n",
      "\u001B[?25hDownloading nvidia_cuda_nvrtc_cu12-12.4.127-py3-none-manylinux2014_x86_64.whl (24.6 MB)\n",
      "\u001B[2K   \u001B[90m━━━━━━━━━━━━━━━━━━━━━━━━━━━━━━━━━━━━━━━━\u001B[0m \u001B[32m24.6/24.6 MB\u001B[0m \u001B[31m85.6 MB/s\u001B[0m eta \u001B[36m0:00:00\u001B[0m\n",
      "\u001B[?25hDownloading nvidia_cuda_runtime_cu12-12.4.127-py3-none-manylinux2014_x86_64.whl (883 kB)\n",
      "\u001B[2K   \u001B[90m━━━━━━━━━━━━━━━━━━━━━━━━━━━━━━━━━━━━━━━━\u001B[0m \u001B[32m883.7/883.7 kB\u001B[0m \u001B[31m51.5 MB/s\u001B[0m eta \u001B[36m0:00:00\u001B[0m\n",
      "\u001B[?25hDownloading nvidia_cudnn_cu12-9.1.0.70-py3-none-manylinux2014_x86_64.whl (664.8 MB)\n",
      "\u001B[2K   \u001B[90m━━━━━━━━━━━━━━━━━━━━━━━━━━━━━━━━━━━━━━━━\u001B[0m \u001B[32m664.8/664.8 MB\u001B[0m \u001B[31m1.3 MB/s\u001B[0m eta \u001B[36m0:00:00\u001B[0m\n",
      "\u001B[?25hDownloading nvidia_cufft_cu12-11.2.1.3-py3-none-manylinux2014_x86_64.whl (211.5 MB)\n",
      "\u001B[2K   \u001B[90m━━━━━━━━━━━━━━━━━━━━━━━━━━━━━━━━━━━━━━━━\u001B[0m \u001B[32m211.5/211.5 MB\u001B[0m \u001B[31m9.6 MB/s\u001B[0m eta \u001B[36m0:00:00\u001B[0m\n",
      "\u001B[?25hDownloading nvidia_curand_cu12-10.3.5.147-py3-none-manylinux2014_x86_64.whl (56.3 MB)\n",
      "\u001B[2K   \u001B[90m━━━━━━━━━━━━━━━━━━━━━━━━━━━━━━━━━━━━━━━━\u001B[0m \u001B[32m56.3/56.3 MB\u001B[0m \u001B[31m35.4 MB/s\u001B[0m eta \u001B[36m0:00:00\u001B[0m\n",
      "\u001B[?25hDownloading nvidia_cusolver_cu12-11.6.1.9-py3-none-manylinux2014_x86_64.whl (127.9 MB)\n",
      "\u001B[2K   \u001B[90m━━━━━━━━━━━━━━━━━━━━━━━━━━━━━━━━━━━━━━━━\u001B[0m \u001B[32m127.9/127.9 MB\u001B[0m \u001B[31m8.8 MB/s\u001B[0m eta \u001B[36m0:00:00\u001B[0m\n",
      "\u001B[?25hDownloading nvidia_cusparse_cu12-12.3.1.170-py3-none-manylinux2014_x86_64.whl (207.5 MB)\n",
      "\u001B[2K   \u001B[90m━━━━━━━━━━━━━━━━━━━━━━━━━━━━━━━━━━━━━━━━\u001B[0m \u001B[32m207.5/207.5 MB\u001B[0m \u001B[31m9.9 MB/s\u001B[0m eta \u001B[36m0:00:00\u001B[0m\n",
      "\u001B[?25hDownloading nvidia_nvjitlink_cu12-12.4.127-py3-none-manylinux2014_x86_64.whl (21.1 MB)\n",
      "\u001B[2K   \u001B[90m━━━━━━━━━━━━━━━━━━━━━━━━━━━━━━━━━━━━━━━━\u001B[0m \u001B[32m21.1/21.1 MB\u001B[0m \u001B[31m97.6 MB/s\u001B[0m eta \u001B[36m0:00:00\u001B[0m\n",
      "\u001B[?25hDownloading optuna-4.2.1-py3-none-any.whl (383 kB)\n",
      "\u001B[2K   \u001B[90m━━━━━━━━━━━━━━━━━━━━━━━━━━━━━━━━━━━━━━━━\u001B[0m \u001B[32m383.6/383.6 kB\u001B[0m \u001B[31m35.9 MB/s\u001B[0m eta \u001B[36m0:00:00\u001B[0m\n",
      "\u001B[?25hDownloading alembic-1.15.1-py3-none-any.whl (231 kB)\n",
      "\u001B[2K   \u001B[90m━━━━━━━━━━━━━━━━━━━━━━━━━━━━━━━━━━━━━━━━\u001B[0m \u001B[32m231.8/231.8 kB\u001B[0m \u001B[31m22.9 MB/s\u001B[0m eta \u001B[36m0:00:00\u001B[0m\n",
      "\u001B[?25hDownloading colorlog-6.9.0-py3-none-any.whl (11 kB)\n",
      "Downloading Mako-1.3.9-py3-none-any.whl (78 kB)\n",
      "\u001B[2K   \u001B[90m━━━━━━━━━━━━━━━━━━━━━━━━━━━━━━━━━━━━━━━━\u001B[0m \u001B[32m78.5/78.5 kB\u001B[0m \u001B[31m7.9 MB/s\u001B[0m eta \u001B[36m0:00:00\u001B[0m\n",
      "\u001B[?25hInstalling collected packages: nvidia-nvjitlink-cu12, nvidia-curand-cu12, nvidia-cufft-cu12, nvidia-cuda-runtime-cu12, nvidia-cuda-nvrtc-cu12, nvidia-cuda-cupti-cu12, nvidia-cublas-cu12, Mako, colorlog, nvidia-cusparse-cu12, nvidia-cudnn-cu12, alembic, optuna, nvidia-cusolver-cu12\n",
      "  Attempting uninstall: nvidia-nvjitlink-cu12\n",
      "    Found existing installation: nvidia-nvjitlink-cu12 12.5.82\n",
      "    Uninstalling nvidia-nvjitlink-cu12-12.5.82:\n",
      "      Successfully uninstalled nvidia-nvjitlink-cu12-12.5.82\n",
      "  Attempting uninstall: nvidia-curand-cu12\n",
      "    Found existing installation: nvidia-curand-cu12 10.3.6.82\n",
      "    Uninstalling nvidia-curand-cu12-10.3.6.82:\n",
      "      Successfully uninstalled nvidia-curand-cu12-10.3.6.82\n",
      "  Attempting uninstall: nvidia-cufft-cu12\n",
      "    Found existing installation: nvidia-cufft-cu12 11.2.3.61\n",
      "    Uninstalling nvidia-cufft-cu12-11.2.3.61:\n",
      "      Successfully uninstalled nvidia-cufft-cu12-11.2.3.61\n",
      "  Attempting uninstall: nvidia-cuda-runtime-cu12\n",
      "    Found existing installation: nvidia-cuda-runtime-cu12 12.5.82\n",
      "    Uninstalling nvidia-cuda-runtime-cu12-12.5.82:\n",
      "      Successfully uninstalled nvidia-cuda-runtime-cu12-12.5.82\n",
      "  Attempting uninstall: nvidia-cuda-nvrtc-cu12\n",
      "    Found existing installation: nvidia-cuda-nvrtc-cu12 12.5.82\n",
      "    Uninstalling nvidia-cuda-nvrtc-cu12-12.5.82:\n",
      "      Successfully uninstalled nvidia-cuda-nvrtc-cu12-12.5.82\n",
      "  Attempting uninstall: nvidia-cuda-cupti-cu12\n",
      "    Found existing installation: nvidia-cuda-cupti-cu12 12.5.82\n",
      "    Uninstalling nvidia-cuda-cupti-cu12-12.5.82:\n",
      "      Successfully uninstalled nvidia-cuda-cupti-cu12-12.5.82\n",
      "  Attempting uninstall: nvidia-cublas-cu12\n",
      "    Found existing installation: nvidia-cublas-cu12 12.5.3.2\n",
      "    Uninstalling nvidia-cublas-cu12-12.5.3.2:\n",
      "      Successfully uninstalled nvidia-cublas-cu12-12.5.3.2\n",
      "  Attempting uninstall: nvidia-cusparse-cu12\n",
      "    Found existing installation: nvidia-cusparse-cu12 12.5.1.3\n",
      "    Uninstalling nvidia-cusparse-cu12-12.5.1.3:\n",
      "      Successfully uninstalled nvidia-cusparse-cu12-12.5.1.3\n",
      "  Attempting uninstall: nvidia-cudnn-cu12\n",
      "    Found existing installation: nvidia-cudnn-cu12 9.3.0.75\n",
      "    Uninstalling nvidia-cudnn-cu12-9.3.0.75:\n",
      "      Successfully uninstalled nvidia-cudnn-cu12-9.3.0.75\n",
      "  Attempting uninstall: nvidia-cusolver-cu12\n",
      "    Found existing installation: nvidia-cusolver-cu12 11.6.3.83\n",
      "    Uninstalling nvidia-cusolver-cu12-11.6.3.83:\n",
      "      Successfully uninstalled nvidia-cusolver-cu12-11.6.3.83\n",
      "Successfully installed Mako-1.3.9 alembic-1.15.1 colorlog-6.9.0 nvidia-cublas-cu12-12.4.5.8 nvidia-cuda-cupti-cu12-12.4.127 nvidia-cuda-nvrtc-cu12-12.4.127 nvidia-cuda-runtime-cu12-12.4.127 nvidia-cudnn-cu12-9.1.0.70 nvidia-cufft-cu12-11.2.1.3 nvidia-curand-cu12-10.3.5.147 nvidia-cusolver-cu12-11.6.1.9 nvidia-cusparse-cu12-12.3.1.170 nvidia-nvjitlink-cu12-12.4.127 optuna-4.2.1\n",
      "Mounted at /content/gdrive\n",
      "Using device: cuda\n",
      "GPU: NVIDIA A100-SXM4-40GB\n",
      "Memory Allocated: 0.00 GB\n",
      "Memory Reserved: 0.00 GB\n",
      "Total Memory: 42.47 GB\n"
     ]
    },
    {
     "output_type": "stream",
     "name": "stderr",
     "text": [
      "[I 2025-03-20 05:14:50,135] A new study created in memory with name: no-name-31cdc724-9013-4589-a162-b2262ac814bf\n"
     ]
    },
    {
     "output_type": "stream",
     "name": "stdout",
     "text": [
      "Label encoding saved to /content/gdrive/My Drive/Projects/Multimodal/Datasets/corn-label_to_idx-256.json\n",
      "Number of classes: 4\n",
      "Running 30 trials with larger batch sizes to maximize GPU usage\n"
     ]
    },
    {
     "output_type": "stream",
     "name": "stderr",
     "text": [
      "Downloading: \"https://download.pytorch.org/models/resnet50-0676ba61.pth\" to /root/.cache/torch/hub/checkpoints/resnet50-0676ba61.pth\n",
      "100%|██████████| 97.8M/97.8M [00:00<00:00, 198MB/s]\n",
      "<ipython-input-1-75da44eaa892>:313: FutureWarning: `torch.cuda.amp.GradScaler(args...)` is deprecated. Please use `torch.amp.GradScaler('cuda', args...)` instead.\n",
      "  scaler = amp.GradScaler()\n",
      "Training:   0%|          | 0/4 [00:00<?, ?it/s]<ipython-input-1-75da44eaa892>:230: FutureWarning: `torch.cuda.amp.autocast(args...)` is deprecated. Please use `torch.amp.autocast('cuda', args...)` instead.\n",
      "  with amp.autocast():\n",
      "Training: 100%|██████████| 4/4 [01:00<00:00, 15.25s/it]\n",
      "<ipython-input-1-75da44eaa892>:256: FutureWarning: `torch.cuda.amp.autocast(args...)` is deprecated. Please use `torch.amp.autocast('cuda', args...)` instead.\n",
      "  with torch.no_grad(), amp.autocast():\n",
      "Validating: 100%|██████████| 1/1 [00:57<00:00, 57.34s/it]\n"
     ]
    },
    {
     "output_type": "stream",
     "name": "stdout",
     "text": [
      "Epoch 1, Train Loss: 1.3954, Train Acc: 0.2852, Val Loss: 1.3356, Val Acc: 0.3438\n",
      "GPU Memory: 0.11GB / 42.47GB\n"
     ]
    },
    {
     "output_type": "stream",
     "name": "stderr",
     "text": [
      "Training: 100%|██████████| 4/4 [00:46<00:00, 11.59s/it]\n",
      "Validating: 100%|██████████| 1/1 [00:00<00:00,  3.73it/s]\n"
     ]
    },
    {
     "output_type": "stream",
     "name": "stdout",
     "text": [
      "Epoch 2, Train Loss: 1.2879, Train Acc: 0.3926, Val Loss: 1.1897, Val Acc: 0.6016\n",
      "GPU Memory: 0.11GB / 42.47GB\n"
     ]
    },
    {
     "output_type": "stream",
     "name": "stderr",
     "text": [
      "Training: 100%|██████████| 4/4 [00:38<00:00,  9.51s/it]\n",
      "Validating: 100%|██████████| 1/1 [00:00<00:00,  4.17it/s]\n"
     ]
    },
    {
     "output_type": "stream",
     "name": "stdout",
     "text": [
      "Epoch 3, Train Loss: 1.1719, Train Acc: 0.5293, Val Loss: 1.0551, Val Acc: 0.8125\n",
      "GPU Memory: 0.11GB / 42.47GB\n"
     ]
    },
    {
     "output_type": "stream",
     "name": "stderr",
     "text": [
      "Training: 100%|██████████| 4/4 [00:28<00:00,  7.23s/it]\n",
      "Validating: 100%|██████████| 1/1 [00:00<00:00,  4.20it/s]\n"
     ]
    },
    {
     "output_type": "stream",
     "name": "stdout",
     "text": [
      "Epoch 4, Train Loss: 1.0777, Train Acc: 0.6113, Val Loss: 0.9582, Val Acc: 0.8203\n",
      "GPU Memory: 0.11GB / 42.47GB\n"
     ]
    },
    {
     "output_type": "stream",
     "name": "stderr",
     "text": [
      "Training: 100%|██████████| 4/4 [00:19<00:00,  4.88s/it]\n",
      "Validating: 100%|██████████| 1/1 [00:00<00:00,  4.14it/s]\n"
     ]
    },
    {
     "output_type": "stream",
     "name": "stdout",
     "text": [
      "Epoch 5, Train Loss: 1.0002, Train Acc: 0.6641, Val Loss: 0.8911, Val Acc: 0.7500\n",
      "GPU Memory: 0.11GB / 42.47GB\n"
     ]
    },
    {
     "output_type": "stream",
     "name": "stderr",
     "text": [
      "Training: 100%|██████████| 4/4 [00:15<00:00,  3.85s/it]\n",
      "Validating: 100%|██████████| 1/1 [00:00<00:00,  4.13it/s]\n"
     ]
    },
    {
     "output_type": "stream",
     "name": "stdout",
     "text": [
      "Epoch 6, Train Loss: 0.9162, Train Acc: 0.7402, Val Loss: 0.8071, Val Acc: 0.8438\n",
      "GPU Memory: 0.11GB / 42.47GB\n"
     ]
    },
    {
     "output_type": "stream",
     "name": "stderr",
     "text": [
      "Training: 100%|██████████| 4/4 [00:12<00:00,  3.18s/it]\n",
      "Validating: 100%|██████████| 1/1 [00:00<00:00,  4.20it/s]\n"
     ]
    },
    {
     "output_type": "stream",
     "name": "stdout",
     "text": [
      "Epoch 7, Train Loss: 0.8456, Train Acc: 0.7734, Val Loss: 0.7395, Val Acc: 0.8750\n",
      "GPU Memory: 0.11GB / 42.47GB\n"
     ]
    },
    {
     "output_type": "stream",
     "name": "stderr",
     "text": [
      "Training: 100%|██████████| 4/4 [00:08<00:00,  2.12s/it]\n",
      "Validating: 100%|██████████| 1/1 [00:00<00:00,  4.24it/s]\n"
     ]
    },
    {
     "output_type": "stream",
     "name": "stdout",
     "text": [
      "Epoch 8, Train Loss: 0.8077, Train Acc: 0.7676, Val Loss: 0.6910, Val Acc: 0.8594\n",
      "GPU Memory: 0.11GB / 42.47GB\n"
     ]
    },
    {
     "output_type": "stream",
     "name": "stderr",
     "text": [
      "Training: 100%|██████████| 4/4 [00:08<00:00,  2.00s/it]\n",
      "Validating: 100%|██████████| 1/1 [00:00<00:00,  4.19it/s]\n"
     ]
    },
    {
     "output_type": "stream",
     "name": "stdout",
     "text": [
      "Epoch 9, Train Loss: 0.7803, Train Acc: 0.7598, Val Loss: 0.6527, Val Acc: 0.8750\n",
      "GPU Memory: 0.11GB / 42.47GB\n"
     ]
    },
    {
     "output_type": "stream",
     "name": "stderr",
     "text": [
      "Training: 100%|██████████| 4/4 [00:05<00:00,  1.34s/it]\n",
      "Validating: 100%|██████████| 1/1 [00:00<00:00,  4.20it/s]\n",
      "[I 2025-03-20 05:19:56,207] Trial 0 finished with value: 0.875 and parameters: {'batch_size': 128, 'learning_rate': 0.0003929028077358773, 'dropout_rate': 0.5481592412011371, 'weight_decay': 0.0003017381983586238}. Best is trial 0 with value: 0.875.\n"
     ]
    },
    {
     "output_type": "stream",
     "name": "stdout",
     "text": [
      "Epoch 10, Train Loss: 0.7306, Train Acc: 0.7656, Val Loss: 0.6181, Val Acc: 0.8516\n",
      "GPU Memory: 0.11GB / 42.47GB\n",
      "Early stopping at epoch 10\n"
     ]
    },
    {
     "output_type": "stream",
     "name": "stderr",
     "text": [
      "<ipython-input-1-75da44eaa892>:313: FutureWarning: `torch.cuda.amp.GradScaler(args...)` is deprecated. Please use `torch.amp.GradScaler('cuda', args...)` instead.\n",
      "  scaler = amp.GradScaler()\n",
      "Training:   0%|          | 0/32 [00:00<?, ?it/s]<ipython-input-1-75da44eaa892>:230: FutureWarning: `torch.cuda.amp.autocast(args...)` is deprecated. Please use `torch.amp.autocast('cuda', args...)` instead.\n",
      "  with amp.autocast():\n",
      "Training: 100%|██████████| 32/32 [00:29<00:00,  1.08it/s]\n",
      "<ipython-input-1-75da44eaa892>:256: FutureWarning: `torch.cuda.amp.autocast(args...)` is deprecated. Please use `torch.amp.autocast('cuda', args...)` instead.\n",
      "  with torch.no_grad(), amp.autocast():\n",
      "Validating: 100%|██████████| 8/8 [00:07<00:00,  1.04it/s]\n"
     ]
    },
    {
     "output_type": "stream",
     "name": "stdout",
     "text": [
      "Epoch 1, Train Loss: 1.2996, Train Acc: 0.4102, Val Loss: 0.8536, Val Acc: 0.7656\n",
      "GPU Memory: 0.11GB / 42.47GB\n"
     ]
    },
    {
     "output_type": "stream",
     "name": "stderr",
     "text": [
      "Training: 100%|██████████| 32/32 [00:27<00:00,  1.15it/s]\n",
      "Validating: 100%|██████████| 8/8 [00:00<00:00, 61.07it/s]\n"
     ]
    },
    {
     "output_type": "stream",
     "name": "stdout",
     "text": [
      "Epoch 2, Train Loss: 0.8769, Train Acc: 0.6895, Val Loss: 0.6235, Val Acc: 0.8203\n",
      "GPU Memory: 0.11GB / 42.47GB\n"
     ]
    },
    {
     "output_type": "stream",
     "name": "stderr",
     "text": [
      "Training: 100%|██████████| 32/32 [00:24<00:00,  1.33it/s]\n",
      "Validating: 100%|██████████| 8/8 [00:00<00:00, 64.77it/s]\n"
     ]
    },
    {
     "output_type": "stream",
     "name": "stdout",
     "text": [
      "Epoch 3, Train Loss: 0.7779, Train Acc: 0.7012, Val Loss: 0.4701, Val Acc: 0.9062\n",
      "GPU Memory: 0.11GB / 42.47GB\n"
     ]
    },
    {
     "output_type": "stream",
     "name": "stderr",
     "text": [
      "Training: 100%|██████████| 32/32 [00:22<00:00,  1.45it/s]\n",
      "Validating: 100%|██████████| 8/8 [00:00<00:00, 65.03it/s]\n"
     ]
    },
    {
     "output_type": "stream",
     "name": "stdout",
     "text": [
      "Epoch 4, Train Loss: 0.6612, Train Acc: 0.7754, Val Loss: 0.4940, Val Acc: 0.8125\n",
      "GPU Memory: 0.11GB / 42.47GB\n"
     ]
    },
    {
     "output_type": "stream",
     "name": "stderr",
     "text": [
      "Training: 100%|██████████| 32/32 [00:18<00:00,  1.72it/s]\n",
      "Validating: 100%|██████████| 8/8 [00:00<00:00, 68.52it/s]\n"
     ]
    },
    {
     "output_type": "stream",
     "name": "stdout",
     "text": [
      "Epoch 5, Train Loss: 0.5851, Train Acc: 0.7891, Val Loss: 0.3722, Val Acc: 0.9062\n",
      "GPU Memory: 0.11GB / 42.47GB\n"
     ]
    },
    {
     "output_type": "stream",
     "name": "stderr",
     "text": [
      "Training: 100%|██████████| 32/32 [00:17<00:00,  1.80it/s]\n",
      "Validating: 100%|██████████| 8/8 [00:00<00:00, 66.68it/s]\n",
      "[I 2025-03-20 05:22:25,795] Trial 1 finished with value: 0.90625 and parameters: {'batch_size': 16, 'learning_rate': 0.0007547226121436531, 'dropout_rate': 0.6497349647054085, 'weight_decay': 0.0002309124204152528}. Best is trial 1 with value: 0.90625.\n"
     ]
    },
    {
     "output_type": "stream",
     "name": "stdout",
     "text": [
      "Epoch 6, Train Loss: 0.5777, Train Acc: 0.7871, Val Loss: 0.3803, Val Acc: 0.8594\n",
      "GPU Memory: 0.11GB / 42.47GB\n",
      "Early stopping at epoch 6\n"
     ]
    },
    {
     "output_type": "stream",
     "name": "stderr",
     "text": [
      "<ipython-input-1-75da44eaa892>:313: FutureWarning: `torch.cuda.amp.GradScaler(args...)` is deprecated. Please use `torch.amp.GradScaler('cuda', args...)` instead.\n",
      "  scaler = amp.GradScaler()\n",
      "Training:   0%|          | 0/4 [00:00<?, ?it/s]<ipython-input-1-75da44eaa892>:230: FutureWarning: `torch.cuda.amp.autocast(args...)` is deprecated. Please use `torch.amp.autocast('cuda', args...)` instead.\n",
      "  with amp.autocast():\n",
      "Training: 100%|██████████| 4/4 [00:58<00:00, 14.70s/it]\n",
      "<ipython-input-1-75da44eaa892>:256: FutureWarning: `torch.cuda.amp.autocast(args...)` is deprecated. Please use `torch.amp.autocast('cuda', args...)` instead.\n",
      "  with torch.no_grad(), amp.autocast():\n",
      "Validating: 100%|██████████| 1/1 [00:57<00:00, 57.70s/it]\n"
     ]
    },
    {
     "output_type": "stream",
     "name": "stdout",
     "text": [
      "Epoch 1, Train Loss: 1.4949, Train Acc: 0.2344, Val Loss: 1.4649, Val Acc: 0.2422\n",
      "GPU Memory: 0.11GB / 42.47GB\n"
     ]
    },
    {
     "output_type": "stream",
     "name": "stderr",
     "text": [
      "Training: 100%|██████████| 4/4 [00:44<00:00, 11.18s/it]\n",
      "Validating: 100%|██████████| 1/1 [00:00<00:00,  3.49it/s]\n"
     ]
    },
    {
     "output_type": "stream",
     "name": "stdout",
     "text": [
      "Epoch 2, Train Loss: 1.4743, Train Acc: 0.2559, Val Loss: 1.4376, Val Acc: 0.2578\n",
      "GPU Memory: 0.11GB / 42.47GB\n"
     ]
    },
    {
     "output_type": "stream",
     "name": "stderr",
     "text": [
      "Training: 100%|██████████| 4/4 [00:32<00:00,  8.14s/it]\n",
      "Validating: 100%|██████████| 1/1 [00:00<00:00,  4.14it/s]\n"
     ]
    },
    {
     "output_type": "stream",
     "name": "stdout",
     "text": [
      "Epoch 3, Train Loss: 1.4638, Train Acc: 0.2578, Val Loss: 1.4197, Val Acc: 0.2812\n",
      "GPU Memory: 0.11GB / 42.47GB\n"
     ]
    },
    {
     "output_type": "stream",
     "name": "stderr",
     "text": [
      "Training: 100%|██████████| 4/4 [00:29<00:00,  7.33s/it]\n",
      "Validating: 100%|██████████| 1/1 [00:00<00:00,  3.64it/s]\n"
     ]
    },
    {
     "output_type": "stream",
     "name": "stdout",
     "text": [
      "Epoch 4, Train Loss: 1.4762, Train Acc: 0.2363, Val Loss: 1.4068, Val Acc: 0.3047\n",
      "GPU Memory: 0.11GB / 42.47GB\n"
     ]
    },
    {
     "output_type": "stream",
     "name": "stderr",
     "text": [
      "Training: 100%|██████████| 4/4 [00:21<00:00,  5.37s/it]\n",
      "Validating: 100%|██████████| 1/1 [00:00<00:00,  4.12it/s]\n"
     ]
    },
    {
     "output_type": "stream",
     "name": "stdout",
     "text": [
      "Epoch 5, Train Loss: 1.4801, Train Acc: 0.2051, Val Loss: 1.3940, Val Acc: 0.3281\n",
      "GPU Memory: 0.11GB / 42.47GB\n"
     ]
    },
    {
     "output_type": "stream",
     "name": "stderr",
     "text": [
      "Training: 100%|██████████| 4/4 [00:17<00:00,  4.45s/it]\n",
      "Validating: 100%|██████████| 1/1 [00:00<00:00,  4.11it/s]\n"
     ]
    },
    {
     "output_type": "stream",
     "name": "stdout",
     "text": [
      "Epoch 6, Train Loss: 1.4343, Train Acc: 0.2461, Val Loss: 1.3835, Val Acc: 0.3516\n",
      "GPU Memory: 0.11GB / 42.47GB\n"
     ]
    },
    {
     "output_type": "stream",
     "name": "stderr",
     "text": [
      "Training: 100%|██████████| 4/4 [00:13<00:00,  3.31s/it]\n",
      "Validating: 100%|██████████| 1/1 [00:00<00:00,  4.13it/s]\n"
     ]
    },
    {
     "output_type": "stream",
     "name": "stdout",
     "text": [
      "Epoch 7, Train Loss: 1.4398, Train Acc: 0.2520, Val Loss: 1.3751, Val Acc: 0.3594\n",
      "GPU Memory: 0.11GB / 42.47GB\n"
     ]
    },
    {
     "output_type": "stream",
     "name": "stderr",
     "text": [
      "Training: 100%|██████████| 4/4 [00:11<00:00,  2.88s/it]\n",
      "Validating: 100%|██████████| 1/1 [00:00<00:00,  4.10it/s]\n"
     ]
    },
    {
     "output_type": "stream",
     "name": "stdout",
     "text": [
      "Epoch 8, Train Loss: 1.4557, Train Acc: 0.2559, Val Loss: 1.3687, Val Acc: 0.3828\n",
      "GPU Memory: 0.11GB / 42.47GB\n"
     ]
    },
    {
     "output_type": "stream",
     "name": "stderr",
     "text": [
      "Training: 100%|██████████| 4/4 [00:06<00:00,  1.63s/it]\n",
      "Validating: 100%|██████████| 1/1 [00:00<00:00,  4.12it/s]\n"
     ]
    },
    {
     "output_type": "stream",
     "name": "stdout",
     "text": [
      "Epoch 9, Train Loss: 1.4369, Train Acc: 0.2578, Val Loss: 1.3621, Val Acc: 0.4141\n",
      "GPU Memory: 0.11GB / 42.47GB\n"
     ]
    },
    {
     "output_type": "stream",
     "name": "stderr",
     "text": [
      "Training: 100%|██████████| 4/4 [00:07<00:00,  1.76s/it]\n",
      "Validating: 100%|██████████| 1/1 [00:00<00:00,  4.22it/s]\n",
      "[I 2025-03-20 05:27:31,345] Trial 2 finished with value: 0.4140625 and parameters: {'batch_size': 128, 'learning_rate': 1.4243266209318448e-05, 'dropout_rate': 0.47412758852028675, 'weight_decay': 4.0575832335043245e-05}. Best is trial 1 with value: 0.90625.\n"
     ]
    },
    {
     "output_type": "stream",
     "name": "stdout",
     "text": [
      "Epoch 10, Train Loss: 1.4112, Train Acc: 0.2871, Val Loss: 1.3557, Val Acc: 0.4062\n",
      "GPU Memory: 0.11GB / 42.47GB\n"
     ]
    },
    {
     "output_type": "stream",
     "name": "stderr",
     "text": [
      "<ipython-input-1-75da44eaa892>:313: FutureWarning: `torch.cuda.amp.GradScaler(args...)` is deprecated. Please use `torch.amp.GradScaler('cuda', args...)` instead.\n",
      "  scaler = amp.GradScaler()\n",
      "Training:   0%|          | 0/4 [00:00<?, ?it/s]<ipython-input-1-75da44eaa892>:230: FutureWarning: `torch.cuda.amp.autocast(args...)` is deprecated. Please use `torch.amp.autocast('cuda', args...)` instead.\n",
      "  with amp.autocast():\n",
      "Training: 100%|██████████| 4/4 [00:58<00:00, 14.60s/it]\n",
      "<ipython-input-1-75da44eaa892>:256: FutureWarning: `torch.cuda.amp.autocast(args...)` is deprecated. Please use `torch.amp.autocast('cuda', args...)` instead.\n",
      "  with torch.no_grad(), amp.autocast():\n",
      "Validating: 100%|██████████| 1/1 [00:57<00:00, 57.65s/it]\n"
     ]
    },
    {
     "output_type": "stream",
     "name": "stdout",
     "text": [
      "Epoch 1, Train Loss: 1.4345, Train Acc: 0.2246, Val Loss: 1.4036, Val Acc: 0.2891\n",
      "GPU Memory: 0.21GB / 42.47GB\n"
     ]
    },
    {
     "output_type": "stream",
     "name": "stderr",
     "text": [
      "Training: 100%|██████████| 4/4 [00:45<00:00, 11.35s/it]\n",
      "Validating: 100%|██████████| 1/1 [00:00<00:00,  3.41it/s]\n"
     ]
    },
    {
     "output_type": "stream",
     "name": "stdout",
     "text": [
      "Epoch 2, Train Loss: 1.4277, Train Acc: 0.2207, Val Loss: 1.3937, Val Acc: 0.2656\n",
      "GPU Memory: 0.21GB / 42.47GB\n"
     ]
    },
    {
     "output_type": "stream",
     "name": "stderr",
     "text": [
      "Training: 100%|██████████| 4/4 [00:36<00:00,  9.22s/it]\n",
      "Validating: 100%|██████████| 1/1 [00:00<00:00,  4.16it/s]\n"
     ]
    },
    {
     "output_type": "stream",
     "name": "stdout",
     "text": [
      "Epoch 3, Train Loss: 1.4113, Train Acc: 0.2383, Val Loss: 1.3820, Val Acc: 0.2891\n",
      "GPU Memory: 0.21GB / 42.47GB\n"
     ]
    },
    {
     "output_type": "stream",
     "name": "stderr",
     "text": [
      "Training: 100%|██████████| 4/4 [00:28<00:00,  7.13s/it]\n",
      "Validating: 100%|██████████| 1/1 [00:00<00:00,  4.14it/s]\n",
      "[I 2025-03-20 05:31:19,750] Trial 3 finished with value: 0.2890625 and parameters: {'batch_size': 128, 'learning_rate': 1.9857029174287795e-05, 'dropout_rate': 0.3478785640587667, 'weight_decay': 2.7639671905857047e-05}. Best is trial 1 with value: 0.90625.\n"
     ]
    },
    {
     "output_type": "stream",
     "name": "stdout",
     "text": [
      "Epoch 4, Train Loss: 1.4076, Train Acc: 0.2480, Val Loss: 1.3632, Val Acc: 0.2891\n",
      "GPU Memory: 0.21GB / 42.47GB\n",
      "Early stopping at epoch 4\n"
     ]
    },
    {
     "output_type": "stream",
     "name": "stderr",
     "text": [
      "<ipython-input-1-75da44eaa892>:313: FutureWarning: `torch.cuda.amp.GradScaler(args...)` is deprecated. Please use `torch.amp.GradScaler('cuda', args...)` instead.\n",
      "  scaler = amp.GradScaler()\n",
      "Training:   0%|          | 0/16 [00:00<?, ?it/s]<ipython-input-1-75da44eaa892>:230: FutureWarning: `torch.cuda.amp.autocast(args...)` is deprecated. Please use `torch.amp.autocast('cuda', args...)` instead.\n",
      "  with amp.autocast():\n",
      "Training: 100%|██████████| 16/16 [00:29<00:00,  1.84s/it]\n",
      "<ipython-input-1-75da44eaa892>:256: FutureWarning: `torch.cuda.amp.autocast(args...)` is deprecated. Please use `torch.amp.autocast('cuda', args...)` instead.\n",
      "  with torch.no_grad(), amp.autocast():\n",
      "Validating: 100%|██████████| 4/4 [00:14<00:00,  3.73s/it]\n"
     ]
    },
    {
     "output_type": "stream",
     "name": "stdout",
     "text": [
      "Epoch 1, Train Loss: 1.4308, Train Acc: 0.2520, Val Loss: 1.3650, Val Acc: 0.2969\n",
      "GPU Memory: 0.30GB / 42.47GB\n"
     ]
    },
    {
     "output_type": "stream",
     "name": "stderr",
     "text": [
      "Training: 100%|██████████| 16/16 [00:27<00:00,  1.70s/it]\n",
      "Validating: 100%|██████████| 4/4 [00:00<00:00, 28.91it/s]\n"
     ]
    },
    {
     "output_type": "stream",
     "name": "stdout",
     "text": [
      "Epoch 2, Train Loss: 1.3949, Train Acc: 0.2891, Val Loss: 1.3259, Val Acc: 0.3750\n",
      "GPU Memory: 0.30GB / 42.47GB\n"
     ]
    },
    {
     "output_type": "stream",
     "name": "stderr",
     "text": [
      "Training: 100%|██████████| 16/16 [00:24<00:00,  1.51s/it]\n",
      "Validating: 100%|██████████| 4/4 [00:00<00:00, 33.25it/s]\n"
     ]
    },
    {
     "output_type": "stream",
     "name": "stdout",
     "text": [
      "Epoch 3, Train Loss: 1.3814, Train Acc: 0.3164, Val Loss: 1.2997, Val Acc: 0.4922\n",
      "GPU Memory: 0.30GB / 42.47GB\n"
     ]
    },
    {
     "output_type": "stream",
     "name": "stderr",
     "text": [
      "Training: 100%|██████████| 16/16 [00:22<00:00,  1.38s/it]\n",
      "Validating: 100%|██████████| 4/4 [00:00<00:00, 33.48it/s]\n"
     ]
    },
    {
     "output_type": "stream",
     "name": "stdout",
     "text": [
      "Epoch 4, Train Loss: 1.3543, Train Acc: 0.3262, Val Loss: 1.2769, Val Acc: 0.5391\n",
      "GPU Memory: 0.30GB / 42.47GB\n"
     ]
    },
    {
     "output_type": "stream",
     "name": "stderr",
     "text": [
      "Training: 100%|██████████| 16/16 [00:19<00:00,  1.22s/it]\n",
      "Validating: 100%|██████████| 4/4 [00:00<00:00, 33.74it/s]\n"
     ]
    },
    {
     "output_type": "stream",
     "name": "stdout",
     "text": [
      "Epoch 5, Train Loss: 1.3381, Train Acc: 0.3496, Val Loss: 1.2552, Val Acc: 0.5547\n",
      "GPU Memory: 0.30GB / 42.47GB\n"
     ]
    },
    {
     "output_type": "stream",
     "name": "stderr",
     "text": [
      "Training: 100%|██████████| 16/16 [00:18<00:00,  1.14s/it]\n",
      "Validating: 100%|██████████| 4/4 [00:00<00:00, 35.02it/s]\n"
     ]
    },
    {
     "output_type": "stream",
     "name": "stdout",
     "text": [
      "Epoch 6, Train Loss: 1.3020, Train Acc: 0.4160, Val Loss: 1.2307, Val Acc: 0.5938\n",
      "GPU Memory: 0.30GB / 42.47GB\n"
     ]
    },
    {
     "output_type": "stream",
     "name": "stderr",
     "text": [
      "Training: 100%|██████████| 16/16 [00:15<00:00,  1.00it/s]\n",
      "Validating: 100%|██████████| 4/4 [00:00<00:00, 39.63it/s]\n"
     ]
    },
    {
     "output_type": "stream",
     "name": "stdout",
     "text": [
      "Epoch 7, Train Loss: 1.2838, Train Acc: 0.4297, Val Loss: 1.2075, Val Acc: 0.6250\n",
      "GPU Memory: 0.30GB / 42.47GB\n"
     ]
    },
    {
     "output_type": "stream",
     "name": "stderr",
     "text": [
      "Training: 100%|██████████| 16/16 [00:15<00:00,  1.04it/s]\n",
      "Validating: 100%|██████████| 4/4 [00:00<00:00, 36.55it/s]\n"
     ]
    },
    {
     "output_type": "stream",
     "name": "stdout",
     "text": [
      "Epoch 8, Train Loss: 1.2684, Train Acc: 0.4512, Val Loss: 1.1845, Val Acc: 0.6250\n",
      "GPU Memory: 0.30GB / 42.47GB\n"
     ]
    },
    {
     "output_type": "stream",
     "name": "stderr",
     "text": [
      "Training: 100%|██████████| 16/16 [00:12<00:00,  1.33it/s]\n",
      "Validating: 100%|██████████| 4/4 [00:00<00:00, 39.04it/s]\n"
     ]
    },
    {
     "output_type": "stream",
     "name": "stdout",
     "text": [
      "Epoch 9, Train Loss: 1.2305, Train Acc: 0.4883, Val Loss: 1.1627, Val Acc: 0.6484\n",
      "GPU Memory: 0.30GB / 42.47GB\n"
     ]
    },
    {
     "output_type": "stream",
     "name": "stderr",
     "text": [
      "Training: 100%|██████████| 16/16 [00:11<00:00,  1.45it/s]\n",
      "Validating: 100%|██████████| 4/4 [00:00<00:00, 35.91it/s]\n"
     ]
    },
    {
     "output_type": "stream",
     "name": "stdout",
     "text": [
      "Epoch 10, Train Loss: 1.2259, Train Acc: 0.5000, Val Loss: 1.1425, Val Acc: 0.6875\n",
      "GPU Memory: 0.30GB / 42.47GB\n"
     ]
    },
    {
     "output_type": "stream",
     "name": "stderr",
     "text": [
      "[I 2025-03-20 05:34:53,489] Trial 4 finished with value: 0.6875 and parameters: {'batch_size': 32, 'learning_rate': 2.589166972364542e-05, 'dropout_rate': 0.35452658348087474, 'weight_decay': 0.0002876142702140483}. Best is trial 1 with value: 0.90625.\n",
      "<ipython-input-1-75da44eaa892>:313: FutureWarning: `torch.cuda.amp.GradScaler(args...)` is deprecated. Please use `torch.amp.GradScaler('cuda', args...)` instead.\n",
      "  scaler = amp.GradScaler()\n",
      "Training:   0%|          | 0/4 [00:00<?, ?it/s]<ipython-input-1-75da44eaa892>:230: FutureWarning: `torch.cuda.amp.autocast(args...)` is deprecated. Please use `torch.amp.autocast('cuda', args...)` instead.\n",
      "  with amp.autocast():\n",
      "Training: 100%|██████████| 4/4 [00:58<00:00, 14.68s/it]\n",
      "<ipython-input-1-75da44eaa892>:256: FutureWarning: `torch.cuda.amp.autocast(args...)` is deprecated. Please use `torch.amp.autocast('cuda', args...)` instead.\n",
      "  with torch.no_grad(), amp.autocast():\n",
      "Validating: 100%|██████████| 1/1 [00:57<00:00, 57.58s/it]\n"
     ]
    },
    {
     "output_type": "stream",
     "name": "stdout",
     "text": [
      "Epoch 1, Train Loss: 1.4561, Train Acc: 0.2637, Val Loss: 1.3421, Val Acc: 0.3828\n",
      "GPU Memory: 0.40GB / 42.47GB\n"
     ]
    },
    {
     "output_type": "stream",
     "name": "stderr",
     "text": [
      "Training: 100%|██████████| 4/4 [00:46<00:00, 11.71s/it]\n",
      "Validating: 100%|██████████| 1/1 [00:00<00:00,  3.31it/s]\n"
     ]
    },
    {
     "output_type": "stream",
     "name": "stdout",
     "text": [
      "Epoch 2, Train Loss: 1.4028, Train Acc: 0.3145, Val Loss: 1.2898, Val Acc: 0.4297\n",
      "GPU Memory: 0.40GB / 42.47GB\n"
     ]
    },
    {
     "output_type": "stream",
     "name": "stderr",
     "text": [
      "Training: 100%|██████████| 4/4 [00:34<00:00,  8.64s/it]\n",
      "Validating: 100%|██████████| 1/1 [00:00<00:00,  4.17it/s]\n"
     ]
    },
    {
     "output_type": "stream",
     "name": "stdout",
     "text": [
      "Epoch 3, Train Loss: 1.3433, Train Acc: 0.3301, Val Loss: 1.2428, Val Acc: 0.5391\n",
      "GPU Memory: 0.40GB / 42.47GB\n"
     ]
    },
    {
     "output_type": "stream",
     "name": "stderr",
     "text": [
      "Training: 100%|██████████| 4/4 [00:27<00:00,  6.94s/it]\n",
      "Validating: 100%|██████████| 1/1 [00:00<00:00,  4.12it/s]\n"
     ]
    },
    {
     "output_type": "stream",
     "name": "stdout",
     "text": [
      "Epoch 4, Train Loss: 1.3243, Train Acc: 0.3418, Val Loss: 1.1947, Val Acc: 0.6406\n",
      "GPU Memory: 0.40GB / 42.47GB\n"
     ]
    },
    {
     "output_type": "stream",
     "name": "stderr",
     "text": [
      "Training: 100%|██████████| 4/4 [00:23<00:00,  5.78s/it]\n",
      "Validating: 100%|██████████| 1/1 [00:00<00:00,  4.10it/s]\n"
     ]
    },
    {
     "output_type": "stream",
     "name": "stdout",
     "text": [
      "Epoch 5, Train Loss: 1.2729, Train Acc: 0.3984, Val Loss: 1.1490, Val Acc: 0.7188\n",
      "GPU Memory: 0.40GB / 42.47GB\n"
     ]
    },
    {
     "output_type": "stream",
     "name": "stderr",
     "text": [
      "Training: 100%|██████████| 4/4 [00:14<00:00,  3.58s/it]\n",
      "Validating: 100%|██████████| 1/1 [00:00<00:00,  4.20it/s]\n"
     ]
    },
    {
     "output_type": "stream",
     "name": "stdout",
     "text": [
      "Epoch 6, Train Loss: 1.2479, Train Acc: 0.4297, Val Loss: 1.1062, Val Acc: 0.7500\n",
      "GPU Memory: 0.40GB / 42.47GB\n"
     ]
    },
    {
     "output_type": "stream",
     "name": "stderr",
     "text": [
      "Training: 100%|██████████| 4/4 [00:12<00:00,  3.22s/it]\n",
      "Validating: 100%|██████████| 1/1 [00:00<00:00,  4.13it/s]\n"
     ]
    },
    {
     "output_type": "stream",
     "name": "stdout",
     "text": [
      "Epoch 7, Train Loss: 1.1873, Train Acc: 0.4688, Val Loss: 1.0662, Val Acc: 0.7891\n",
      "GPU Memory: 0.40GB / 42.47GB\n"
     ]
    },
    {
     "output_type": "stream",
     "name": "stderr",
     "text": [
      "Training: 100%|██████████| 4/4 [00:12<00:00,  3.03s/it]\n",
      "Validating: 100%|██████████| 1/1 [00:00<00:00,  4.10it/s]\n"
     ]
    },
    {
     "output_type": "stream",
     "name": "stdout",
     "text": [
      "Epoch 8, Train Loss: 1.1531, Train Acc: 0.5312, Val Loss: 1.0295, Val Acc: 0.8047\n",
      "GPU Memory: 0.40GB / 42.47GB\n"
     ]
    },
    {
     "output_type": "stream",
     "name": "stderr",
     "text": [
      "Training: 100%|██████████| 4/4 [00:07<00:00,  1.85s/it]\n",
      "Validating: 100%|██████████| 1/1 [00:00<00:00,  4.07it/s]\n"
     ]
    },
    {
     "output_type": "stream",
     "name": "stdout",
     "text": [
      "Epoch 9, Train Loss: 1.1577, Train Acc: 0.5059, Val Loss: 0.9937, Val Acc: 0.8281\n",
      "GPU Memory: 0.40GB / 42.47GB\n"
     ]
    },
    {
     "output_type": "stream",
     "name": "stderr",
     "text": [
      "Training: 100%|██████████| 4/4 [00:06<00:00,  1.58s/it]\n",
      "Validating: 100%|██████████| 1/1 [00:00<00:00,  4.12it/s]\n"
     ]
    },
    {
     "output_type": "stream",
     "name": "stdout",
     "text": [
      "Epoch 10, Train Loss: 1.0775, Train Acc: 0.5820, Val Loss: 0.9616, Val Acc: 0.8516\n",
      "GPU Memory: 0.40GB / 42.47GB\n"
     ]
    },
    {
     "output_type": "stream",
     "name": "stderr",
     "text": [
      "[I 2025-03-20 05:40:00,198] Trial 5 finished with value: 0.8515625 and parameters: {'batch_size': 128, 'learning_rate': 0.00015815967804768945, 'dropout_rate': 0.6693372494618393, 'weight_decay': 0.0002297265858991729}. Best is trial 1 with value: 0.90625.\n",
      "<ipython-input-1-75da44eaa892>:313: FutureWarning: `torch.cuda.amp.GradScaler(args...)` is deprecated. Please use `torch.amp.GradScaler('cuda', args...)` instead.\n",
      "  scaler = amp.GradScaler()\n",
      "Training:   0%|          | 0/2 [00:00<?, ?it/s]<ipython-input-1-75da44eaa892>:230: FutureWarning: `torch.cuda.amp.autocast(args...)` is deprecated. Please use `torch.amp.autocast('cuda', args...)` instead.\n",
      "  with amp.autocast():\n",
      "Training: 100%|██████████| 2/2 [01:56<00:00, 58.30s/it]\n",
      "<ipython-input-1-75da44eaa892>:256: FutureWarning: `torch.cuda.amp.autocast(args...)` is deprecated. Please use `torch.amp.autocast('cuda', args...)` instead.\n",
      "  with torch.no_grad(), amp.autocast():\n",
      "Validating: 100%|██████████| 1/1 [00:57<00:00, 57.41s/it]\n",
      "[I 2025-03-20 05:42:54,766] Trial 6 pruned. \n"
     ]
    },
    {
     "output_type": "stream",
     "name": "stdout",
     "text": [
      "Epoch 1, Train Loss: 1.4366, Train Acc: 0.2500, Val Loss: 1.4607, Val Acc: 0.0859\n",
      "GPU Memory: 0.49GB / 42.47GB\n"
     ]
    },
    {
     "output_type": "stream",
     "name": "stderr",
     "text": [
      "<ipython-input-1-75da44eaa892>:313: FutureWarning: `torch.cuda.amp.GradScaler(args...)` is deprecated. Please use `torch.amp.GradScaler('cuda', args...)` instead.\n",
      "  scaler = amp.GradScaler()\n",
      "Training:   0%|          | 0/8 [00:00<?, ?it/s]<ipython-input-1-75da44eaa892>:230: FutureWarning: `torch.cuda.amp.autocast(args...)` is deprecated. Please use `torch.amp.autocast('cuda', args...)` instead.\n",
      "  with amp.autocast():\n",
      "Training: 100%|██████████| 8/8 [00:29<00:00,  3.73s/it]\n",
      "<ipython-input-1-75da44eaa892>:256: FutureWarning: `torch.cuda.amp.autocast(args...)` is deprecated. Please use `torch.amp.autocast('cuda', args...)` instead.\n",
      "  with torch.no_grad(), amp.autocast():\n",
      "Validating: 100%|██████████| 2/2 [00:28<00:00, 14.45s/it]\n",
      "[I 2025-03-20 05:43:54,125] Trial 7 pruned. \n"
     ]
    },
    {
     "output_type": "stream",
     "name": "stdout",
     "text": [
      "Epoch 1, Train Loss: 1.4494, Train Acc: 0.2520, Val Loss: 1.3564, Val Acc: 0.3125\n",
      "GPU Memory: 0.49GB / 42.47GB\n"
     ]
    },
    {
     "output_type": "stream",
     "name": "stderr",
     "text": [
      "<ipython-input-1-75da44eaa892>:313: FutureWarning: `torch.cuda.amp.GradScaler(args...)` is deprecated. Please use `torch.amp.GradScaler('cuda', args...)` instead.\n",
      "  scaler = amp.GradScaler()\n",
      "Training:   0%|          | 0/16 [00:00<?, ?it/s]<ipython-input-1-75da44eaa892>:230: FutureWarning: `torch.cuda.amp.autocast(args...)` is deprecated. Please use `torch.amp.autocast('cuda', args...)` instead.\n",
      "  with amp.autocast():\n",
      "Training: 100%|██████████| 16/16 [00:36<00:00,  2.26s/it]\n",
      "<ipython-input-1-75da44eaa892>:256: FutureWarning: `torch.cuda.amp.autocast(args...)` is deprecated. Please use `torch.amp.autocast('cuda', args...)` instead.\n",
      "  with torch.no_grad(), amp.autocast():\n",
      "Validating: 100%|██████████| 4/4 [00:14<00:00,  3.68s/it]\n",
      "[I 2025-03-20 05:44:45,631] Trial 8 pruned. \n"
     ]
    },
    {
     "output_type": "stream",
     "name": "stdout",
     "text": [
      "Epoch 1, Train Loss: 1.5453, Train Acc: 0.2266, Val Loss: 1.4961, Val Acc: 0.2422\n",
      "GPU Memory: 0.49GB / 42.47GB\n"
     ]
    },
    {
     "output_type": "stream",
     "name": "stderr",
     "text": [
      "<ipython-input-1-75da44eaa892>:313: FutureWarning: `torch.cuda.amp.GradScaler(args...)` is deprecated. Please use `torch.amp.GradScaler('cuda', args...)` instead.\n",
      "  scaler = amp.GradScaler()\n",
      "Training:   0%|          | 0/8 [00:00<?, ?it/s]<ipython-input-1-75da44eaa892>:230: FutureWarning: `torch.cuda.amp.autocast(args...)` is deprecated. Please use `torch.amp.autocast('cuda', args...)` instead.\n",
      "  with amp.autocast():\n",
      "Training: 100%|██████████| 8/8 [00:29<00:00,  3.72s/it]\n",
      "<ipython-input-1-75da44eaa892>:256: FutureWarning: `torch.cuda.amp.autocast(args...)` is deprecated. Please use `torch.amp.autocast('cuda', args...)` instead.\n",
      "  with torch.no_grad(), amp.autocast():\n",
      "Validating: 100%|██████████| 2/2 [00:29<00:00, 14.53s/it]\n",
      "[I 2025-03-20 05:45:45,076] Trial 9 pruned. \n"
     ]
    },
    {
     "output_type": "stream",
     "name": "stdout",
     "text": [
      "Epoch 1, Train Loss: 1.4058, Train Acc: 0.2891, Val Loss: 1.3740, Val Acc: 0.2812\n",
      "GPU Memory: 0.49GB / 42.47GB\n"
     ]
    },
    {
     "output_type": "stream",
     "name": "stderr",
     "text": [
      "<ipython-input-1-75da44eaa892>:313: FutureWarning: `torch.cuda.amp.GradScaler(args...)` is deprecated. Please use `torch.amp.GradScaler('cuda', args...)` instead.\n",
      "  scaler = amp.GradScaler()\n",
      "Training:   0%|          | 0/32 [00:00<?, ?it/s]<ipython-input-1-75da44eaa892>:230: FutureWarning: `torch.cuda.amp.autocast(args...)` is deprecated. Please use `torch.amp.autocast('cuda', args...)` instead.\n",
      "  with amp.autocast():\n",
      "Training: 100%|██████████| 32/32 [00:29<00:00,  1.08it/s]\n",
      "<ipython-input-1-75da44eaa892>:256: FutureWarning: `torch.cuda.amp.autocast(args...)` is deprecated. Please use `torch.amp.autocast('cuda', args...)` instead.\n",
      "  with torch.no_grad(), amp.autocast():\n",
      "Validating: 100%|██████████| 8/8 [00:07<00:00,  1.05it/s]\n"
     ]
    },
    {
     "output_type": "stream",
     "name": "stdout",
     "text": [
      "Epoch 1, Train Loss: 1.2423, Train Acc: 0.4785, Val Loss: 0.8964, Val Acc: 0.6484\n",
      "GPU Memory: 0.49GB / 42.47GB\n"
     ]
    },
    {
     "output_type": "stream",
     "name": "stderr",
     "text": [
      "Training: 100%|██████████| 32/32 [00:27<00:00,  1.18it/s]\n",
      "Validating: 100%|██████████| 8/8 [00:00<00:00, 65.55it/s]\n"
     ]
    },
    {
     "output_type": "stream",
     "name": "stdout",
     "text": [
      "Epoch 2, Train Loss: 0.8716, Train Acc: 0.6660, Val Loss: 0.6053, Val Acc: 0.7969\n",
      "GPU Memory: 0.49GB / 42.47GB\n"
     ]
    },
    {
     "output_type": "stream",
     "name": "stderr",
     "text": [
      "Training: 100%|██████████| 32/32 [00:25<00:00,  1.27it/s]\n",
      "Validating: 100%|██████████| 8/8 [00:00<00:00, 70.38it/s]\n"
     ]
    },
    {
     "output_type": "stream",
     "name": "stdout",
     "text": [
      "Epoch 3, Train Loss: 0.6930, Train Acc: 0.7578, Val Loss: 0.5099, Val Acc: 0.8203\n",
      "GPU Memory: 0.49GB / 42.47GB\n"
     ]
    },
    {
     "output_type": "stream",
     "name": "stderr",
     "text": [
      "Training: 100%|██████████| 32/32 [00:21<00:00,  1.46it/s]\n",
      "Validating: 100%|██████████| 8/8 [00:00<00:00, 64.40it/s]\n"
     ]
    },
    {
     "output_type": "stream",
     "name": "stdout",
     "text": [
      "Epoch 4, Train Loss: 0.5965, Train Acc: 0.8027, Val Loss: 0.3936, Val Acc: 0.8828\n",
      "GPU Memory: 0.49GB / 42.47GB\n"
     ]
    },
    {
     "output_type": "stream",
     "name": "stderr",
     "text": [
      "Training: 100%|██████████| 32/32 [00:18<00:00,  1.73it/s]\n",
      "Validating: 100%|██████████| 8/8 [00:00<00:00, 64.03it/s]\n"
     ]
    },
    {
     "output_type": "stream",
     "name": "stdout",
     "text": [
      "Epoch 5, Train Loss: 0.5468, Train Acc: 0.8242, Val Loss: 0.3603, Val Acc: 0.8828\n",
      "GPU Memory: 0.49GB / 42.47GB\n"
     ]
    },
    {
     "output_type": "stream",
     "name": "stderr",
     "text": [
      "Training: 100%|██████████| 32/32 [00:19<00:00,  1.64it/s]\n",
      "Validating: 100%|██████████| 8/8 [00:00<00:00, 64.14it/s]\n"
     ]
    },
    {
     "output_type": "stream",
     "name": "stdout",
     "text": [
      "Epoch 6, Train Loss: 0.5323, Train Acc: 0.8066, Val Loss: 0.3278, Val Acc: 0.8750\n",
      "GPU Memory: 0.49GB / 42.47GB\n"
     ]
    },
    {
     "output_type": "stream",
     "name": "stderr",
     "text": [
      "Training: 100%|██████████| 32/32 [00:14<00:00,  2.28it/s]\n",
      "Validating: 100%|██████████| 8/8 [00:00<00:00, 64.92it/s]\n",
      "[I 2025-03-20 05:48:30,876] Trial 10 finished with value: 0.8828125 and parameters: {'batch_size': 16, 'learning_rate': 0.0006676052771925342, 'dropout_rate': 0.28838024499323434, 'weight_decay': 0.0009762472972877484}. Best is trial 1 with value: 0.90625.\n"
     ]
    },
    {
     "output_type": "stream",
     "name": "stdout",
     "text": [
      "Epoch 7, Train Loss: 0.5095, Train Acc: 0.8105, Val Loss: 0.3395, Val Acc: 0.8672\n",
      "GPU Memory: 0.49GB / 42.47GB\n",
      "Early stopping at epoch 7\n"
     ]
    },
    {
     "output_type": "stream",
     "name": "stderr",
     "text": [
      "<ipython-input-1-75da44eaa892>:313: FutureWarning: `torch.cuda.amp.GradScaler(args...)` is deprecated. Please use `torch.amp.GradScaler('cuda', args...)` instead.\n",
      "  scaler = amp.GradScaler()\n",
      "Training:   0%|          | 0/32 [00:00<?, ?it/s]<ipython-input-1-75da44eaa892>:230: FutureWarning: `torch.cuda.amp.autocast(args...)` is deprecated. Please use `torch.amp.autocast('cuda', args...)` instead.\n",
      "  with amp.autocast():\n",
      "Training: 100%|██████████| 32/32 [00:29<00:00,  1.08it/s]\n",
      "<ipython-input-1-75da44eaa892>:256: FutureWarning: `torch.cuda.amp.autocast(args...)` is deprecated. Please use `torch.amp.autocast('cuda', args...)` instead.\n",
      "  with torch.no_grad(), amp.autocast():\n",
      "Validating: 100%|██████████| 8/8 [00:07<00:00,  1.05it/s]\n"
     ]
    },
    {
     "output_type": "stream",
     "name": "stdout",
     "text": [
      "Epoch 1, Train Loss: 1.1402, Train Acc: 0.4980, Val Loss: 0.6784, Val Acc: 0.7734\n",
      "GPU Memory: 0.59GB / 42.47GB\n"
     ]
    },
    {
     "output_type": "stream",
     "name": "stderr",
     "text": [
      "Training: 100%|██████████| 32/32 [00:27<00:00,  1.18it/s]\n",
      "Validating: 100%|██████████| 8/8 [00:00<00:00, 62.01it/s]\n"
     ]
    },
    {
     "output_type": "stream",
     "name": "stdout",
     "text": [
      "Epoch 2, Train Loss: 0.6787, Train Acc: 0.8145, Val Loss: 0.4445, Val Acc: 0.8906\n",
      "GPU Memory: 0.59GB / 42.47GB\n"
     ]
    },
    {
     "output_type": "stream",
     "name": "stderr",
     "text": [
      "Training: 100%|██████████| 32/32 [00:23<00:00,  1.36it/s]\n",
      "Validating: 100%|██████████| 8/8 [00:00<00:00, 58.85it/s]\n"
     ]
    },
    {
     "output_type": "stream",
     "name": "stdout",
     "text": [
      "Epoch 3, Train Loss: 0.5509, Train Acc: 0.8066, Val Loss: 0.3627, Val Acc: 0.8750\n",
      "GPU Memory: 0.59GB / 42.47GB\n"
     ]
    },
    {
     "output_type": "stream",
     "name": "stderr",
     "text": [
      "Training: 100%|██████████| 32/32 [00:21<00:00,  1.51it/s]\n",
      "Validating: 100%|██████████| 8/8 [00:00<00:00, 74.92it/s]\n"
     ]
    },
    {
     "output_type": "stream",
     "name": "stdout",
     "text": [
      "Epoch 4, Train Loss: 0.4584, Train Acc: 0.8789, Val Loss: 0.3255, Val Acc: 0.9141\n",
      "GPU Memory: 0.59GB / 42.47GB\n"
     ]
    },
    {
     "output_type": "stream",
     "name": "stderr",
     "text": [
      "Training: 100%|██████████| 32/32 [00:18<00:00,  1.74it/s]\n",
      "Validating: 100%|██████████| 8/8 [00:00<00:00, 68.45it/s]\n"
     ]
    },
    {
     "output_type": "stream",
     "name": "stdout",
     "text": [
      "Epoch 5, Train Loss: 0.4902, Train Acc: 0.8047, Val Loss: 0.3152, Val Acc: 0.8828\n",
      "GPU Memory: 0.59GB / 42.47GB\n"
     ]
    },
    {
     "output_type": "stream",
     "name": "stderr",
     "text": [
      "Training: 100%|██████████| 32/32 [00:15<00:00,  2.02it/s]\n",
      "Validating: 100%|██████████| 8/8 [00:00<00:00, 61.82it/s]\n"
     ]
    },
    {
     "output_type": "stream",
     "name": "stdout",
     "text": [
      "Epoch 6, Train Loss: 0.4844, Train Acc: 0.8125, Val Loss: 0.4140, Val Acc: 0.8203\n",
      "GPU Memory: 0.59GB / 42.47GB\n"
     ]
    },
    {
     "output_type": "stream",
     "name": "stderr",
     "text": [
      "Training: 100%|██████████| 32/32 [00:15<00:00,  2.12it/s]\n",
      "Validating: 100%|██████████| 8/8 [00:00<00:00, 67.00it/s]\n",
      "[I 2025-03-20 05:51:11,279] Trial 11 finished with value: 0.9140625 and parameters: {'batch_size': 16, 'learning_rate': 0.0009481021821600904, 'dropout_rate': 0.24978834498282027, 'weight_decay': 0.0009440618324209578}. Best is trial 11 with value: 0.9140625.\n"
     ]
    },
    {
     "output_type": "stream",
     "name": "stdout",
     "text": [
      "Epoch 7, Train Loss: 0.4276, Train Acc: 0.8340, Val Loss: 0.2814, Val Acc: 0.8750\n",
      "GPU Memory: 0.59GB / 42.47GB\n",
      "Early stopping at epoch 7\n"
     ]
    },
    {
     "output_type": "stream",
     "name": "stderr",
     "text": [
      "<ipython-input-1-75da44eaa892>:313: FutureWarning: `torch.cuda.amp.GradScaler(args...)` is deprecated. Please use `torch.amp.GradScaler('cuda', args...)` instead.\n",
      "  scaler = amp.GradScaler()\n",
      "Training:   0%|          | 0/32 [00:00<?, ?it/s]<ipython-input-1-75da44eaa892>:230: FutureWarning: `torch.cuda.amp.autocast(args...)` is deprecated. Please use `torch.amp.autocast('cuda', args...)` instead.\n",
      "  with amp.autocast():\n",
      "Training: 100%|██████████| 32/32 [00:29<00:00,  1.08it/s]\n",
      "<ipython-input-1-75da44eaa892>:256: FutureWarning: `torch.cuda.amp.autocast(args...)` is deprecated. Please use `torch.amp.autocast('cuda', args...)` instead.\n",
      "  with torch.no_grad(), amp.autocast():\n",
      "Validating: 100%|██████████| 8/8 [00:07<00:00,  1.04it/s]\n"
     ]
    },
    {
     "output_type": "stream",
     "name": "stdout",
     "text": [
      "Epoch 1, Train Loss: 1.1532, Train Acc: 0.4824, Val Loss: 0.7594, Val Acc: 0.7031\n",
      "GPU Memory: 0.68GB / 42.47GB\n"
     ]
    },
    {
     "output_type": "stream",
     "name": "stderr",
     "text": [
      "Training: 100%|██████████| 32/32 [00:26<00:00,  1.21it/s]\n",
      "Validating: 100%|██████████| 8/8 [00:00<00:00, 60.05it/s]\n"
     ]
    },
    {
     "output_type": "stream",
     "name": "stdout",
     "text": [
      "Epoch 2, Train Loss: 0.7499, Train Acc: 0.7344, Val Loss: 0.5054, Val Acc: 0.8438\n",
      "GPU Memory: 0.68GB / 42.47GB\n"
     ]
    },
    {
     "output_type": "stream",
     "name": "stderr",
     "text": [
      "Training: 100%|██████████| 32/32 [00:24<00:00,  1.28it/s]\n",
      "Validating: 100%|██████████| 8/8 [00:00<00:00, 64.87it/s]\n"
     ]
    },
    {
     "output_type": "stream",
     "name": "stdout",
     "text": [
      "Epoch 3, Train Loss: 0.5945, Train Acc: 0.7891, Val Loss: 0.4579, Val Acc: 0.8359\n",
      "GPU Memory: 0.68GB / 42.47GB\n"
     ]
    },
    {
     "output_type": "stream",
     "name": "stderr",
     "text": [
      "Training: 100%|██████████| 32/32 [00:22<00:00,  1.42it/s]\n",
      "Validating: 100%|██████████| 8/8 [00:00<00:00, 60.54it/s]\n"
     ]
    },
    {
     "output_type": "stream",
     "name": "stdout",
     "text": [
      "Epoch 4, Train Loss: 0.5661, Train Acc: 0.7852, Val Loss: 0.3741, Val Acc: 0.8984\n",
      "GPU Memory: 0.68GB / 42.47GB\n"
     ]
    },
    {
     "output_type": "stream",
     "name": "stderr",
     "text": [
      "Training: 100%|██████████| 32/32 [00:18<00:00,  1.72it/s]\n",
      "Validating: 100%|██████████| 8/8 [00:00<00:00, 68.46it/s]\n"
     ]
    },
    {
     "output_type": "stream",
     "name": "stdout",
     "text": [
      "Epoch 5, Train Loss: 0.4906, Train Acc: 0.8320, Val Loss: 0.3160, Val Acc: 0.8906\n",
      "GPU Memory: 0.68GB / 42.47GB\n"
     ]
    },
    {
     "output_type": "stream",
     "name": "stderr",
     "text": [
      "Training: 100%|██████████| 32/32 [00:16<00:00,  1.91it/s]\n",
      "Validating: 100%|██████████| 8/8 [00:00<00:00, 61.14it/s]\n"
     ]
    },
    {
     "output_type": "stream",
     "name": "stdout",
     "text": [
      "Epoch 6, Train Loss: 0.4459, Train Acc: 0.8418, Val Loss: 0.3462, Val Acc: 0.8594\n",
      "GPU Memory: 0.68GB / 42.47GB\n"
     ]
    },
    {
     "output_type": "stream",
     "name": "stderr",
     "text": [
      "Training: 100%|██████████| 32/32 [00:16<00:00,  1.95it/s]\n",
      "Validating: 100%|██████████| 8/8 [00:00<00:00, 64.70it/s]\n",
      "[I 2025-03-20 05:53:56,391] Trial 12 finished with value: 0.8984375 and parameters: {'batch_size': 16, 'learning_rate': 0.000807836858973591, 'dropout_rate': 0.24466447196707136, 'weight_decay': 0.0007788602175551499}. Best is trial 11 with value: 0.9140625.\n"
     ]
    },
    {
     "output_type": "stream",
     "name": "stdout",
     "text": [
      "Epoch 7, Train Loss: 0.4250, Train Acc: 0.8594, Val Loss: 0.3105, Val Acc: 0.8828\n",
      "GPU Memory: 0.68GB / 42.47GB\n",
      "Early stopping at epoch 7\n"
     ]
    },
    {
     "output_type": "stream",
     "name": "stderr",
     "text": [
      "<ipython-input-1-75da44eaa892>:313: FutureWarning: `torch.cuda.amp.GradScaler(args...)` is deprecated. Please use `torch.amp.GradScaler('cuda', args...)` instead.\n",
      "  scaler = amp.GradScaler()\n",
      "Training:   0%|          | 0/32 [00:00<?, ?it/s]<ipython-input-1-75da44eaa892>:230: FutureWarning: `torch.cuda.amp.autocast(args...)` is deprecated. Please use `torch.amp.autocast('cuda', args...)` instead.\n",
      "  with amp.autocast():\n",
      "Training: 100%|██████████| 32/32 [00:29<00:00,  1.08it/s]\n",
      "<ipython-input-1-75da44eaa892>:256: FutureWarning: `torch.cuda.amp.autocast(args...)` is deprecated. Please use `torch.amp.autocast('cuda', args...)` instead.\n",
      "  with torch.no_grad(), amp.autocast():\n",
      "Validating: 100%|██████████| 8/8 [00:07<00:00,  1.05it/s]\n"
     ]
    },
    {
     "output_type": "stream",
     "name": "stdout",
     "text": [
      "Epoch 1, Train Loss: 1.2319, Train Acc: 0.4180, Val Loss: 0.9731, Val Acc: 0.5938\n",
      "GPU Memory: 0.78GB / 42.47GB\n"
     ]
    },
    {
     "output_type": "stream",
     "name": "stderr",
     "text": [
      "Training: 100%|██████████| 32/32 [00:27<00:00,  1.18it/s]\n",
      "Validating: 100%|██████████| 8/8 [00:00<00:00, 66.72it/s]\n"
     ]
    },
    {
     "output_type": "stream",
     "name": "stdout",
     "text": [
      "Epoch 2, Train Loss: 0.9516, Train Acc: 0.6895, Val Loss: 0.7178, Val Acc: 0.8281\n",
      "GPU Memory: 0.78GB / 42.47GB\n"
     ]
    },
    {
     "output_type": "stream",
     "name": "stderr",
     "text": [
      "Training: 100%|██████████| 32/32 [00:24<00:00,  1.33it/s]\n",
      "Validating: 100%|██████████| 8/8 [00:00<00:00, 68.76it/s]\n"
     ]
    },
    {
     "output_type": "stream",
     "name": "stdout",
     "text": [
      "Epoch 3, Train Loss: 0.7758, Train Acc: 0.7559, Val Loss: 0.6109, Val Acc: 0.8125\n",
      "GPU Memory: 0.78GB / 42.47GB\n"
     ]
    },
    {
     "output_type": "stream",
     "name": "stderr",
     "text": [
      "Training: 100%|██████████| 32/32 [00:20<00:00,  1.58it/s]\n",
      "Validating: 100%|██████████| 8/8 [00:00<00:00, 63.63it/s]\n"
     ]
    },
    {
     "output_type": "stream",
     "name": "stdout",
     "text": [
      "Epoch 4, Train Loss: 0.7039, Train Acc: 0.7539, Val Loss: 0.5118, Val Acc: 0.8672\n",
      "GPU Memory: 0.78GB / 42.47GB\n"
     ]
    },
    {
     "output_type": "stream",
     "name": "stderr",
     "text": [
      "Training: 100%|██████████| 32/32 [00:20<00:00,  1.56it/s]\n",
      "Validating: 100%|██████████| 8/8 [00:00<00:00, 64.54it/s]\n"
     ]
    },
    {
     "output_type": "stream",
     "name": "stdout",
     "text": [
      "Epoch 5, Train Loss: 0.6369, Train Acc: 0.8145, Val Loss: 0.4497, Val Acc: 0.8828\n",
      "GPU Memory: 0.78GB / 42.47GB\n"
     ]
    },
    {
     "output_type": "stream",
     "name": "stderr",
     "text": [
      "Training: 100%|██████████| 32/32 [00:17<00:00,  1.87it/s]\n",
      "Validating: 100%|██████████| 8/8 [00:00<00:00, 65.02it/s]\n"
     ]
    },
    {
     "output_type": "stream",
     "name": "stdout",
     "text": [
      "Epoch 6, Train Loss: 0.5886, Train Acc: 0.8301, Val Loss: 0.4318, Val Acc: 0.8672\n",
      "GPU Memory: 0.78GB / 42.47GB\n"
     ]
    },
    {
     "output_type": "stream",
     "name": "stderr",
     "text": [
      "Training: 100%|██████████| 32/32 [00:14<00:00,  2.16it/s]\n",
      "Validating: 100%|██████████| 8/8 [00:00<00:00, 61.23it/s]\n"
     ]
    },
    {
     "output_type": "stream",
     "name": "stdout",
     "text": [
      "Epoch 7, Train Loss: 0.5348, Train Acc: 0.8301, Val Loss: 0.4275, Val Acc: 0.8750\n",
      "GPU Memory: 0.78GB / 42.47GB\n"
     ]
    },
    {
     "output_type": "stream",
     "name": "stderr",
     "text": [
      "Training: 100%|██████████| 32/32 [00:12<00:00,  2.55it/s]\n",
      "Validating: 100%|██████████| 8/8 [00:00<00:00, 63.83it/s]\n",
      "[I 2025-03-20 05:56:52,399] Trial 13 finished with value: 0.8828125 and parameters: {'batch_size': 16, 'learning_rate': 0.0003778782348253505, 'dropout_rate': 0.20144637985520344, 'weight_decay': 0.0005064213040773932}. Best is trial 11 with value: 0.9140625.\n"
     ]
    },
    {
     "output_type": "stream",
     "name": "stdout",
     "text": [
      "Epoch 8, Train Loss: 0.5712, Train Acc: 0.8008, Val Loss: 0.3968, Val Acc: 0.8750\n",
      "GPU Memory: 0.78GB / 42.47GB\n",
      "Early stopping at epoch 8\n"
     ]
    },
    {
     "output_type": "stream",
     "name": "stderr",
     "text": [
      "<ipython-input-1-75da44eaa892>:313: FutureWarning: `torch.cuda.amp.GradScaler(args...)` is deprecated. Please use `torch.amp.GradScaler('cuda', args...)` instead.\n",
      "  scaler = amp.GradScaler()\n",
      "Training:   0%|          | 0/32 [00:00<?, ?it/s]<ipython-input-1-75da44eaa892>:230: FutureWarning: `torch.cuda.amp.autocast(args...)` is deprecated. Please use `torch.amp.autocast('cuda', args...)` instead.\n",
      "  with amp.autocast():\n",
      "Training: 100%|██████████| 32/32 [00:29<00:00,  1.09it/s]\n",
      "<ipython-input-1-75da44eaa892>:256: FutureWarning: `torch.cuda.amp.autocast(args...)` is deprecated. Please use `torch.amp.autocast('cuda', args...)` instead.\n",
      "  with torch.no_grad(), amp.autocast():\n",
      "Validating: 100%|██████████| 8/8 [00:07<00:00,  1.04it/s]\n"
     ]
    },
    {
     "output_type": "stream",
     "name": "stdout",
     "text": [
      "Epoch 1, Train Loss: 1.2402, Train Acc: 0.4531, Val Loss: 0.7559, Val Acc: 0.7578\n",
      "GPU Memory: 0.87GB / 42.47GB\n"
     ]
    },
    {
     "output_type": "stream",
     "name": "stderr",
     "text": [
      "Training: 100%|██████████| 32/32 [00:27<00:00,  1.15it/s]\n",
      "Validating: 100%|██████████| 8/8 [00:00<00:00, 67.25it/s]\n"
     ]
    },
    {
     "output_type": "stream",
     "name": "stdout",
     "text": [
      "Epoch 2, Train Loss: 0.8427, Train Acc: 0.6660, Val Loss: 0.4937, Val Acc: 0.8984\n",
      "GPU Memory: 0.87GB / 42.47GB\n"
     ]
    },
    {
     "output_type": "stream",
     "name": "stderr",
     "text": [
      "Training: 100%|██████████| 32/32 [00:24<00:00,  1.32it/s]\n",
      "Validating: 100%|██████████| 8/8 [00:00<00:00, 64.20it/s]\n"
     ]
    },
    {
     "output_type": "stream",
     "name": "stdout",
     "text": [
      "Epoch 3, Train Loss: 0.7181, Train Acc: 0.7227, Val Loss: 0.4540, Val Acc: 0.8438\n",
      "GPU Memory: 0.87GB / 42.47GB\n"
     ]
    },
    {
     "output_type": "stream",
     "name": "stderr",
     "text": [
      "Training: 100%|██████████| 32/32 [00:20<00:00,  1.56it/s]\n",
      "Validating: 100%|██████████| 8/8 [00:00<00:00, 68.50it/s]\n"
     ]
    },
    {
     "output_type": "stream",
     "name": "stdout",
     "text": [
      "Epoch 4, Train Loss: 0.5525, Train Acc: 0.8203, Val Loss: 0.3980, Val Acc: 0.8438\n",
      "GPU Memory: 0.87GB / 42.47GB\n"
     ]
    },
    {
     "output_type": "stream",
     "name": "stderr",
     "text": [
      "Training: 100%|██████████| 32/32 [00:17<00:00,  1.81it/s]\n",
      "Validating: 100%|██████████| 8/8 [00:00<00:00, 63.00it/s]\n",
      "[I 2025-03-20 05:59:01,228] Trial 14 finished with value: 0.8984375 and parameters: {'batch_size': 16, 'learning_rate': 0.0009804995119914483, 'dropout_rate': 0.5650817987735198, 'weight_decay': 6.353025612764678e-05}. Best is trial 11 with value: 0.9140625.\n"
     ]
    },
    {
     "output_type": "stream",
     "name": "stdout",
     "text": [
      "Epoch 5, Train Loss: 0.5125, Train Acc: 0.8047, Val Loss: 0.3728, Val Acc: 0.8594\n",
      "GPU Memory: 0.87GB / 42.47GB\n",
      "Early stopping at epoch 5\n"
     ]
    },
    {
     "output_type": "stream",
     "name": "stderr",
     "text": [
      "<ipython-input-1-75da44eaa892>:313: FutureWarning: `torch.cuda.amp.GradScaler(args...)` is deprecated. Please use `torch.amp.GradScaler('cuda', args...)` instead.\n",
      "  scaler = amp.GradScaler()\n",
      "Training:   0%|          | 0/32 [00:00<?, ?it/s]<ipython-input-1-75da44eaa892>:230: FutureWarning: `torch.cuda.amp.autocast(args...)` is deprecated. Please use `torch.amp.autocast('cuda', args...)` instead.\n",
      "  with amp.autocast():\n",
      "Training: 100%|██████████| 32/32 [00:29<00:00,  1.07it/s]\n",
      "<ipython-input-1-75da44eaa892>:256: FutureWarning: `torch.cuda.amp.autocast(args...)` is deprecated. Please use `torch.amp.autocast('cuda', args...)` instead.\n",
      "  with torch.no_grad(), amp.autocast():\n",
      "Validating: 100%|██████████| 8/8 [00:07<00:00,  1.04it/s]\n",
      "[I 2025-03-20 05:59:39,301] Trial 15 pruned. \n"
     ]
    },
    {
     "output_type": "stream",
     "name": "stdout",
     "text": [
      "Epoch 1, Train Loss: 1.3339, Train Acc: 0.3750, Val Loss: 1.0693, Val Acc: 0.5078\n",
      "GPU Memory: 0.97GB / 42.47GB\n"
     ]
    },
    {
     "output_type": "stream",
     "name": "stderr",
     "text": [
      "<ipython-input-1-75da44eaa892>:313: FutureWarning: `torch.cuda.amp.GradScaler(args...)` is deprecated. Please use `torch.amp.GradScaler('cuda', args...)` instead.\n",
      "  scaler = amp.GradScaler()\n",
      "Training:   0%|          | 0/2 [00:00<?, ?it/s]<ipython-input-1-75da44eaa892>:230: FutureWarning: `torch.cuda.amp.autocast(args...)` is deprecated. Please use `torch.amp.autocast('cuda', args...)` instead.\n",
      "  with amp.autocast():\n",
      "Training: 100%|██████████| 2/2 [01:56<00:00, 58.47s/it]\n",
      "<ipython-input-1-75da44eaa892>:256: FutureWarning: `torch.cuda.amp.autocast(args...)` is deprecated. Please use `torch.amp.autocast('cuda', args...)` instead.\n",
      "  with torch.no_grad(), amp.autocast():\n",
      "Validating: 100%|██████████| 1/1 [00:57<00:00, 57.40s/it]\n",
      "[I 2025-03-20 06:02:34,288] Trial 16 pruned. \n"
     ]
    },
    {
     "output_type": "stream",
     "name": "stdout",
     "text": [
      "Epoch 1, Train Loss: 1.4538, Train Acc: 0.2246, Val Loss: 1.4277, Val Acc: 0.1562\n",
      "GPU Memory: 0.87GB / 42.47GB\n"
     ]
    },
    {
     "output_type": "stream",
     "name": "stderr",
     "text": [
      "<ipython-input-1-75da44eaa892>:313: FutureWarning: `torch.cuda.amp.GradScaler(args...)` is deprecated. Please use `torch.amp.GradScaler('cuda', args...)` instead.\n",
      "  scaler = amp.GradScaler()\n",
      "Training:   0%|          | 0/32 [00:00<?, ?it/s]<ipython-input-1-75da44eaa892>:230: FutureWarning: `torch.cuda.amp.autocast(args...)` is deprecated. Please use `torch.amp.autocast('cuda', args...)` instead.\n",
      "  with amp.autocast():\n",
      "Training: 100%|██████████| 32/32 [00:30<00:00,  1.06it/s]\n",
      "<ipython-input-1-75da44eaa892>:256: FutureWarning: `torch.cuda.amp.autocast(args...)` is deprecated. Please use `torch.amp.autocast('cuda', args...)` instead.\n",
      "  with torch.no_grad(), amp.autocast():\n",
      "Validating: 100%|██████████| 8/8 [00:07<00:00,  1.04it/s]\n",
      "[I 2025-03-20 06:03:12,865] Trial 17 pruned. \n"
     ]
    },
    {
     "output_type": "stream",
     "name": "stdout",
     "text": [
      "Epoch 1, Train Loss: 1.4098, Train Acc: 0.2773, Val Loss: 1.3671, Val Acc: 0.2578\n",
      "GPU Memory: 0.87GB / 42.47GB\n"
     ]
    },
    {
     "output_type": "stream",
     "name": "stderr",
     "text": [
      "<ipython-input-1-75da44eaa892>:313: FutureWarning: `torch.cuda.amp.GradScaler(args...)` is deprecated. Please use `torch.amp.GradScaler('cuda', args...)` instead.\n",
      "  scaler = amp.GradScaler()\n",
      "Training:   0%|          | 0/32 [00:00<?, ?it/s]<ipython-input-1-75da44eaa892>:230: FutureWarning: `torch.cuda.amp.autocast(args...)` is deprecated. Please use `torch.amp.autocast('cuda', args...)` instead.\n",
      "  with amp.autocast():\n",
      "Training: 100%|██████████| 32/32 [00:29<00:00,  1.08it/s]\n",
      "<ipython-input-1-75da44eaa892>:256: FutureWarning: `torch.cuda.amp.autocast(args...)` is deprecated. Please use `torch.amp.autocast('cuda', args...)` instead.\n",
      "  with torch.no_grad(), amp.autocast():\n",
      "Validating: 100%|██████████| 8/8 [00:07<00:00,  1.04it/s]\n",
      "[I 2025-03-20 06:03:50,812] Trial 18 pruned. \n"
     ]
    },
    {
     "output_type": "stream",
     "name": "stdout",
     "text": [
      "Epoch 1, Train Loss: 1.3473, Train Acc: 0.3574, Val Loss: 1.2142, Val Acc: 0.5391\n",
      "GPU Memory: 0.87GB / 42.47GB\n"
     ]
    },
    {
     "output_type": "stream",
     "name": "stderr",
     "text": [
      "<ipython-input-1-75da44eaa892>:313: FutureWarning: `torch.cuda.amp.GradScaler(args...)` is deprecated. Please use `torch.amp.GradScaler('cuda', args...)` instead.\n",
      "  scaler = amp.GradScaler()\n",
      "Training:   0%|          | 0/32 [00:00<?, ?it/s]<ipython-input-1-75da44eaa892>:230: FutureWarning: `torch.cuda.amp.autocast(args...)` is deprecated. Please use `torch.amp.autocast('cuda', args...)` instead.\n",
      "  with amp.autocast():\n",
      "Training: 100%|██████████| 32/32 [00:29<00:00,  1.08it/s]\n",
      "<ipython-input-1-75da44eaa892>:256: FutureWarning: `torch.cuda.amp.autocast(args...)` is deprecated. Please use `torch.amp.autocast('cuda', args...)` instead.\n",
      "  with torch.no_grad(), amp.autocast():\n",
      "Validating: 100%|██████████| 8/8 [00:07<00:00,  1.04it/s]\n"
     ]
    },
    {
     "output_type": "stream",
     "name": "stdout",
     "text": [
      "Epoch 1, Train Loss: 1.2621, Train Acc: 0.4316, Val Loss: 0.9051, Val Acc: 0.6797\n",
      "GPU Memory: 0.87GB / 42.47GB\n"
     ]
    },
    {
     "output_type": "stream",
     "name": "stderr",
     "text": [
      "Training: 100%|██████████| 32/32 [00:25<00:00,  1.23it/s]\n",
      "Validating: 100%|██████████| 8/8 [00:00<00:00, 61.47it/s]\n",
      "[I 2025-03-20 06:06:15,165] Trial 19 pruned. \n"
     ]
    },
    {
     "output_type": "stream",
     "name": "stdout",
     "text": [
      "Epoch 2, Train Loss: 0.9275, Train Acc: 0.6426, Val Loss: 0.6732, Val Acc: 0.7812\n",
      "GPU Memory: 0.87GB / 42.47GB\n"
     ]
    },
    {
     "output_type": "stream",
     "name": "stderr",
     "text": [
      "<ipython-input-1-75da44eaa892>:313: FutureWarning: `torch.cuda.amp.GradScaler(args...)` is deprecated. Please use `torch.amp.GradScaler('cuda', args...)` instead.\n",
      "  scaler = amp.GradScaler()\n",
      "Training:   0%|          | 0/8 [00:00<?, ?it/s]<ipython-input-1-75da44eaa892>:230: FutureWarning: `torch.cuda.amp.autocast(args...)` is deprecated. Please use `torch.amp.autocast('cuda', args...)` instead.\n",
      "  with amp.autocast():\n",
      "Training: 100%|██████████| 8/8 [00:29<00:00,  3.72s/it]\n",
      "<ipython-input-1-75da44eaa892>:256: FutureWarning: `torch.cuda.amp.autocast(args...)` is deprecated. Please use `torch.amp.autocast('cuda', args...)` instead.\n",
      "  with torch.no_grad(), amp.autocast():\n",
      "Validating: 100%|██████████| 2/2 [00:28<00:00, 14.43s/it]\n",
      "[I 2025-03-20 06:07:14,406] Trial 20 pruned. \n"
     ]
    },
    {
     "output_type": "stream",
     "name": "stdout",
     "text": [
      "Epoch 1, Train Loss: 1.4247, Train Acc: 0.2910, Val Loss: 1.2315, Val Acc: 0.5469\n",
      "GPU Memory: 0.87GB / 42.47GB\n"
     ]
    },
    {
     "output_type": "stream",
     "name": "stderr",
     "text": [
      "<ipython-input-1-75da44eaa892>:313: FutureWarning: `torch.cuda.amp.GradScaler(args...)` is deprecated. Please use `torch.amp.GradScaler('cuda', args...)` instead.\n",
      "  scaler = amp.GradScaler()\n",
      "Training:   0%|          | 0/32 [00:00<?, ?it/s]<ipython-input-1-75da44eaa892>:230: FutureWarning: `torch.cuda.amp.autocast(args...)` is deprecated. Please use `torch.amp.autocast('cuda', args...)` instead.\n",
      "  with amp.autocast():\n",
      "Training: 100%|██████████| 32/32 [00:29<00:00,  1.07it/s]\n",
      "<ipython-input-1-75da44eaa892>:256: FutureWarning: `torch.cuda.amp.autocast(args...)` is deprecated. Please use `torch.amp.autocast('cuda', args...)` instead.\n",
      "  with torch.no_grad(), amp.autocast():\n",
      "Validating: 100%|██████████| 8/8 [00:08<00:00,  1.01s/it]\n"
     ]
    },
    {
     "output_type": "stream",
     "name": "stdout",
     "text": [
      "Epoch 1, Train Loss: 1.1169, Train Acc: 0.5215, Val Loss: 0.7953, Val Acc: 0.6797\n",
      "GPU Memory: 0.11GB / 42.47GB\n"
     ]
    },
    {
     "output_type": "stream",
     "name": "stderr",
     "text": [
      "Training: 100%|██████████| 32/32 [00:26<00:00,  1.21it/s]\n",
      "Validating: 100%|██████████| 8/8 [00:00<00:00, 59.42it/s]\n"
     ]
    },
    {
     "output_type": "stream",
     "name": "stdout",
     "text": [
      "Epoch 2, Train Loss: 0.6833, Train Acc: 0.7422, Val Loss: 0.4800, Val Acc: 0.8438\n",
      "GPU Memory: 0.11GB / 42.47GB\n"
     ]
    },
    {
     "output_type": "stream",
     "name": "stderr",
     "text": [
      "Training: 100%|██████████| 32/32 [00:23<00:00,  1.37it/s]\n",
      "Validating: 100%|██████████| 8/8 [00:00<00:00, 62.52it/s]\n"
     ]
    },
    {
     "output_type": "stream",
     "name": "stdout",
     "text": [
      "Epoch 3, Train Loss: 0.5843, Train Acc: 0.7910, Val Loss: 0.4113, Val Acc: 0.8516\n",
      "GPU Memory: 0.11GB / 42.47GB\n"
     ]
    },
    {
     "output_type": "stream",
     "name": "stderr",
     "text": [
      "Training: 100%|██████████| 32/32 [00:23<00:00,  1.36it/s]\n",
      "Validating: 100%|██████████| 8/8 [00:00<00:00, 60.32it/s]\n"
     ]
    },
    {
     "output_type": "stream",
     "name": "stdout",
     "text": [
      "Epoch 4, Train Loss: 0.5609, Train Acc: 0.7871, Val Loss: 0.4467, Val Acc: 0.8203\n",
      "GPU Memory: 0.11GB / 42.47GB\n"
     ]
    },
    {
     "output_type": "stream",
     "name": "stderr",
     "text": [
      "Training: 100%|██████████| 32/32 [00:17<00:00,  1.82it/s]\n",
      "Validating: 100%|██████████| 8/8 [00:00<00:00, 61.66it/s]\n"
     ]
    },
    {
     "output_type": "stream",
     "name": "stdout",
     "text": [
      "Epoch 5, Train Loss: 0.4696, Train Acc: 0.8301, Val Loss: 0.3225, Val Acc: 0.8984\n",
      "GPU Memory: 0.11GB / 42.47GB\n"
     ]
    },
    {
     "output_type": "stream",
     "name": "stderr",
     "text": [
      "Training: 100%|██████████| 32/32 [00:17<00:00,  1.80it/s]\n",
      "Validating: 100%|██████████| 8/8 [00:00<00:00, 67.43it/s]\n"
     ]
    },
    {
     "output_type": "stream",
     "name": "stdout",
     "text": [
      "Epoch 6, Train Loss: 0.4958, Train Acc: 0.8145, Val Loss: 0.3497, Val Acc: 0.8594\n",
      "GPU Memory: 0.11GB / 42.47GB\n"
     ]
    },
    {
     "output_type": "stream",
     "name": "stderr",
     "text": [
      "Training: 100%|██████████| 32/32 [00:14<00:00,  2.26it/s]\n",
      "Validating: 100%|██████████| 8/8 [00:00<00:00, 61.65it/s]\n"
     ]
    },
    {
     "output_type": "stream",
     "name": "stdout",
     "text": [
      "Epoch 7, Train Loss: 0.4357, Train Acc: 0.8145, Val Loss: 0.3154, Val Acc: 0.8750\n",
      "GPU Memory: 0.11GB / 42.47GB\n"
     ]
    },
    {
     "output_type": "stream",
     "name": "stderr",
     "text": [
      "Training: 100%|██████████| 32/32 [00:14<00:00,  2.17it/s]\n",
      "Validating: 100%|██████████| 8/8 [00:00<00:00, 63.47it/s]\n"
     ]
    },
    {
     "output_type": "stream",
     "name": "stdout",
     "text": [
      "Epoch 8, Train Loss: 0.4081, Train Acc: 0.8516, Val Loss: 0.2830, Val Acc: 0.8984\n",
      "GPU Memory: 0.11GB / 42.47GB\n",
      "Early stopping at epoch 8\n"
     ]
    },
    {
     "output_type": "stream",
     "name": "stderr",
     "text": [
      "[I 2025-03-20 06:10:12,646] Trial 21 finished with value: 0.8984375 and parameters: {'batch_size': 16, 'learning_rate': 0.0009613058635014926, 'dropout_rate': 0.2269638821784545, 'weight_decay': 0.000923639946416986}. Best is trial 11 with value: 0.9140625.\n",
      "<ipython-input-1-75da44eaa892>:313: FutureWarning: `torch.cuda.amp.GradScaler(args...)` is deprecated. Please use `torch.amp.GradScaler('cuda', args...)` instead.\n",
      "  scaler = amp.GradScaler()\n",
      "Training:   0%|          | 0/32 [00:00<?, ?it/s]<ipython-input-1-75da44eaa892>:230: FutureWarning: `torch.cuda.amp.autocast(args...)` is deprecated. Please use `torch.amp.autocast('cuda', args...)` instead.\n",
      "  with amp.autocast():\n",
      "Training: 100%|██████████| 32/32 [00:29<00:00,  1.08it/s]\n",
      "<ipython-input-1-75da44eaa892>:256: FutureWarning: `torch.cuda.amp.autocast(args...)` is deprecated. Please use `torch.amp.autocast('cuda', args...)` instead.\n",
      "  with torch.no_grad(), amp.autocast():\n",
      "Validating: 100%|██████████| 8/8 [00:07<00:00,  1.04it/s]\n"
     ]
    },
    {
     "output_type": "stream",
     "name": "stdout",
     "text": [
      "Epoch 1, Train Loss: 1.1279, Train Acc: 0.5156, Val Loss: 0.7719, Val Acc: 0.7734\n",
      "GPU Memory: 0.11GB / 42.47GB\n"
     ]
    },
    {
     "output_type": "stream",
     "name": "stderr",
     "text": [
      "Training: 100%|██████████| 32/32 [00:26<00:00,  1.21it/s]\n",
      "Validating: 100%|██████████| 8/8 [00:00<00:00, 57.22it/s]\n"
     ]
    },
    {
     "output_type": "stream",
     "name": "stdout",
     "text": [
      "Epoch 2, Train Loss: 0.7533, Train Acc: 0.8027, Val Loss: 0.5679, Val Acc: 0.8516\n",
      "GPU Memory: 0.11GB / 42.47GB\n"
     ]
    },
    {
     "output_type": "stream",
     "name": "stderr",
     "text": [
      "Training: 100%|██████████| 32/32 [00:22<00:00,  1.39it/s]\n",
      "Validating: 100%|██████████| 8/8 [00:00<00:00, 68.65it/s]\n"
     ]
    },
    {
     "output_type": "stream",
     "name": "stdout",
     "text": [
      "Epoch 3, Train Loss: 0.6421, Train Acc: 0.7715, Val Loss: 0.4511, Val Acc: 0.8828\n",
      "GPU Memory: 0.11GB / 42.47GB\n"
     ]
    },
    {
     "output_type": "stream",
     "name": "stderr",
     "text": [
      "Training: 100%|██████████| 32/32 [00:21<00:00,  1.50it/s]\n",
      "Validating: 100%|██████████| 8/8 [00:00<00:00, 65.45it/s]\n"
     ]
    },
    {
     "output_type": "stream",
     "name": "stdout",
     "text": [
      "Epoch 4, Train Loss: 0.5735, Train Acc: 0.8105, Val Loss: 0.5103, Val Acc: 0.8203\n",
      "GPU Memory: 0.11GB / 42.47GB\n"
     ]
    },
    {
     "output_type": "stream",
     "name": "stderr",
     "text": [
      "Training: 100%|██████████| 32/32 [00:17<00:00,  1.88it/s]\n",
      "Validating: 100%|██████████| 8/8 [00:00<00:00, 69.40it/s]\n"
     ]
    },
    {
     "output_type": "stream",
     "name": "stdout",
     "text": [
      "Epoch 5, Train Loss: 0.5469, Train Acc: 0.8008, Val Loss: 0.3417, Val Acc: 0.8906\n",
      "GPU Memory: 0.11GB / 42.47GB\n"
     ]
    },
    {
     "output_type": "stream",
     "name": "stderr",
     "text": [
      "Training: 100%|██████████| 32/32 [00:17<00:00,  1.84it/s]\n",
      "Validating: 100%|██████████| 8/8 [00:00<00:00, 64.12it/s]\n"
     ]
    },
    {
     "output_type": "stream",
     "name": "stdout",
     "text": [
      "Epoch 6, Train Loss: 0.4855, Train Acc: 0.8594, Val Loss: 0.3497, Val Acc: 0.8906\n",
      "GPU Memory: 0.11GB / 42.47GB\n"
     ]
    },
    {
     "output_type": "stream",
     "name": "stderr",
     "text": [
      "Training: 100%|██████████| 32/32 [00:14<00:00,  2.21it/s]\n",
      "Validating: 100%|██████████| 8/8 [00:00<00:00, 65.04it/s]\n"
     ]
    },
    {
     "output_type": "stream",
     "name": "stdout",
     "text": [
      "Epoch 7, Train Loss: 0.4958, Train Acc: 0.8164, Val Loss: 0.3433, Val Acc: 0.8594\n",
      "GPU Memory: 0.11GB / 42.47GB\n"
     ]
    },
    {
     "output_type": "stream",
     "name": "stderr",
     "text": [
      "Training: 100%|██████████| 32/32 [00:12<00:00,  2.52it/s]\n",
      "Validating: 100%|██████████| 8/8 [00:00<00:00, 60.13it/s]\n"
     ]
    },
    {
     "output_type": "stream",
     "name": "stdout",
     "text": [
      "Epoch 8, Train Loss: 0.4953, Train Acc: 0.8164, Val Loss: 0.2750, Val Acc: 0.9062\n",
      "GPU Memory: 0.11GB / 42.47GB\n"
     ]
    },
    {
     "output_type": "stream",
     "name": "stderr",
     "text": [
      "Training: 100%|██████████| 32/32 [00:13<00:00,  2.41it/s]\n",
      "Validating: 100%|██████████| 8/8 [00:00<00:00, 65.07it/s]\n"
     ]
    },
    {
     "output_type": "stream",
     "name": "stdout",
     "text": [
      "Epoch 9, Train Loss: 0.4265, Train Acc: 0.8438, Val Loss: 0.3194, Val Acc: 0.8906\n",
      "GPU Memory: 0.11GB / 42.47GB\n"
     ]
    },
    {
     "output_type": "stream",
     "name": "stderr",
     "text": [
      "Training: 100%|██████████| 32/32 [00:10<00:00,  3.10it/s]\n",
      "Validating: 100%|██████████| 8/8 [00:00<00:00, 62.87it/s]\n",
      "[I 2025-03-20 06:13:28,865] Trial 22 finished with value: 0.90625 and parameters: {'batch_size': 16, 'learning_rate': 0.0006647232479168535, 'dropout_rate': 0.24660577671767406, 'weight_decay': 0.0007422790271685751}. Best is trial 11 with value: 0.9140625.\n"
     ]
    },
    {
     "output_type": "stream",
     "name": "stdout",
     "text": [
      "Epoch 10, Train Loss: 0.3891, Train Acc: 0.8633, Val Loss: 0.2894, Val Acc: 0.8984\n",
      "GPU Memory: 0.11GB / 42.47GB\n"
     ]
    },
    {
     "output_type": "stream",
     "name": "stderr",
     "text": [
      "<ipython-input-1-75da44eaa892>:313: FutureWarning: `torch.cuda.amp.GradScaler(args...)` is deprecated. Please use `torch.amp.GradScaler('cuda', args...)` instead.\n",
      "  scaler = amp.GradScaler()\n",
      "Training:   0%|          | 0/32 [00:00<?, ?it/s]<ipython-input-1-75da44eaa892>:230: FutureWarning: `torch.cuda.amp.autocast(args...)` is deprecated. Please use `torch.amp.autocast('cuda', args...)` instead.\n",
      "  with amp.autocast():\n",
      "Training: 100%|██████████| 32/32 [00:29<00:00,  1.08it/s]\n",
      "<ipython-input-1-75da44eaa892>:256: FutureWarning: `torch.cuda.amp.autocast(args...)` is deprecated. Please use `torch.amp.autocast('cuda', args...)` instead.\n",
      "  with torch.no_grad(), amp.autocast():\n",
      "Validating: 100%|██████████| 8/8 [00:07<00:00,  1.05it/s]\n"
     ]
    },
    {
     "output_type": "stream",
     "name": "stdout",
     "text": [
      "Epoch 1, Train Loss: 1.1486, Train Acc: 0.5000, Val Loss: 0.8204, Val Acc: 0.8125\n",
      "GPU Memory: 0.11GB / 42.47GB\n"
     ]
    },
    {
     "output_type": "stream",
     "name": "stderr",
     "text": [
      "Training: 100%|██████████| 32/32 [00:26<00:00,  1.19it/s]\n",
      "Validating: 100%|██████████| 8/8 [00:00<00:00, 57.36it/s]\n"
     ]
    },
    {
     "output_type": "stream",
     "name": "stdout",
     "text": [
      "Epoch 2, Train Loss: 0.7965, Train Acc: 0.7539, Val Loss: 0.5879, Val Acc: 0.8906\n",
      "GPU Memory: 0.11GB / 42.47GB\n"
     ]
    },
    {
     "output_type": "stream",
     "name": "stderr",
     "text": [
      "Training: 100%|██████████| 32/32 [00:24<00:00,  1.30it/s]\n",
      "Validating: 100%|██████████| 8/8 [00:00<00:00, 63.38it/s]\n"
     ]
    },
    {
     "output_type": "stream",
     "name": "stdout",
     "text": [
      "Epoch 3, Train Loss: 0.6473, Train Acc: 0.7969, Val Loss: 0.4726, Val Acc: 0.8750\n",
      "GPU Memory: 0.11GB / 42.47GB\n"
     ]
    },
    {
     "output_type": "stream",
     "name": "stderr",
     "text": [
      "Training: 100%|██████████| 32/32 [00:21<00:00,  1.49it/s]\n",
      "Validating: 100%|██████████| 8/8 [00:00<00:00, 61.38it/s]\n"
     ]
    },
    {
     "output_type": "stream",
     "name": "stdout",
     "text": [
      "Epoch 4, Train Loss: 0.6035, Train Acc: 0.7832, Val Loss: 0.4294, Val Acc: 0.8594\n",
      "GPU Memory: 0.11GB / 42.47GB\n"
     ]
    },
    {
     "output_type": "stream",
     "name": "stderr",
     "text": [
      "Training: 100%|██████████| 32/32 [00:19<00:00,  1.65it/s]\n",
      "Validating: 100%|██████████| 8/8 [00:00<00:00, 59.17it/s]\n",
      "[I 2025-03-20 06:15:40,033] Trial 23 finished with value: 0.890625 and parameters: {'batch_size': 16, 'learning_rate': 0.0005873608772772286, 'dropout_rate': 0.27102701918709493, 'weight_decay': 0.0006206910438943317}. Best is trial 11 with value: 0.9140625.\n"
     ]
    },
    {
     "output_type": "stream",
     "name": "stdout",
     "text": [
      "Epoch 5, Train Loss: 0.5169, Train Acc: 0.8125, Val Loss: 0.3982, Val Acc: 0.8594\n",
      "GPU Memory: 0.11GB / 42.47GB\n",
      "Early stopping at epoch 5\n"
     ]
    },
    {
     "output_type": "stream",
     "name": "stderr",
     "text": [
      "<ipython-input-1-75da44eaa892>:313: FutureWarning: `torch.cuda.amp.GradScaler(args...)` is deprecated. Please use `torch.amp.GradScaler('cuda', args...)` instead.\n",
      "  scaler = amp.GradScaler()\n",
      "Training:   0%|          | 0/32 [00:00<?, ?it/s]<ipython-input-1-75da44eaa892>:230: FutureWarning: `torch.cuda.amp.autocast(args...)` is deprecated. Please use `torch.amp.autocast('cuda', args...)` instead.\n",
      "  with amp.autocast():\n",
      "Training: 100%|██████████| 32/32 [00:30<00:00,  1.06it/s]\n",
      "<ipython-input-1-75da44eaa892>:256: FutureWarning: `torch.cuda.amp.autocast(args...)` is deprecated. Please use `torch.amp.autocast('cuda', args...)` instead.\n",
      "  with torch.no_grad(), amp.autocast():\n",
      "Validating: 100%|██████████| 8/8 [00:07<00:00,  1.04it/s]\n",
      "[I 2025-03-20 06:16:18,499] Trial 24 pruned. \n"
     ]
    },
    {
     "output_type": "stream",
     "name": "stdout",
     "text": [
      "Epoch 1, Train Loss: 1.2933, Train Acc: 0.3770, Val Loss: 0.9537, Val Acc: 0.6484\n",
      "GPU Memory: 0.11GB / 42.47GB\n"
     ]
    },
    {
     "output_type": "stream",
     "name": "stderr",
     "text": [
      "<ipython-input-1-75da44eaa892>:313: FutureWarning: `torch.cuda.amp.GradScaler(args...)` is deprecated. Please use `torch.amp.GradScaler('cuda', args...)` instead.\n",
      "  scaler = amp.GradScaler()\n",
      "Training:   0%|          | 0/16 [00:00<?, ?it/s]<ipython-input-1-75da44eaa892>:230: FutureWarning: `torch.cuda.amp.autocast(args...)` is deprecated. Please use `torch.amp.autocast('cuda', args...)` instead.\n",
      "  with amp.autocast():\n",
      "Training: 100%|██████████| 16/16 [00:29<00:00,  1.86s/it]\n",
      "<ipython-input-1-75da44eaa892>:256: FutureWarning: `torch.cuda.amp.autocast(args...)` is deprecated. Please use `torch.amp.autocast('cuda', args...)` instead.\n",
      "  with torch.no_grad(), amp.autocast():\n",
      "Validating: 100%|██████████| 4/4 [00:15<00:00,  3.84s/it]\n"
     ]
    },
    {
     "output_type": "stream",
     "name": "stdout",
     "text": [
      "Epoch 1, Train Loss: 1.3321, Train Acc: 0.3672, Val Loss: 1.1791, Val Acc: 0.6641\n",
      "GPU Memory: 0.11GB / 42.47GB\n"
     ]
    },
    {
     "output_type": "stream",
     "name": "stderr",
     "text": [
      "Training: 100%|██████████| 16/16 [00:27<00:00,  1.69s/it]\n",
      "Validating: 100%|██████████| 4/4 [00:00<00:00, 30.01it/s]\n",
      "[I 2025-03-20 06:17:31,660] Trial 25 pruned. \n"
     ]
    },
    {
     "output_type": "stream",
     "name": "stdout",
     "text": [
      "Epoch 2, Train Loss: 1.1136, Train Acc: 0.5801, Val Loss: 0.9599, Val Acc: 0.7656\n",
      "GPU Memory: 0.11GB / 42.47GB\n"
     ]
    },
    {
     "output_type": "stream",
     "name": "stderr",
     "text": [
      "<ipython-input-1-75da44eaa892>:313: FutureWarning: `torch.cuda.amp.GradScaler(args...)` is deprecated. Please use `torch.amp.GradScaler('cuda', args...)` instead.\n",
      "  scaler = amp.GradScaler()\n",
      "Training:   0%|          | 0/2 [00:00<?, ?it/s]<ipython-input-1-75da44eaa892>:230: FutureWarning: `torch.cuda.amp.autocast(args...)` is deprecated. Please use `torch.amp.autocast('cuda', args...)` instead.\n",
      "  with amp.autocast():\n",
      "Training: 100%|██████████| 2/2 [01:56<00:00, 58.01s/it] \n",
      "<ipython-input-1-75da44eaa892>:256: FutureWarning: `torch.cuda.amp.autocast(args...)` is deprecated. Please use `torch.amp.autocast('cuda', args...)` instead.\n",
      "  with torch.no_grad(), amp.autocast():\n",
      "Validating: 100%|██████████| 1/1 [00:57<00:00, 57.21s/it]\n",
      "[I 2025-03-20 06:20:25,515] Trial 26 pruned. \n"
     ]
    },
    {
     "output_type": "stream",
     "name": "stdout",
     "text": [
      "Epoch 1, Train Loss: 1.4333, Train Acc: 0.2266, Val Loss: 1.3027, Val Acc: 0.4062\n",
      "GPU Memory: 0.11GB / 42.47GB\n"
     ]
    },
    {
     "output_type": "stream",
     "name": "stderr",
     "text": [
      "<ipython-input-1-75da44eaa892>:313: FutureWarning: `torch.cuda.amp.GradScaler(args...)` is deprecated. Please use `torch.amp.GradScaler('cuda', args...)` instead.\n",
      "  scaler = amp.GradScaler()\n",
      "Training:   0%|          | 0/32 [00:00<?, ?it/s]<ipython-input-1-75da44eaa892>:230: FutureWarning: `torch.cuda.amp.autocast(args...)` is deprecated. Please use `torch.amp.autocast('cuda', args...)` instead.\n",
      "  with amp.autocast():\n",
      "Training: 100%|██████████| 32/32 [00:29<00:00,  1.09it/s]\n",
      "<ipython-input-1-75da44eaa892>:256: FutureWarning: `torch.cuda.amp.autocast(args...)` is deprecated. Please use `torch.amp.autocast('cuda', args...)` instead.\n",
      "  with torch.no_grad(), amp.autocast():\n",
      "Validating: 100%|██████████| 8/8 [00:07<00:00,  1.04it/s]\n",
      "[I 2025-03-20 06:21:03,292] Trial 27 pruned. \n"
     ]
    },
    {
     "output_type": "stream",
     "name": "stdout",
     "text": [
      "Epoch 1, Train Loss: 1.1310, Train Acc: 0.5449, Val Loss: 0.8077, Val Acc: 0.5938\n",
      "GPU Memory: 0.11GB / 42.47GB\n"
     ]
    },
    {
     "output_type": "stream",
     "name": "stderr",
     "text": [
      "<ipython-input-1-75da44eaa892>:313: FutureWarning: `torch.cuda.amp.GradScaler(args...)` is deprecated. Please use `torch.amp.GradScaler('cuda', args...)` instead.\n",
      "  scaler = amp.GradScaler()\n",
      "Training:   0%|          | 0/32 [00:00<?, ?it/s]<ipython-input-1-75da44eaa892>:230: FutureWarning: `torch.cuda.amp.autocast(args...)` is deprecated. Please use `torch.amp.autocast('cuda', args...)` instead.\n",
      "  with amp.autocast():\n",
      "Training: 100%|██████████| 32/32 [00:29<00:00,  1.07it/s]\n",
      "<ipython-input-1-75da44eaa892>:256: FutureWarning: `torch.cuda.amp.autocast(args...)` is deprecated. Please use `torch.amp.autocast('cuda', args...)` instead.\n",
      "  with torch.no_grad(), amp.autocast():\n",
      "Validating: 100%|██████████| 8/8 [00:07<00:00,  1.05it/s]\n"
     ]
    },
    {
     "output_type": "stream",
     "name": "stdout",
     "text": [
      "Epoch 1, Train Loss: 1.1765, Train Acc: 0.4727, Val Loss: 0.6904, Val Acc: 0.8438\n",
      "GPU Memory: 0.11GB / 42.47GB\n"
     ]
    },
    {
     "output_type": "stream",
     "name": "stderr",
     "text": [
      "Training: 100%|██████████| 32/32 [00:26<00:00,  1.20it/s]\n",
      "Validating: 100%|██████████| 8/8 [00:00<00:00, 66.56it/s]\n"
     ]
    },
    {
     "output_type": "stream",
     "name": "stdout",
     "text": [
      "Epoch 2, Train Loss: 0.8199, Train Acc: 0.6738, Val Loss: 0.7716, Val Acc: 0.6797\n",
      "GPU Memory: 0.11GB / 42.47GB\n"
     ]
    },
    {
     "output_type": "stream",
     "name": "stderr",
     "text": [
      "Training: 100%|██████████| 32/32 [00:24<00:00,  1.31it/s]\n",
      "Validating: 100%|██████████| 8/8 [00:00<00:00, 59.19it/s]\n"
     ]
    },
    {
     "output_type": "stream",
     "name": "stdout",
     "text": [
      "Epoch 3, Train Loss: 0.6492, Train Acc: 0.7617, Val Loss: 0.5917, Val Acc: 0.7422\n",
      "GPU Memory: 0.11GB / 42.47GB\n"
     ]
    },
    {
     "output_type": "stream",
     "name": "stderr",
     "text": [
      "Training: 100%|██████████| 32/32 [00:20<00:00,  1.53it/s]\n",
      "Validating: 100%|██████████| 8/8 [00:00<00:00, 66.44it/s]\n"
     ]
    },
    {
     "output_type": "stream",
     "name": "stdout",
     "text": [
      "Epoch 4, Train Loss: 0.5652, Train Acc: 0.8066, Val Loss: 0.3447, Val Acc: 0.8828\n",
      "GPU Memory: 0.11GB / 42.47GB\n"
     ]
    },
    {
     "output_type": "stream",
     "name": "stderr",
     "text": [
      "Training: 100%|██████████| 32/32 [00:18<00:00,  1.69it/s]\n",
      "Validating: 100%|██████████| 8/8 [00:00<00:00, 65.24it/s]\n"
     ]
    },
    {
     "output_type": "stream",
     "name": "stdout",
     "text": [
      "Epoch 5, Train Loss: 0.4784, Train Acc: 0.8242, Val Loss: 0.3067, Val Acc: 0.8906\n",
      "GPU Memory: 0.11GB / 42.47GB\n"
     ]
    },
    {
     "output_type": "stream",
     "name": "stderr",
     "text": [
      "Training: 100%|██████████| 32/32 [00:17<00:00,  1.87it/s]\n",
      "Validating: 100%|██████████| 8/8 [00:00<00:00, 60.19it/s]\n"
     ]
    },
    {
     "output_type": "stream",
     "name": "stdout",
     "text": [
      "Epoch 6, Train Loss: 0.4833, Train Acc: 0.8281, Val Loss: 0.3740, Val Acc: 0.8516\n",
      "GPU Memory: 0.11GB / 42.47GB\n"
     ]
    },
    {
     "output_type": "stream",
     "name": "stderr",
     "text": [
      "Training: 100%|██████████| 32/32 [00:16<00:00,  1.91it/s]\n",
      "Validating: 100%|██████████| 8/8 [00:00<00:00, 63.53it/s]\n"
     ]
    },
    {
     "output_type": "stream",
     "name": "stdout",
     "text": [
      "Epoch 7, Train Loss: 0.5075, Train Acc: 0.8145, Val Loss: 0.2791, Val Acc: 0.9062\n",
      "GPU Memory: 0.11GB / 42.47GB\n"
     ]
    },
    {
     "output_type": "stream",
     "name": "stderr",
     "text": [
      "Training: 100%|██████████| 32/32 [00:14<00:00,  2.26it/s]\n",
      "Validating: 100%|██████████| 8/8 [00:00<00:00, 66.98it/s]\n"
     ]
    },
    {
     "output_type": "stream",
     "name": "stdout",
     "text": [
      "Epoch 8, Train Loss: 0.4001, Train Acc: 0.8535, Val Loss: 0.3576, Val Acc: 0.8516\n",
      "GPU Memory: 0.11GB / 42.47GB\n"
     ]
    },
    {
     "output_type": "stream",
     "name": "stderr",
     "text": [
      "Training: 100%|██████████| 32/32 [00:12<00:00,  2.58it/s]\n",
      "Validating: 100%|██████████| 8/8 [00:00<00:00, 62.69it/s]\n"
     ]
    },
    {
     "output_type": "stream",
     "name": "stdout",
     "text": [
      "Epoch 9, Train Loss: 0.4370, Train Acc: 0.8301, Val Loss: 0.3278, Val Acc: 0.8750\n",
      "GPU Memory: 0.11GB / 42.47GB\n"
     ]
    },
    {
     "output_type": "stream",
     "name": "stderr",
     "text": [
      "Training: 100%|██████████| 32/32 [00:12<00:00,  2.61it/s]\n",
      "Validating: 100%|██████████| 8/8 [00:00<00:00, 62.63it/s]\n",
      "[I 2025-03-20 06:24:26,986] Trial 28 finished with value: 0.90625 and parameters: {'batch_size': 16, 'learning_rate': 0.000978130147221582, 'dropout_rate': 0.2030056178890406, 'weight_decay': 0.0006717225828436389}. Best is trial 11 with value: 0.9140625.\n"
     ]
    },
    {
     "output_type": "stream",
     "name": "stdout",
     "text": [
      "Epoch 10, Train Loss: 0.4162, Train Acc: 0.8477, Val Loss: 0.3013, Val Acc: 0.8828\n",
      "GPU Memory: 0.11GB / 42.47GB\n",
      "Early stopping at epoch 10\n"
     ]
    },
    {
     "output_type": "stream",
     "name": "stderr",
     "text": [
      "<ipython-input-1-75da44eaa892>:313: FutureWarning: `torch.cuda.amp.GradScaler(args...)` is deprecated. Please use `torch.amp.GradScaler('cuda', args...)` instead.\n",
      "  scaler = amp.GradScaler()\n",
      "Training:   0%|          | 0/32 [00:00<?, ?it/s]<ipython-input-1-75da44eaa892>:230: FutureWarning: `torch.cuda.amp.autocast(args...)` is deprecated. Please use `torch.amp.autocast('cuda', args...)` instead.\n",
      "  with amp.autocast():\n",
      "Training: 100%|██████████| 32/32 [00:30<00:00,  1.06it/s]\n",
      "<ipython-input-1-75da44eaa892>:256: FutureWarning: `torch.cuda.amp.autocast(args...)` is deprecated. Please use `torch.amp.autocast('cuda', args...)` instead.\n",
      "  with torch.no_grad(), amp.autocast():\n",
      "Validating: 100%|██████████| 8/8 [00:07<00:00,  1.03it/s]\n"
     ]
    },
    {
     "output_type": "stream",
     "name": "stdout",
     "text": [
      "Epoch 1, Train Loss: 1.2440, Train Acc: 0.4551, Val Loss: 0.8908, Val Acc: 0.8672\n",
      "GPU Memory: 0.11GB / 42.47GB\n"
     ]
    },
    {
     "output_type": "stream",
     "name": "stderr",
     "text": [
      "Training: 100%|██████████| 32/32 [00:27<00:00,  1.18it/s]\n",
      "Validating: 100%|██████████| 8/8 [00:00<00:00, 57.00it/s]\n"
     ]
    },
    {
     "output_type": "stream",
     "name": "stdout",
     "text": [
      "Epoch 2, Train Loss: 0.9494, Train Acc: 0.6777, Val Loss: 0.6989, Val Acc: 0.8359\n",
      "GPU Memory: 0.11GB / 42.47GB\n"
     ]
    },
    {
     "output_type": "stream",
     "name": "stderr",
     "text": [
      "Training: 100%|██████████| 32/32 [00:24<00:00,  1.30it/s]\n",
      "Validating: 100%|██████████| 8/8 [00:00<00:00, 64.47it/s]\n"
     ]
    },
    {
     "output_type": "stream",
     "name": "stdout",
     "text": [
      "Epoch 3, Train Loss: 0.7844, Train Acc: 0.7598, Val Loss: 0.5336, Val Acc: 0.9062\n",
      "GPU Memory: 0.11GB / 42.47GB\n"
     ]
    },
    {
     "output_type": "stream",
     "name": "stderr",
     "text": [
      "Training: 100%|██████████| 32/32 [00:20<00:00,  1.54it/s]\n",
      "Validating: 100%|██████████| 8/8 [00:00<00:00, 68.15it/s]\n"
     ]
    },
    {
     "output_type": "stream",
     "name": "stdout",
     "text": [
      "Epoch 4, Train Loss: 0.7199, Train Acc: 0.7715, Val Loss: 0.4741, Val Acc: 0.8828\n",
      "GPU Memory: 0.11GB / 42.47GB\n"
     ]
    },
    {
     "output_type": "stream",
     "name": "stderr",
     "text": [
      "Training: 100%|██████████| 32/32 [00:21<00:00,  1.52it/s]\n",
      "Validating: 100%|██████████| 8/8 [00:00<00:00, 63.80it/s]\n"
     ]
    },
    {
     "output_type": "stream",
     "name": "stdout",
     "text": [
      "Epoch 5, Train Loss: 0.6364, Train Acc: 0.7871, Val Loss: 0.4614, Val Acc: 0.8281\n",
      "GPU Memory: 0.11GB / 42.47GB\n"
     ]
    },
    {
     "output_type": "stream",
     "name": "stderr",
     "text": [
      "Training: 100%|██████████| 32/32 [00:16<00:00,  1.97it/s]\n",
      "Validating: 100%|██████████| 8/8 [00:00<00:00, 60.32it/s]\n",
      "[I 2025-03-20 06:26:56,193] Trial 29 finished with value: 0.90625 and parameters: {'batch_size': 16, 'learning_rate': 0.0003926734714703202, 'dropout_rate': 0.37701456505165865, 'weight_decay': 0.00037911103176875935}. Best is trial 11 with value: 0.9140625.\n"
     ]
    },
    {
     "output_type": "stream",
     "name": "stdout",
     "text": [
      "Epoch 6, Train Loss: 0.5949, Train Acc: 0.8164, Val Loss: 0.3849, Val Acc: 0.8828\n",
      "GPU Memory: 0.11GB / 42.47GB\n",
      "Early stopping at epoch 6\n",
      "Best trial: 11\n",
      "Best validation accuracy: 0.9141\n",
      "Best hyperparameters: {'batch_size': 16, 'learning_rate': 0.0009481021821600904, 'dropout_rate': 0.24978834498282027, 'weight_decay': 0.0009440618324209578}\n",
      "Best model saved to /content/gdrive/My Drive/Projects/Multimodal/Datasets/corn-best_resnet50_model-256.pth\n"
     ]
    }
   ],
   "source": [
    "\"\"\"\n",
    "### Overview:\n",
    "This script is designed for training an image classification model using a fine-tuned ResNet-50, incorporating data preprocessing,\n",
    "augmentation, and hyperparameter optimization via Bayesian methods.\n",
    "\n",
    "### Key Steps:\n",
    "\n",
    "1. Label Encoding:\n",
    "   - Converts categorical labels from the dataset into numerical values.\n",
    "   - Saves the mapping dictionary (`label_to_idx.json`) to ensure consistency across datasets.\n",
    "\n",
    "2. Custom Dataset Class (`CornDataset`):\n",
    "   - Loads image paths and their corresponding labels from CSV files.\n",
    "   - Facilitates easy integration with PyTorch’s `DataLoader`.\n",
    "\n",
    "3. Data Augmentation:\n",
    "   - Applies random transformations (cropping, flipping, rotation, color jittering) to the training images.\n",
    "   - Aims to enhance model robustness and reduce overfitting.\n",
    "\n",
    "4. Model Setup (ResNet-50 Fine-tuning):\n",
    "   - Uses a pre-trained ResNet-50 as the feature extractor.\n",
    "   - Unfreezes the last few layers to allow fine-tuning.\n",
    "   - Replaces the final classification layer with a custom fully connected layer, including dropout for regularization.\n",
    "\n",
    "5. Bayesian Optimization (Optuna for Hyperparameter Tuning):\n",
    "   - Searches for the best hyperparameters to maximize validation accuracy.\n",
    "   - Tunable parameters include:\n",
    "     - **Batch size:** {16, 32, 64}\n",
    "     - **Learning rate:** Continuous range from 1e-5 to 1e-3\n",
    "     - **Dropout rate:** Continuous range from 0.2 to 0.7\n",
    "     - **Weight decay:** Continuous range from 1e-5 to 1e-3\n",
    "\n",
    "6. Training Process:\n",
    "   - Each trial runs for a maximum of **10 epochs**.\n",
    "   - Implements **early stopping** to halt training if validation accuracy plateaus.\n",
    "\n",
    "7. Model Selection & Saving:\n",
    "   - The best-performing model from all trials is saved as `best_resnet50_model.pth`.\n",
    "   - Ensures optimal performance on unseen data.\n",
    "\n",
    "This pipeline efficiently optimizes and fine-tunes the ResNet-50 model while leveraging Bayesian optimization for better hyperparameter selection.\n",
    "\"\"\"\n",
    "\n",
    "!pip install torch torchvision pandas pillow scikit-learn optuna tqdm\n",
    "import os\n",
    "import json\n",
    "import torch\n",
    "import torch.nn as nn\n",
    "import torch.optim as optim\n",
    "from torch.utils.data import Dataset, DataLoader\n",
    "from torchvision import models, transforms\n",
    "import pandas as pd\n",
    "from PIL import Image\n",
    "import numpy as np\n",
    "from sklearn.preprocessing import LabelEncoder\n",
    "import optuna\n",
    "from optuna.samplers import TPESampler\n",
    "from tqdm import tqdm\n",
    "import requests\n",
    "from io import BytesIO\n",
    "import torch.cuda.amp as amp  # Import for mixed precision training\n",
    "\n",
    "from google.colab import drive\n",
    "drive.mount('/content/gdrive')\n",
    "\n",
    "# Define paths\n",
    "absolute_path = \"/content/gdrive/My Drive/Projects/Multimodal/\"\n",
    "TRAIN_CSV = absolute_path + \"Datasets/Corn_train_set_256.csv\"\n",
    "VAL_CSV = absolute_path + \"Datasets/Corn_validation_set_256.csv\"\n",
    "LABEL_JSON = absolute_path + \"Datasets/corn-label_to_idx-256.json\"\n",
    "BEST_MODEL_PATH = absolute_path + \"Datasets/corn-best_resnet50_model-256.pth\"\n",
    "\n",
    "# Device configuration\n",
    "device = torch.device('cuda' if torch.cuda.is_available() else 'cpu')\n",
    "print(f\"Using device: {device}\")\n",
    "\n",
    "# Print GPU info\n",
    "if torch.cuda.is_available():\n",
    "    print(f\"GPU: {torch.cuda.get_device_name(0)}\")\n",
    "    print(f\"Memory Allocated: {torch.cuda.memory_allocated(0)/1e9:.2f} GB\")\n",
    "    print(f\"Memory Reserved: {torch.cuda.memory_reserved(0)/1e9:.2f} GB\")\n",
    "    print(f\"Total Memory: {torch.cuda.get_device_properties(0).total_memory/1e9:.2f} GB\")\n",
    "\n",
    "BATCH_SIZES = [16, 32, 64, 128, 256]\n",
    "NUM_WORKERS = 8\n",
    "PREFETCH_FACTOR = 2\n",
    "\n",
    "# Set up data prefetching and pinning\n",
    "torch.multiprocessing.set_sharing_strategy('file_system')\n",
    "torch.set_float32_matmul_precision('high')  # Use TF32 precision on A100\n",
    "\n",
    "# Prepare data downloading and caching\n",
    "class ImageCache:\n",
    "    def __init__(self, capacity=1000):\n",
    "        self.capacity = capacity\n",
    "        self.cache = {}\n",
    "\n",
    "    def get(self, url):\n",
    "        if url in self.cache:\n",
    "            return self.cache[url]\n",
    "\n",
    "        try:\n",
    "            response = requests.get(url)\n",
    "            image = Image.open(BytesIO(response.content)).convert('RGB')\n",
    "\n",
    "            # Keep cache size in check\n",
    "            if len(self.cache) >= self.capacity:\n",
    "                # Remove a random item\n",
    "                self.cache.pop(next(iter(self.cache)))\n",
    "\n",
    "            self.cache[url] = image\n",
    "            return image\n",
    "        except Exception as e:\n",
    "            print(f\"Error loading image from {url}: {e}\")\n",
    "            return Image.new('RGB', (224, 224), color='black')\n",
    "\n",
    "# Global image cache\n",
    "image_cache = ImageCache()\n",
    "\n",
    "# Custom Dataset with optimized loading\n",
    "class CornDataset(Dataset):\n",
    "    def __init__(self, csv_file, transform=None):\n",
    "        self.data = pd.read_csv(csv_file)\n",
    "        self.transform = transform\n",
    "\n",
    "        # Load the label encoding\n",
    "        with open(LABEL_JSON, 'r') as f:\n",
    "            self.label_to_idx = json.load(f)\n",
    "\n",
    "    def __len__(self):\n",
    "        return len(self.data)\n",
    "\n",
    "    def __getitem__(self, idx):\n",
    "        img_url = self.data.iloc[idx]['Image']\n",
    "        category = self.data.iloc[idx]['Category']\n",
    "\n",
    "        # Convert category to encoded label\n",
    "        label = self.label_to_idx[category]\n",
    "\n",
    "        # Load image from URL with caching\n",
    "        image = image_cache.get(img_url)\n",
    "\n",
    "        if self.transform:\n",
    "            image = self.transform(image)\n",
    "\n",
    "        return image, label\n",
    "\n",
    "# Function to create the dataset and dataloaders\n",
    "def create_data_loaders(batch_size):\n",
    "    # Define transformations\n",
    "    train_transform = transforms.Compose([\n",
    "        transforms.RandomResizedCrop(224),\n",
    "        transforms.RandomHorizontalFlip(),\n",
    "        transforms.RandomRotation(15),\n",
    "        transforms.ColorJitter(brightness=0.1, contrast=0.1, saturation=0.1),\n",
    "        transforms.ToTensor(),\n",
    "        transforms.Normalize([0.485, 0.456, 0.406], [0.229, 0.224, 0.225])\n",
    "    ])\n",
    "\n",
    "    val_transform = transforms.Compose([\n",
    "        transforms.Resize(256),\n",
    "        transforms.CenterCrop(224),\n",
    "        transforms.ToTensor(),\n",
    "        transforms.Normalize([0.485, 0.456, 0.406], [0.229, 0.224, 0.225])\n",
    "    ])\n",
    "\n",
    "    # Create datasets\n",
    "    train_dataset = CornDataset(TRAIN_CSV, transform=train_transform)\n",
    "    val_dataset = CornDataset(VAL_CSV, transform=val_transform)\n",
    "\n",
    "    # Create dataloaders with optimized settings\n",
    "    train_loader = DataLoader(\n",
    "        train_dataset,\n",
    "        batch_size=batch_size,\n",
    "        shuffle=True,\n",
    "        num_workers=NUM_WORKERS,\n",
    "        pin_memory=True,\n",
    "        prefetch_factor=PREFETCH_FACTOR,\n",
    "        persistent_workers=True\n",
    "    )\n",
    "\n",
    "    val_loader = DataLoader(\n",
    "        val_dataset,\n",
    "        batch_size=batch_size,\n",
    "        shuffle=False,\n",
    "        num_workers=NUM_WORKERS,\n",
    "        pin_memory=True,\n",
    "        prefetch_factor=PREFETCH_FACTOR,\n",
    "        persistent_workers=True\n",
    "    )\n",
    "\n",
    "    return train_loader, val_loader\n",
    "\n",
    "# Function to perform label encoding\n",
    "def perform_label_encoding():\n",
    "    train_data = pd.read_csv(TRAIN_CSV)\n",
    "    val_data = pd.read_csv(VAL_CSV)\n",
    "\n",
    "    # Combine all categories\n",
    "    all_categories = pd.concat([train_data['Category'], val_data['Category']]).unique()\n",
    "\n",
    "    # Create encoding\n",
    "    label_encoder = LabelEncoder()\n",
    "    label_encoder.fit(all_categories)\n",
    "\n",
    "    # Create label_to_idx dictionary\n",
    "    label_to_idx = {category: int(idx) for category, idx in zip(all_categories, label_encoder.transform(all_categories))}\n",
    "\n",
    "    # Save to json\n",
    "    with open(LABEL_JSON, 'w') as f:\n",
    "        json.dump(label_to_idx, f)\n",
    "\n",
    "    print(f\"Label encoding saved to {LABEL_JSON}\")\n",
    "    return len(label_to_idx)\n",
    "\n",
    "# Function to train for one epoch with mixed precision\n",
    "def train_epoch(model, loader, criterion, optimizer, device, scaler):\n",
    "    model.train()\n",
    "    running_loss = 0.0\n",
    "    correct = 0\n",
    "    total = 0\n",
    "\n",
    "    for inputs, labels in tqdm(loader, desc=\"Training\"):\n",
    "        inputs, labels = inputs.to(device, non_blocking=True), labels.to(device, non_blocking=True)\n",
    "\n",
    "        # Zero the parameter gradients\n",
    "        optimizer.zero_grad(set_to_none=True)  # More efficient than zero_grad()\n",
    "\n",
    "        # Forward pass with mixed precision\n",
    "        with amp.autocast():\n",
    "            outputs = model(inputs)\n",
    "            loss = criterion(outputs, labels)\n",
    "\n",
    "        # Backward and optimize with scaled gradients\n",
    "        scaler.scale(loss).backward()\n",
    "        scaler.step(optimizer)\n",
    "        scaler.update()\n",
    "\n",
    "        # Statistics\n",
    "        running_loss += loss.item() * inputs.size(0)\n",
    "        _, predicted = torch.max(outputs, 1)\n",
    "        total += labels.size(0)\n",
    "        correct += (predicted == labels).sum().item()\n",
    "\n",
    "    epoch_loss = running_loss / total\n",
    "    epoch_acc = correct / total\n",
    "    return epoch_loss, epoch_acc\n",
    "\n",
    "# Function to validate with mixed precision\n",
    "def validate(model, loader, criterion, device):\n",
    "    model.eval()\n",
    "    running_loss = 0.0\n",
    "    correct = 0\n",
    "    total = 0\n",
    "\n",
    "    with torch.no_grad(), amp.autocast():\n",
    "        for inputs, labels in tqdm(loader, desc=\"Validating\"):\n",
    "            inputs, labels = inputs.to(device, non_blocking=True), labels.to(device, non_blocking=True)\n",
    "\n",
    "            outputs = model(inputs)\n",
    "            loss = criterion(outputs, labels)\n",
    "\n",
    "            # Statistics\n",
    "            running_loss += loss.item() * inputs.size(0)\n",
    "            _, predicted = torch.max(outputs, 1)\n",
    "            total += labels.size(0)\n",
    "            correct += (predicted == labels).sum().item()\n",
    "\n",
    "    val_loss = running_loss / total\n",
    "    val_acc = correct / total\n",
    "    return val_loss, val_acc\n",
    "\n",
    "# Function to initialize the model\n",
    "def create_model(num_classes, dropout_rate=0.5):\n",
    "    # Load with higher performance settings\n",
    "    try:\n",
    "        model = models.resnet50(weights=models.ResNet50_Weights.IMAGENET1K_V1)\n",
    "    except:\n",
    "        model = models.resnet50(pretrained=True)\n",
    "\n",
    "    # Freeze early layers\n",
    "    for param in list(model.parameters())[:-4]:  # Freeze fewer layers\n",
    "        param.requires_grad = False\n",
    "\n",
    "    # Replace the final fully connected layer\n",
    "    num_ftrs = model.fc.in_features\n",
    "    model.fc = nn.Sequential(\n",
    "        nn.Dropout(dropout_rate),\n",
    "        nn.Linear(num_ftrs, num_classes)\n",
    "    )\n",
    "\n",
    "    # Use channels_last memory format for better performance on A100\n",
    "    model = model.to(device, memory_format=torch.channels_last)\n",
    "    return model\n",
    "\n",
    "# Objective function for Optuna\n",
    "def objective(trial, num_classes):\n",
    "    # Define hyperparameters to optimize\n",
    "    batch_size = trial.suggest_categorical('batch_size', BATCH_SIZES)\n",
    "    learning_rate = trial.suggest_float('learning_rate', 1e-5, 1e-3, log=True)\n",
    "    dropout_rate = trial.suggest_float('dropout_rate', 0.2, 0.7)\n",
    "    weight_decay = trial.suggest_float('weight_decay', 1e-5, 1e-3, log=True)\n",
    "\n",
    "    # Create model and dataloaders\n",
    "    model = create_model(num_classes, dropout_rate)\n",
    "    train_loader, val_loader = create_data_loaders(batch_size)\n",
    "\n",
    "    # Define loss function and optimizer\n",
    "    criterion = nn.CrossEntropyLoss()\n",
    "    optimizer = optim.AdamW(model.parameters(), lr=learning_rate, weight_decay=weight_decay)\n",
    "\n",
    "    # Create gradient scaler for mixed precision training\n",
    "    scaler = amp.GradScaler()\n",
    "\n",
    "    # Train for a few epochs\n",
    "    best_val_acc = 0\n",
    "    patience = 0\n",
    "    max_patience = 3\n",
    "\n",
    "    for epoch in range(10):  # Maximum 10 epochs per trial\n",
    "        train_loss, train_acc = train_epoch(model, train_loader, criterion, optimizer, device, scaler)\n",
    "        val_loss, val_acc = validate(model, val_loader, criterion, device)\n",
    "\n",
    "        print(f\"Epoch {epoch+1}, Train Loss: {train_loss:.4f}, Train Acc: {train_acc:.4f}, \"\n",
    "              f\"Val Loss: {val_loss:.4f}, Val Acc: {val_acc:.4f}\")\n",
    "\n",
    "        # Print GPU memory usage\n",
    "        if torch.cuda.is_available():\n",
    "            print(f\"GPU Memory: {torch.cuda.memory_allocated(0)/1e9:.2f}GB / {torch.cuda.get_device_properties(0).total_memory/1e9:.2f}GB\")\n",
    "\n",
    "        trial.report(val_acc, epoch)\n",
    "\n",
    "        # Handle pruning\n",
    "        if trial.should_prune():\n",
    "            raise optuna.exceptions.TrialPruned()\n",
    "\n",
    "        # Early stopping\n",
    "        if val_acc > best_val_acc:\n",
    "            best_val_acc = val_acc\n",
    "            patience = 0\n",
    "\n",
    "            # Save the current model as a checkpoint for this trial\n",
    "            trial_model_path = f\"trial_{trial.number}_model.pth\"\n",
    "            torch.save(model.state_dict(), trial_model_path)\n",
    "        else:\n",
    "            patience += 1\n",
    "            if patience >= max_patience:\n",
    "                print(f\"Early stopping at epoch {epoch+1}\")\n",
    "                break\n",
    "\n",
    "    return best_val_acc\n",
    "\n",
    "# Main function\n",
    "def main():\n",
    "    # Perform label encoding first\n",
    "    num_classes = perform_label_encoding()\n",
    "    print(f\"Number of classes: {num_classes}\")\n",
    "\n",
    "    # Create the optuna study with A100-optimized settings\n",
    "    study = optuna.create_study(direction='maximize', sampler=TPESampler())\n",
    "\n",
    "    # Run fewer trials but with more GPU utilization\n",
    "    n_trials = 30 # 10\n",
    "    print(f\"Running {n_trials} trials with larger batch sizes to maximize GPU usage\")\n",
    "\n",
    "    # Pass num_classes to objective function using a lambda function\n",
    "    study.optimize(lambda trial: objective(trial, num_classes), n_trials=n_trials)\n",
    "\n",
    "    # Get the best parameters\n",
    "    best_params = study.best_params\n",
    "    best_value = study.best_value\n",
    "    print(f\"Best trial: {study.best_trial.number}\")\n",
    "    print(f\"Best validation accuracy: {best_value:.4f}\")\n",
    "    print(f\"Best hyperparameters: {best_params}\")\n",
    "\n",
    "    # Load the best model from the best trial\n",
    "    best_model = create_model(num_classes, best_params['dropout_rate'])\n",
    "    best_model.load_state_dict(torch.load(f\"trial_{study.best_trial.number}_model.pth\"))\n",
    "\n",
    "    # Save the best model\n",
    "    torch.save(best_model.state_dict(), BEST_MODEL_PATH)\n",
    "    print(f\"Best model saved to {BEST_MODEL_PATH}\")\n",
    "\n",
    "    # Clean up trial model files\n",
    "    for trial in study.trials:\n",
    "        trial_model_path = f\"trial_{trial.number}_model.pth\"\n",
    "        if os.path.exists(trial_model_path):\n",
    "            os.remove(trial_model_path)\n",
    "\n",
    "if __name__ == \"__main__\":\n",
    "    main()"
   ]
  },
  {
   "cell_type": "markdown",
   "source": [
    "## Predictions Phase"
   ],
   "metadata": {
    "id": "E2TnucJDxCsy"
   }
  },
  {
   "cell_type": "code",
   "source": [
    "import torch\n",
    "import torch.nn as nn\n",
    "import torchvision.models as models\n",
    "import torchvision.transforms as transforms\n",
    "from torch.utils.data import Dataset, DataLoader\n",
    "from PIL import Image\n",
    "import pandas as pd\n",
    "import requests\n",
    "from io import BytesIO\n",
    "import json\n",
    "import logging\n",
    "import os\n",
    "import time\n",
    "from google.colab import drive\n",
    "drive.mount('/content/gdrive')\n",
    "\n",
    "# Setup logging\n",
    "logging.basicConfig(\n",
    "    level=logging.INFO,\n",
    "    format='%(asctime)s - %(levelname)s - %(message)s',\n",
    "    handlers=[\n",
    "        logging.FileHandler('prediction.log'),\n",
    "        logging.StreamHandler()\n",
    "    ]\n",
    ")\n",
    "logger = logging.getLogger(__name__)\n",
    "\n",
    "class TestImageDataset(Dataset):\n",
    "    \"\"\"Custom Dataset for loading test images\"\"\"\n",
    "    def __init__(self, csv_file, feature_col, transform=None):\n",
    "        self.data = pd.read_csv(csv_file)\n",
    "        self.feature_col = feature_col\n",
    "        self.transform = transform\n",
    "\n",
    "    def __len__(self):\n",
    "        return len(self.data)\n",
    "\n",
    "    def __getitem__(self, idx):\n",
    "        try:\n",
    "            img_url = self.data.iloc[idx][self.feature_col]\n",
    "\n",
    "            # Download and open image\n",
    "            response = requests.get(img_url, timeout=10)\n",
    "            if response.status_code != 200:\n",
    "                raise ValueError(f\"Failed to fetch image: HTTP {response.status_code}\")\n",
    "\n",
    "            img = Image.open(BytesIO(response.content)).convert('RGB')\n",
    "\n",
    "            if self.transform:\n",
    "                img = self.transform(img)\n",
    "\n",
    "            return img, idx\n",
    "\n",
    "        except Exception as e:\n",
    "            logger.error(f\"Error loading image at index {idx}: {str(e)}\")\n",
    "            raise\n",
    "\n",
    "def load_model_and_labels(model_path, label_to_idx_path):\n",
    "    \"\"\"Load the trained model and label mapping\"\"\"\n",
    "    try:\n",
    "        # Load label mapping\n",
    "        with open(label_to_idx_path, 'r') as f:\n",
    "            label_to_idx = json.load(f)\n",
    "\n",
    "        # Create inverse mapping\n",
    "        idx_to_label = {v: k for k, v in label_to_idx.items()}\n",
    "\n",
    "        # Initialize model\n",
    "        model = models.resnet50(weights=None)\n",
    "        model.fc = nn.Sequential(\n",
    "            nn.Dropout(0.5),\n",
    "            nn.Linear(model.fc.in_features, len(label_to_idx))\n",
    "        )\n",
    "\n",
    "        # Load trained weights\n",
    "        model.load_state_dict(torch.load(model_path))\n",
    "\n",
    "        return model, idx_to_label\n",
    "\n",
    "    except Exception as e:\n",
    "        logger.error(f\"Error loading model and labels: {str(e)}\")\n",
    "        raise\n",
    "\n",
    "def predict_images(test_set_path, model_path, label_to_idx_path, batch_size,\n",
    "                  prediction_col_name, output_path, feature_col='Image'):\n",
    "    \"\"\"\n",
    "    Make predictions on test images and save results\n",
    "\n",
    "    Parameters:\n",
    "    - test_set_path: path to test CSV file\n",
    "    - model_path: path to trained model weights\n",
    "    - label_to_idx_path: path to label mapping JSON\n",
    "    - batch_size: batch size for predictions\n",
    "    - prediction_col_name: name for the new predictions column\n",
    "    - output_path: path to save predictions CSV\n",
    "    - feature_col: name of column containing image URLs\n",
    "\n",
    "    Returns:\n",
    "    - result_df: DataFrame with predictions\n",
    "    - execution_time: Time taken for predictions in seconds\n",
    "    - prediction_cost: Cost of predictions based on execution time\n",
    "    \"\"\"\n",
    "    try:\n",
    "        # Start timing\n",
    "        start_time = time.time()\n",
    "\n",
    "        device = torch.device(\"cuda\" if torch.cuda.is_available() else \"cpu\")\n",
    "        logger.info(f\"Using device: {device}\")\n",
    "\n",
    "        # Load test data\n",
    "        test_df = pd.read_csv(test_set_path)\n",
    "        logger.info(f\"Loaded test set with {len(test_df)} images\")\n",
    "\n",
    "        # Create transforms for test images\n",
    "        test_transform = transforms.Compose([\n",
    "            transforms.Resize((224, 224)),  # Standard ResNet input size\n",
    "            transforms.ToTensor(),\n",
    "            transforms.Normalize(mean=[0.485, 0.456, 0.406],\n",
    "                              std=[0.229, 0.224, 0.225])\n",
    "        ])\n",
    "\n",
    "        # Create dataset and dataloader\n",
    "        test_dataset = TestImageDataset(test_set_path, feature_col, test_transform)\n",
    "        test_loader = DataLoader(test_dataset,\n",
    "                               batch_size=batch_size,\n",
    "                               shuffle=False,\n",
    "                               num_workers=4)\n",
    "\n",
    "        # Load model and label mapping\n",
    "        model, idx_to_label = load_model_and_labels(model_path, label_to_idx_path)\n",
    "        model = model.to(device)\n",
    "        model.eval()\n",
    "\n",
    "        # Make predictions\n",
    "        predictions = []\n",
    "        with torch.no_grad():\n",
    "            for batch_images, batch_indices in test_loader:\n",
    "                batch_images = batch_images.to(device)\n",
    "                outputs = model(batch_images)\n",
    "                _, predicted = torch.max(outputs.data, 1)\n",
    "\n",
    "                # Convert indices to labels\n",
    "                batch_predictions = [idx_to_label[idx.item()]\n",
    "                                  for idx in predicted]\n",
    "\n",
    "                # Store predictions with their indices\n",
    "                for idx, pred in zip(batch_indices, batch_predictions):\n",
    "                    predictions.append((idx.item(), pred))\n",
    "\n",
    "        # Sort predictions by index to maintain original order\n",
    "        predictions.sort(key=lambda x: x[0])\n",
    "        predicted_labels = [pred[1] for pred in predictions]\n",
    "\n",
    "        # Add predictions to dataframe\n",
    "        test_df[prediction_col_name] = predicted_labels\n",
    "\n",
    "        # Save results\n",
    "        test_df.to_csv(output_path, index=False)\n",
    "\n",
    "        # Calculate execution time and cost\n",
    "        execution_time = time.time() - start_time\n",
    "        prediction_cost = 0.000281392488 * execution_time\n",
    "\n",
    "        logger.info(f\"Predictions saved to {output_path}\")\n",
    "        logger.info(f\"Prediction time: {execution_time:.2f} seconds\")\n",
    "        logger.info(f\"Prediction cost: ${prediction_cost:.6f}\")\n",
    "\n",
    "        return test_df, execution_time, prediction_cost\n",
    "\n",
    "    except Exception as e:\n",
    "        logger.error(f\"Error in prediction pipeline: {str(e)}\")\n",
    "        raise\n",
    "\n",
    "absolute_path = \"/content/gdrive/My Drive/Projects/Multimodal/\"\n",
    "\n",
    "if __name__ == \"__main__\":\n",
    "    test_params = {\n",
    "        'test_set_path': absolute_path + 'Datasets/Corn_test_set_256.csv',\n",
    "        'model_path': absolute_path + 'Datasets/corn-best_resnet50_model-256.pth',\n",
    "        'label_to_idx_path': absolute_path + 'Datasets/corn-label_to_idx-256.json',\n",
    "        'batch_size': 16,\n",
    "        'prediction_col_name': 'ResNet50-Predictions-256-Bayesian-Optimization',\n",
    "        'output_path': absolute_path + 'Datasets/Corn-test_set_256_with_predictions.csv'\n",
    "    }\n",
    "\n",
    "    # Run predictions\n",
    "    result_df, execution_time, prediction_cost = predict_images(**test_params)\n",
    "\n",
    "    print(\"\\nPrediction Results Summary:\")\n",
    "    print(f\"Total prediction time: {execution_time:.2f} seconds\")\n",
    "    print(f\"Total prediction cost: ${prediction_cost:.6f}\")"
   ],
   "metadata": {
    "colab": {
     "base_uri": "https://localhost:8080/"
    },
    "id": "8eHXQjyjxHEA",
    "executionInfo": {
     "status": "ok",
     "timestamp": 1742452130557,
     "user_tz": -120,
     "elapsed": 24361,
     "user": {
      "displayName": "Konstantinos Roumeliotis",
      "userId": "17264923090131634662"
     }
    },
    "outputId": "16605972-9644-4d22-d2b0-4a2382bd8e56"
   },
   "execution_count": 2,
   "outputs": [
    {
     "output_type": "stream",
     "name": "stdout",
     "text": [
      "Drive already mounted at /content/gdrive; to attempt to forcibly remount, call drive.mount(\"/content/gdrive\", force_remount=True).\n",
      "\n",
      "Prediction Results Summary:\n",
      "Total prediction time: 23.09 seconds\n",
      "Total prediction cost: $0.006497\n"
     ]
    }
   ]
  },
  {
   "cell_type": "markdown",
   "source": [],
   "metadata": {
    "id": "E6X06e8et-4G"
   }
  }
 ]
}
